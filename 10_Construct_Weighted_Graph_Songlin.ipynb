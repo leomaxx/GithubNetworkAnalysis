{
 "cells": [
  {
   "cell_type": "code",
   "execution_count": 59,
   "metadata": {},
   "outputs": [],
   "source": [
    "import snap\n",
    "import pickle\n",
    "import collections\n",
    "import matplotlib.pyplot as plt\n",
    "import seaborn as sns\n",
    "\n",
    "from itertools import combinations\n",
    "\n",
    "%matplotlib inline"
   ]
  },
  {
   "cell_type": "code",
   "execution_count": 8,
   "metadata": {},
   "outputs": [],
   "source": [
    "with open('./data/2016_q1_data.pickle', 'rb') as picklefile:\n",
    "    q1d = pickle.load(picklefile)"
   ]
  },
  {
   "cell_type": "code",
   "execution_count": 100,
   "metadata": {
    "collapsed": true
   },
   "outputs": [],
   "source": [
    "def newman_weight(a, b, author_dict, project_dict):\n",
    "    common = author_dict[a].intersection(author_dict[b])\n",
    "    weight = 0\n",
    "    for project in common:\n",
    "        weight += 1.0/(len(project_dict[project])-1)\n",
    "    return weight"
   ]
  },
  {
   "cell_type": "code",
   "execution_count": 101,
   "metadata": {
    "collapsed": true
   },
   "outputs": [],
   "source": [
    "def construct_newman_graph(df):\n",
    "    author_dict = collections.defaultdict(set)\n",
    "    project_dict = collections.defaultdict(set)\n",
    "    weight_dict = collections.defaultdict(float)\n",
    "    edge_seen = set()\n",
    "    \n",
    "    for i in range(df.shape[0]):\n",
    "        project_dict[df.iloc[i,0]].add(df.iloc[i,1])\n",
    "        author_dict[df.iloc[i,1]].add(df.iloc[i,0])\n",
    "        \n",
    "    projects = df['project_id'].unique()\n",
    "    authors = df['author_id'].unique()\n",
    "    G = snap.TNEANet.New()\n",
    "    G.AddFltAttrE('weight')\n",
    "    \n",
    "    for author in authors:\n",
    "        G.AddNode(author)\n",
    "    for project in projects:\n",
    "        p_authors = list(project_dict[project])\n",
    "        edges = combinations(p_authors, 2)\n",
    "        for src_id, dst_id in edges:\n",
    "            if src_id > dst_id:\n",
    "                src_id, dst_id = dst_id, src_id\n",
    "            if (src_id, dst_id) not in edge_seen:\n",
    "                weight_dict[(src_id, dst_id)] = newman_weight(src_id, dst_id, author_dict, project_dict)\n",
    "    \n",
    "    i = 0\n",
    "    e_all = len(weight_dict.keys())\n",
    "    print 'Total edges to be processed:', e_all\n",
    "    print '------------------------------------'\n",
    "    for src_id, dst_id in weight_dict.keys():\n",
    "        i += 1\n",
    "        if i%100000 == 0:\n",
    "            print 'Processing edge', i\n",
    "        eid = G.AddEdge(src_id, dst_id)\n",
    "        G.AddFltAttrDatE(eid, weight_dict[(src_id, dst_id)], 'weight')\n",
    "    \n",
    "    \"\"\"\n",
    "    weight_dict = collections.defaultdict(float)\n",
    "    i = 0\n",
    "    e_all = G.getEdges()\n",
    "    print 'Total edges to be processed:', e_all\n",
    "    print '------------------------------------'\n",
    "    for edge in G.Edges():\n",
    "        i+=1\n",
    "        if i%100000 == 0:\n",
    "            print 'Processing edge', i\n",
    "        src_id = edge.GetSrcNId()\n",
    "        dst_id = edge.GetDstNId()\n",
    "        eid = edge.GetId()\n",
    "        weight = newman_weight(src_id, dst_id)\n",
    "        weight_dict[(src_id, dst_id)] = weight\n",
    "        G.AddFltAttrDatE(eid, weight, 'weight')\n",
    "        \"\"\"\n",
    "    return G, weight_dict"
   ]
  },
  {
   "cell_type": "code",
   "execution_count": 102,
   "metadata": {},
   "outputs": [
    {
     "name": "stdout",
     "output_type": "stream",
     "text": [
      "Total edges to be processed: 4214668\n",
      "------------------------------------\n",
      "Processing edge 100000\n",
      "Processing edge 200000\n",
      "Processing edge 300000\n",
      "Processing edge 400000\n",
      "Processing edge 500000\n",
      "Processing edge 600000\n",
      "Processing edge 700000\n",
      "Processing edge 800000\n",
      "Processing edge 900000\n",
      "Processing edge 1000000\n",
      "Processing edge 1100000\n",
      "Processing edge 1200000\n",
      "Processing edge 1300000\n",
      "Processing edge 1400000\n",
      "Processing edge 1500000\n",
      "Processing edge 1600000\n",
      "Processing edge 1700000\n",
      "Processing edge 1800000\n",
      "Processing edge 1900000\n",
      "Processing edge 2000000\n",
      "Processing edge 2100000\n",
      "Processing edge 2200000\n",
      "Processing edge 2300000\n",
      "Processing edge 2400000\n",
      "Processing edge 2500000\n",
      "Processing edge 2600000\n",
      "Processing edge 2700000\n",
      "Processing edge 2800000\n",
      "Processing edge 2900000\n",
      "Processing edge 3000000\n",
      "Processing edge 3100000\n",
      "Processing edge 3200000\n",
      "Processing edge 3300000\n",
      "Processing edge 3400000\n",
      "Processing edge 3500000\n",
      "Processing edge 3600000\n",
      "Processing edge 3700000\n",
      "Processing edge 3800000\n",
      "Processing edge 3900000\n",
      "Processing edge 4000000\n",
      "Processing edge 4100000\n",
      "Processing edge 4200000\n"
     ]
    }
   ],
   "source": [
    "G, weight_dict = construct_newman_graph(q1d)"
   ]
  },
  {
   "cell_type": "code",
   "execution_count": 103,
   "metadata": {
    "scrolled": true
   },
   "outputs": [
    {
     "data": {
      "image/png": "[encoded data removed]",
      "text/plain": [
       "<Figure size 432x288 with 1 Axes>"
      ]
     },
     "metadata": {
      "needs_background": "light"
     },
     "output_type": "display_data"
    }
   ],
   "source": [
    "plt.hist(weight_dict.values(), log=True);"
   ]
  },
  {
   "cell_type": "code",
   "execution_count": 104,
   "metadata": {
    "collapsed": true
   },
   "outputs": [],
   "source": [
    "FOut = snap.TFOut(\"./data/2016_q1_newman.graph\")\n",
    "G.Save(FOut)\n",
    "FOut.Flush()"
   ]
  },
  {
   "cell_type": "code",
   "execution_count": 112,
   "metadata": {},
   "outputs": [],
   "source": [
    "FIn = snap.TFIn(\"./data/2016_q1_newman.graph\")\n",
    "G2 = snap.TNEANet.Load(FIn)"
   ]
  },
  {
   "cell_type": "markdown",
   "metadata": {},
   "source": [
    "## Generate Graph for 2016 Q2"
   ]
  },
  {
   "cell_type": "code",
   "execution_count": 123,
   "metadata": {},
   "outputs": [],
   "source": [
    "with open('./data/2016_q2_data.pickle', 'rb') as picklefile:\n",
    "    q2d = pickle.load(picklefile)"
   ]
  },
  {
   "cell_type": "code",
   "execution_count": 125,
   "metadata": {},
   "outputs": [
    {
     "name": "stdout",
     "output_type": "stream",
     "text": [
      "Total edges to be processed: 3558879\n",
      "------------------------------------\n",
      "Processing edge 100000\n",
      "Processing edge 200000\n",
      "Processing edge 300000\n",
      "Processing edge 400000\n",
      "Processing edge 500000\n",
      "Processing edge 600000\n",
      "Processing edge 700000\n",
      "Processing edge 800000\n",
      "Processing edge 900000\n",
      "Processing edge 1000000\n",
      "Processing edge 1100000\n",
      "Processing edge 1200000\n",
      "Processing edge 1300000\n",
      "Processing edge 1400000\n",
      "Processing edge 1500000\n",
      "Processing edge 1600000\n",
      "Processing edge 1700000\n",
      "Processing edge 1800000\n",
      "Processing edge 1900000\n",
      "Processing edge 2000000\n",
      "Processing edge 2100000\n",
      "Processing edge 2200000\n",
      "Processing edge 2300000\n",
      "Processing edge 2400000\n",
      "Processing edge 2500000\n",
      "Processing edge 2600000\n",
      "Processing edge 2700000\n",
      "Processing edge 2800000\n",
      "Processing edge 2900000\n",
      "Processing edge 3000000\n",
      "Processing edge 3100000\n",
      "Processing edge 3200000\n",
      "Processing edge 3300000\n",
      "Processing edge 3400000\n",
      "Processing edge 3500000\n"
     ]
    }
   ],
   "source": [
    "G2, weight_dict2 = construct_newman_graph(q2d)"
   ]
  },
  {
   "cell_type": "code",
   "execution_count": 126,
   "metadata": {},
   "outputs": [
    {
     "data": {
      "image/png": "[encoded data removed]",
      "text/plain": [
       "<Figure size 432x288 with 1 Axes>"
      ]
     },
     "metadata": {
      "needs_background": "light"
     },
     "output_type": "display_data"
    }
   ],
   "source": [
    "plt.hist(weight_dict2.values(), log=True);"
   ]
  },
  {
   "cell_type": "code",
   "execution_count": 127,
   "metadata": {
    "collapsed": true
   },
   "outputs": [],
   "source": [
    "FOut = snap.TFOut(\"./data/2016_q2_newman.graph\")\n",
    "G2.Save(FOut)\n",
    "FOut.Flush()"
   ]
  },
  {
   "cell_type": "code",
   "execution_count": null,
   "metadata": {
    "collapsed": true
   },
   "outputs": [],
   "source": []
  },
  {
   "cell_type": "code",
   "execution_count": null,
   "metadata": {
    "collapsed": true
   },
   "outputs": [],
   "source": []
  },
  {
   "cell_type": "code",
   "execution_count": 122,
   "metadata": {},
   "outputs": [
    {
     "data": {
      "text/plain": [
       "-1"
      ]
     },
     "execution_count": 122,
     "metadata": {},
     "output_type": "execute_result"
    }
   ],
   "source": [
    "## Commands to check edge and edge weight\n",
    "FIn = snap.TFIn(\"./data/weight3-adjusted.graph\")\n",
    "Graph = snap.TNEANet.Load(FIn)\n",
    "Graph.GetEId(413520, 141895)\n",
    "Graph.GetFltAttrDatE(1364426, 'weight')"
   ]
  }
 ],
 "metadata": {
  "kernelspec": {
   "display_name": "Python (conda 2.7)",
   "language": "python",
   "name": "python27"
  },
  "language_info": {
   "codemirror_mode": {
    "name": "ipython",
    "version": 2
   },
   "file_extension": ".py",
   "mimetype": "text/x-python",
   "name": "python",
   "nbconvert_exporter": "python",
   "pygments_lexer": "ipython2",
   "version": "2.7.3"
  }
 },
 "nbformat": 4,
 "nbformat_minor": 2
}
