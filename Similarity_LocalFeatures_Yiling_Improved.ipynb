{
 "cells": [
  {
   "cell_type": "code",
   "execution_count": 44,
   "metadata": {},
   "outputs": [],
   "source": [
    "from IPython.lib import backgroundjobs as bg\n",
    "from tqdm import tqdm_notebook\n",
    "from itertools import combinations\n",
    "import pickle\n",
    "import collections"
   ]
  },
  {
   "cell_type": "markdown",
   "metadata": {},
   "source": [
    "## Local features: \n",
    "\n",
    "#### Method 1: Common Neighbors\n",
    "$$ CN(x,y) = \\sum\\nolimits_{z \\in |\\Gamma(x) \\cap \\Gamma(y)|} w(x,z) + w(y,z)$$\n",
    "\n",
    "#### Method 2: Jaccard Coefficients \n",
    "$$ JC(x,y) = \\sum\\nolimits_{z \\in |\\Gamma(x) \\cap \\Gamma(y)|} \\frac{w(x,z) + w(y,z)}{{\\sum\\nolimits_{a \\in \\Gamma(x)}}w(a,x) + {\\sum\\nolimits_{b \\in \\Gamma(y)}}w(b,y)}$$\n",
    "\n",
    "#### Method 3: Perferrential Attachment \n",
    "the probability that a new edge has node x as an endpoint is proportional to the its weights.\n",
    "$$ PA(x,y) = \\sum\\nolimits_{a \\in \\Gamma(x)} w(a,x) * \\sum\\nolimits_{b \\in \\Gamma(y)} w(b,y)$$\n",
    "\n",
    "#### Method 4:  Adamic-Adar Coefficient \n",
    "similar to Method 2, but it defines a higher importance to the common neighbors which have fewer neighbors.\n",
    "$$ AA(x,y) = \\sum\\nolimits_{z \\in |\\Gamma(x) \\cap \\Gamma(y)|} \\frac{w(x,z) + w(y,z)}{log (1+ {\\sum\\nolimits_{c \\in \\Gamma(z)}}w(a,x))}$$"
   ]
  },
  {
   "cell_type": "code",
   "execution_count": 39,
   "metadata": {},
   "outputs": [],
   "source": [
    "def common_neighbor(neighbours, pairs, weights, cache):    \n",
    "    for u, v in tqdm_notebook(pairs, mininterval=1):\n",
    "        if u > v:\n",
    "            u, v = v, u\n",
    "        if (u, v) not in cache:\n",
    "            neighbour = neighbours[u].intersection(neighbours[v])\n",
    "            if neighbour:\n",
    "                cache[(u, v)] = sum(weights[(u, n)] + weights[(v, n)] for n in neighbour)"
   ]
  },
  {
   "cell_type": "code",
   "execution_count": 52,
   "metadata": {},
   "outputs": [],
   "source": [
    "def jaccard_coefficient(neighbours, pairs, weights, sum_weights, cache):\n",
    "    for u, v in tqdm_notebook(pairs, mininterval=1):\n",
    "        if u > v:\n",
    "            u, v = v, u\n",
    "        if (u, v) not in cache:\n",
    "            neighbour = neighbours[u].intersection(neighbours[v])\n",
    "            sum_u = sum_weights[u]\n",
    "            sum_v = sum_weights[v]\n",
    "            if neighbour:\n",
    "                cache[(u, v)] = sum((weights[(u, n)] + weights[(v, n)])/(sum_u + sum_v) for n in neighbour)"
   ]
  },
  {
   "cell_type": "code",
   "execution_count": 48,
   "metadata": {},
   "outputs": [],
   "source": [
    "def prefer_attach(pairs, sum_weights, cache):\n",
    "    for u, v in tqdm_notebook(pairs, mininterval=1):\n",
    "        if u > v:\n",
    "            u, v = v, u\n",
    "        if (u, v) not in cache:\n",
    "            cache[(u, v)] = sum_weights[u] * sum_weights[v]"
   ]
  },
  {
   "cell_type": "markdown",
   "metadata": {},
   "source": [
    "### Import weights and neighbours representing weighted undirected graph\n",
    "Note: weights should be symmetric for the ease of subsequent computation\n",
    "to convert snap graph to neighbours dict:\n",
    "```\n",
    "def get_neighbours(node):\n",
    "    return set(node.GetNbrNId(i) for i in range(node.GetDeg()))\n",
    "neighbours={node.GetId():get_neighbours(node) for node in G.Nodes()}\n",
    "with open('./data/weight3-neighbours.pickle', 'wb') as picklefile:\n",
    "    pickle.dump(neighbours, picklefile)\n",
    "```"
   ]
  },
  {
   "cell_type": "code",
   "execution_count": null,
   "metadata": {},
   "outputs": [],
   "source": [
    "with open('./data/weight2-weights.pickle', 'rb') as picklefile:\n",
    "    weights = pickle.load(picklefile, encoding='latin1')\n",
    "with open('./data/weight2-neighbours.pickle', 'rb') as picklefile:\n",
    "    neighbours = pickle.load(picklefile, encoding='latin1')"
   ]
  },
  {
   "cell_type": "code",
   "execution_count": 14,
   "metadata": {},
   "outputs": [],
   "source": [
    "with open('./data/q1_4000_users.pickle', 'rb') as picklefile:\n",
    "    users = pickle.load(picklefile, encoding='latin1')"
   ]
  },
  {
   "cell_type": "code",
   "execution_count": 34,
   "metadata": {},
   "outputs": [],
   "source": [
    "pairs = list(combinations(users, 2)) # convert to list for nicer progress bar"
   ]
  },
  {
   "cell_type": "code",
   "execution_count": 45,
   "metadata": {},
   "outputs": [],
   "source": [
    "jobs = bg.BackgroundJobManager()"
   ]
  },
  {
   "cell_type": "code",
   "execution_count": 47,
   "metadata": {
    "scrolled": true
   },
   "outputs": [
    {
     "data": {
      "application/vnd.jupyter.widget-view+json": {
       "model_id": "ab70c1ddd9c14b8190f0ee72e261c20d",
       "version_major": 2,
       "version_minor": 0
      },
      "text/plain": [
       "HBox(children=(IntProgress(value=0, max=8542911), HTML(value='')))"
      ]
     },
     "metadata": {},
     "output_type": "display_data"
    },
    {
     "data": {
      "text/plain": [
       "<BackgroundJob #0: <function <lambda> at 0x1140c3d08>>"
      ]
     },
     "execution_count": 47,
     "metadata": {},
     "output_type": "execute_result"
    }
   ],
   "source": [
    "cn_cache = collections.defaultdict(float)\n",
    "jobs.new(lambda:common_neighbor(neighbours, pairs, weights, cn_cache))"
   ]
  },
  {
   "cell_type": "code",
   "execution_count": null,
   "metadata": {},
   "outputs": [],
   "source": [
    "with open('./data/weight2_cn.pickle', 'wb') as picklefile:\n",
    "    pickle.dump(cn_cache, picklefile)"
   ]
  },
  {
   "cell_type": "code",
   "execution_count": 41,
   "metadata": {},
   "outputs": [],
   "source": [
    "sum_weights = {user: sum(weights[(user,n)] for n in neighbours[user]) for user in users}"
   ]
  },
  {
   "cell_type": "code",
   "execution_count": 49,
   "metadata": {},
   "outputs": [
    {
     "data": {
      "text/plain": [
       "<BackgroundJob #2: <function <lambda> at 0x1051e7ae8>>"
      ]
     },
     "execution_count": 49,
     "metadata": {},
     "output_type": "execute_result"
    },
    {
     "data": {
      "application/vnd.jupyter.widget-view+json": {
       "model_id": "b556fd7daeea443ba8176dcf0a7d4a52",
       "version_major": 2,
       "version_minor": 0
      },
      "text/plain": [
       "HBox(children=(IntProgress(value=0, max=8542911), HTML(value='')))"
      ]
     },
     "metadata": {},
     "output_type": "display_data"
    }
   ],
   "source": [
    "pa_cache = collections.defaultdict(float)\n",
    "jobs.new(lambda:prefer_attach(pairs, sum_weights, pa_cache))"
   ]
  },
  {
   "cell_type": "code",
   "execution_count": 50,
   "metadata": {},
   "outputs": [],
   "source": [
    "with open('./data/weight2_pa.pickle', 'wb') as picklefile:\n",
    "    pickle.dump(pa_cache, picklefile)"
   ]
  },
  {
   "cell_type": "code",
   "execution_count": 53,
   "metadata": {},
   "outputs": [
    {
     "data": {
      "text/plain": [
       "<BackgroundJob #3: <function <lambda> at 0x1051e7f28>>"
      ]
     },
     "execution_count": 53,
     "metadata": {},
     "output_type": "execute_result"
    },
    {
     "data": {
      "application/vnd.jupyter.widget-view+json": {
       "model_id": "d3c6bc75fa584b2aab8fb675037c1cfc",
       "version_major": 2,
       "version_minor": 0
      },
      "text/plain": [
       "HBox(children=(IntProgress(value=0, max=8542911), HTML(value='')))"
      ]
     },
     "metadata": {},
     "output_type": "display_data"
    }
   ],
   "source": [
    "jaccard_cache = collections.defaultdict(float)\n",
    "jobs.new(lambda:jaccard_coefficient(neighbours, pairs, weights, sum_weights, jaccard_cache))"
   ]
  },
  {
   "cell_type": "code",
   "execution_count": null,
   "metadata": {},
   "outputs": [],
   "source": [
    "with open('./data/weight2_jaccard.pickle', 'wb') as picklefile:\n",
    "    pickle.dump(jaccard_cache, picklefile)"
   ]
  }
 ],
 "metadata": {
  "kernelspec": {
   "display_name": "Python 3",
   "language": "python",
   "name": "python3"
  },
  "language_info": {
   "codemirror_mode": {
    "name": "ipython",
    "version": 3
   },
   "file_extension": ".py",
   "mimetype": "text/x-python",
   "name": "python",
   "nbconvert_exporter": "python",
   "pygments_lexer": "ipython3",
   "version": "3.7.0"
  }
 },
 "nbformat": 4,
 "nbformat_minor": 2
}
