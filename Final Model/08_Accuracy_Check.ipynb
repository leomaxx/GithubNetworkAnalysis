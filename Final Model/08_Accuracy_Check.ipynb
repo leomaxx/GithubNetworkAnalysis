{
 "cells": [
  {
   "cell_type": "code",
   "execution_count": 1,
   "metadata": {},
   "outputs": [
    {
     "name": "stderr",
     "output_type": "stream",
     "text": [
      "/Users/songlin/anaconda2/envs/Python35/lib/python3.5/importlib/_bootstrap.py:222: RuntimeWarning: numpy.dtype size changed, may indicate binary incompatibility. Expected 96, got 88\n",
      "  return f(*args, **kwds)\n",
      "/Users/songlin/anaconda2/envs/Python35/lib/python3.5/importlib/_bootstrap.py:222: RuntimeWarning: numpy.dtype size changed, may indicate binary incompatibility. Expected 96, got 88\n",
      "  return f(*args, **kwds)\n",
      "/Users/songlin/anaconda2/envs/Python35/lib/python3.5/importlib/_bootstrap.py:222: RuntimeWarning: numpy.dtype size changed, may indicate binary incompatibility. Expected 96, got 88\n",
      "  return f(*args, **kwds)\n",
      "/Users/songlin/anaconda2/envs/Python35/lib/python3.5/importlib/_bootstrap.py:222: RuntimeWarning: numpy.dtype size changed, may indicate binary incompatibility. Expected 96, got 88\n",
      "  return f(*args, **kwds)\n"
     ]
    }
   ],
   "source": [
    "import pickle\n",
    "import random\n",
    "from sklearn import metrics\n",
    "from collections import defaultdict"
   ]
  },
  {
   "cell_type": "markdown",
   "metadata": {},
   "source": [
    "## Load the ground truths data (Edge statistics)\n",
    "Note the edge weights are symmetric"
   ]
  },
  {
   "cell_type": "code",
   "execution_count": 2,
   "metadata": {
    "collapsed": true
   },
   "outputs": [],
   "source": [
    "def loadfile(path):\n",
    "    with open(path,'rb') as picklefile:\n",
    "        file = pickle.load(picklefile, encoding='latin1')\n",
    "    return file"
   ]
  },
  {
   "cell_type": "code",
   "execution_count": 3,
   "metadata": {
    "collapsed": true
   },
   "outputs": [],
   "source": [
    "q1 = loadfile('./data/2016_q1_newman-weights_kcore.pickle')\n",
    "q2 = loadfile('./data/2016_q2_newman-weights_kcore.pickle')\n",
    "q1_cci = loadfile('./data/2016_q1_cci-weights_kcore.pickle')\n",
    "\n",
    "q1_cci_dict = defaultdict(float) # convert to dict for consistency\n",
    "for item in q1_cci:\n",
    "    q1_cci_dict[item[0]] = item[1]"
   ]
  },
  {
   "cell_type": "markdown",
   "metadata": {},
   "source": [
    "## Define the accuracy functions"
   ]
  },
  {
   "cell_type": "code",
   "execution_count": 8,
   "metadata": {
    "collapsed": true
   },
   "outputs": [],
   "source": [
    "def accuracy_helper(q1, q2):\n",
    "    q1_edges = set(list((u,v) for u,v in q1.keys() if u<v))\n",
    "    q2_edges = set(list((u,v) for u,v in q2.keys() if u<v))\n",
    "    n = len((set(q2_edges).difference(q1_edges))) # Number of new edges\n",
    "    print (\"Number of edges:\\nQ1:\", len(q1_edges), \"\\nQ2:\", len(q2_edges), '\\nNew Edges:',n)\n",
    "    return q1_edges, q2_edges, n"
   ]
  },
  {
   "cell_type": "code",
   "execution_count": 5,
   "metadata": {
    "collapsed": true
   },
   "outputs": [],
   "source": [
    "#random graph:\n",
    "def random_graph_accuracy(pa_score, q1_edges, q2_edges, n):\n",
    "    q1_new = list(set(list(pa_score.keys())).difference(set(list(q1_edges))))\n",
    "    rand_pair = random.sample(q1_new, n)\n",
    "    k = list(set(rand_pair).intersection(q2_edges))\n",
    "    acc_rand = len(k)*1.0 / n\n",
    "    print (\"Random Graph Accuracy:\", acc_rand)\n",
    "    return acc_rand   "
   ]
  },
  {
   "cell_type": "code",
   "execution_count": 6,
   "metadata": {
    "collapsed": true
   },
   "outputs": [],
   "source": [
    "#find the ranked list for q2_new\n",
    "def check_accuracy(score, pa_score, q1_edges, q2_edges, n, reverse=True):\n",
    "    #n = len((set(q2_edges).difference(q1_edges))) # Number of new edges\n",
    "    q1_new = list(set(list(score.keys())).difference(set(list(q1_edges))))\n",
    "    new = {(e[0],e[1]): score[(e[0],e[1])] for e in q1_new}\n",
    "    sorted_pair = sorted(new.items(), key=lambda x: x[1],reverse = reverse)[:n] #top n pairs\n",
    "    rank = list(set([i[0] for i in sorted_pair]).intersection(q2_edges)) \n",
    "    accuracy = len(rank)*1.0/n\n",
    "    \n",
    "    pairs = pa_score.keys()\n",
    "    truth = [edge in q2_edges for edge in pairs]\n",
    "    scores = [score[edge] for edge in pairs]\n",
    "    fpr, tpr, thres = metrics.roc_curve(truth,scores)\n",
    "    auc = metrics.auc(fpr,tpr)\n",
    "    \n",
    "    print (accuracy, auc)\n",
    "    return accuracy, auc"
   ]
  },
  {
   "cell_type": "code",
   "execution_count": 25,
   "metadata": {},
   "outputs": [
    {
     "data": {
      "text/plain": [
       "4658878"
      ]
     },
     "execution_count": 25,
     "metadata": {},
     "output_type": "execute_result"
    }
   ],
   "source": [
    "len(nm_pa)"
   ]
  },
  {
   "cell_type": "code",
   "execution_count": 46,
   "metadata": {},
   "outputs": [
    {
     "name": "stdout",
     "output_type": "stream",
     "text": [
      "Number of edges:\n",
      "Q1: 529154 \n",
      "Q2: 217525 \n",
      "New Edges: 26971\n"
     ]
    }
   ],
   "source": [
    "q1_edges, q2_edges, n = accuracy_helper(q1_cci_dict, q2)"
   ]
  },
  {
   "cell_type": "code",
   "execution_count": null,
   "metadata": {
    "collapsed": true
   },
   "outputs": [],
   "source": [
    "def check_accuracy(score, pa_score, q1_edges, q2_edges, n, reverse=True):\n",
    "    pairs = pa_score.keys()\n",
    "    truth = [edge in q2_edges for edge in pairs]\n",
    "    scores = [score[edge] for edge in pairs]\n",
    "    fpr, tpr, thres = metrics.roc_curve(truth,scores)\n",
    "    auc = metrics.auc(fpr,tpr)\n",
    "    return accuracy, auc"
   ]
  },
  {
   "cell_type": "code",
   "execution_count": 27,
   "metadata": {},
   "outputs": [
    {
     "name": "stdout",
     "output_type": "stream",
     "text": [
      "Random Graph Accuracy: 0.006525527418338215\n"
     ]
    }
   ],
   "source": [
    "acc_rand = random_graph_accuracy(nm_pa, q1_edges, q2_edges, n)"
   ]
  },
  {
   "cell_type": "markdown",
   "metadata": {},
   "source": [
    "## Accuracy for newman scores"
   ]
  },
  {
   "cell_type": "code",
   "execution_count": 12,
   "metadata": {
    "collapsed": true
   },
   "outputs": [],
   "source": [
    "nm_cn = loadfile('./data/newman_cn_kcore.pickle')\n",
    "nm_aa = loadfile('./data/newman_adam_kcore.pickle')\n",
    "nm_jc = loadfile('./data/newman_jaccard_kcore.pickle')\n",
    "nm_pa = loadfile('./data/newman_pa_kcore.pickle')"
   ]
  },
  {
   "cell_type": "code",
   "execution_count": 14,
   "metadata": {},
   "outputs": [
    {
     "name": "stdout",
     "output_type": "stream",
     "text": [
      "0.18423491898706018 0.9556389221779336\n",
      "0.18842460420451596 0.9564058215178035\n",
      "0.16884802194950133 0.9491101755479732\n",
      "0.012754439954024694 0.6961445823526303\n"
     ]
    }
   ],
   "source": [
    "acc_nm_cn = check_accuracy(nm_cn, nm_pa, q1_edges, q2_edges, n)\n",
    "acc_nm_aa = check_accuracy(nm_aa, nm_pa, q1_edges, q2_edges, n)\n",
    "acc_nm_jc = check_accuracy(nm_jc, nm_pa, q1_edges, q2_edges, n)\n",
    "acc_nm_pa = check_accuracy(nm_pa, nm_pa, q1_edges, q2_edges, n)"
   ]
  },
  {
   "cell_type": "markdown",
   "metadata": {},
   "source": [
    "## Accuracy for unweighted scores"
   ]
  },
  {
   "cell_type": "code",
   "execution_count": 15,
   "metadata": {
    "collapsed": true
   },
   "outputs": [],
   "source": [
    "un_cn = loadfile('./data/sim_unweighted_cn.pickle')\n",
    "un_aa = loadfile('./data/sim_unweighted_aa.pickle')\n",
    "un_jc = loadfile('./data/sim_unweighted_jc.pickle')\n",
    "un_pa = loadfile('./data/sim_unweighted_pa.pickle')"
   ]
  },
  {
   "cell_type": "code",
   "execution_count": 16,
   "metadata": {},
   "outputs": [
    {
     "name": "stdout",
     "output_type": "stream",
     "text": [
      "0.1800081569092729 0.9485032959137065\n",
      "0.18011938749026732 0.9489987474730646\n",
      "0.17615216343480034 0.949247114847912\n",
      "0.1598383448889548 0.7829558269259316\n"
     ]
    }
   ],
   "source": [
    "acc_un_cn = check_accuracy(un_cn, nm_pa, q1_edges, q2_edges, n)\n",
    "acc_un_aa = check_accuracy(un_aa, nm_pa, q1_edges, q2_edges, n)\n",
    "acc_un_jc = check_accuracy(un_jc, nm_pa, q1_edges, q2_edges, n)\n",
    "acc_un_pa = check_accuracy(un_pa, nm_pa, q1_edges, q2_edges, n)"
   ]
  },
  {
   "cell_type": "markdown",
   "metadata": {},
   "source": [
    "## Accuracy for CCI scores"
   ]
  },
  {
   "cell_type": "code",
   "execution_count": 18,
   "metadata": {
    "collapsed": true
   },
   "outputs": [],
   "source": [
    "cci_aa = loadfile('./data/CII_adam.pickle')\n",
    "cci_pa = loadfile('./data/CII_pa.pickle')\n",
    "cci_cn = loadfile('./data/CII_cn.pickle')\n",
    "cci_jc = loadfile('./data/CII_jaccard.pickle')"
   ]
  },
  {
   "cell_type": "code",
   "execution_count": 19,
   "metadata": {},
   "outputs": [
    {
     "name": "stdout",
     "output_type": "stream",
     "text": [
      "0.1851989173556783 0.9525806300198585\n",
      "0.1854584553779986 0.9529804869784856\n",
      "0.1783396981943569 0.9501873510295702\n",
      "0.04445515553742909 0.7919096311862933\n"
     ]
    }
   ],
   "source": [
    "acc_cci_cn = check_accuracy(cci_cn, nm_pa, q1_edges, q2_edges, n)\n",
    "acc_cci_aa = check_accuracy(cci_aa, nm_pa, q1_edges, q2_edges, n)\n",
    "acc_cci_jc = check_accuracy(cci_jc, nm_pa, q1_edges, q2_edges, n)\n",
    "acc_cci_pa = check_accuracy(cci_pa, nm_pa, q1_edges, q2_edges, n)"
   ]
  },
  {
   "cell_type": "markdown",
   "metadata": {},
   "source": [
    "## Accuracy for Newman Katz"
   ]
  },
  {
   "cell_type": "code",
   "execution_count": 42,
   "metadata": {
    "collapsed": true
   },
   "outputs": [],
   "source": [
    "newman_katz_weighted_0_05 = loadfile('./data/newman_katz_weighted_0_05.pickle')\n",
    "newman_katz_weighted_0_005 = loadfile('./data/newman_katz_weighted_0_005.pickle')\n",
    "newman_katz_weighted_0_0005 = loadfile('./data/newman_katz_weighted_0_0005.pickle')\n",
    "newman_katz_weighted_0_00005 = loadfile('./data/newman_katz_weighted_0_00005.pickle')"
   ]
  },
  {
   "cell_type": "code",
   "execution_count": 47,
   "metadata": {},
   "outputs": [
    {
     "name": "stdout",
     "output_type": "stream",
     "text": [
      "0.13306885172963553 0.4094102540503908\n",
      "0.1657335656816581 0.9569792186661331\n",
      "0.16892217567016424 0.9560866677657379\n",
      "0.16884802194950133 0.9559671705674027\n"
     ]
    }
   ],
   "source": [
    "acc_newman_katz_weighted_0_05 = check_accuracy(newman_katz_weighted_0_05, nm_pa, q1_edges, q2_edges, n)\n",
    "acc_newman_katz_weighted_0_005 = check_accuracy(newman_katz_weighted_0_005, nm_pa, q1_edges, q2_edges, n)\n",
    "acc_newman_katz_weighted_0_0005 = check_accuracy(newman_katz_weighted_0_0005, nm_pa, q1_edges, q2_edges, n)\n",
    "acc_newman_katz_weighted_0_00005 = check_accuracy(newman_katz_weighted_0_00005, nm_pa, q1_edges, q2_edges, n)"
   ]
  },
  {
   "cell_type": "markdown",
   "metadata": {},
   "source": [
    "## Accuracy for the unweighted score"
   ]
  },
  {
   "cell_type": "code",
   "execution_count": 44,
   "metadata": {
    "collapsed": true
   },
   "outputs": [],
   "source": [
    "newman_katz_unweighted_0_05 = loadfile('./data/newman_katz_unweighted_0_05.pickle')\n",
    "newman_katz_unweighted_0_005 = loadfile('./data/newman_katz_unweighted_0_005.pickle')\n",
    "newman_katz_unweighted_0_0005 = loadfile('./data/newman_katz_unweighted_0_0005.pickle')\n",
    "newman_katz_unweighted_0_00005 = loadfile('./data/newman_katz_unweighted_0_00005.pickle')"
   ]
  },
  {
   "cell_type": "code",
   "execution_count": 50,
   "metadata": {},
   "outputs": [
    {
     "name": "stdout",
     "output_type": "stream",
     "text": [
      "0.09232138222535316 0.38984587235314355\n",
      "0.1248748655963813 0.3880018971517685\n",
      "0.17926661970264357 0.9518566951156596\n",
      "0.16884802194950133 0.9559671705674027\n"
     ]
    }
   ],
   "source": [
    "acc_newman_katz_unweighted_0_05 = check_accuracy(newman_katz_unweighted_0_05, nm_pa, q1_edges, q2_edges, n)\n",
    "acc_newman_katz_unweighted_0_005 = check_accuracy(newman_katz_unweighted_0_005, nm_pa, q1_edges, q2_edges, n)\n",
    "acc_newman_katz_unweighted_0_0005 = check_accuracy(newman_katz_unweighted_0_0005, nm_pa, q1_edges, q2_edges, n)\n",
    "acc_newman_katz_weighted_0_00005 = check_accuracy(newman_katz_weighted_0_00005, nm_pa, q1_edges, q2_edges, n)"
   ]
  },
  {
   "cell_type": "markdown",
   "metadata": {},
   "source": [
    "## Accuracy for the CCI Katz"
   ]
  },
  {
   "cell_type": "code",
   "execution_count": 51,
   "metadata": {
    "collapsed": true
   },
   "outputs": [],
   "source": [
    "cci_katz_weighted_0_05 = loadfile('./data/cci_katz_weighted_0_05.pickle')\n",
    "cci_katz_weighted_0_005 = loadfile('./data/cci_katz_weighted_0_005.pickle')\n",
    "cci_katz_weighted_0_0005 = loadfile('./data/cci_katz_weighted_0_0005.pickle')\n",
    "cci_katz_weighted_0_00005 = loadfile('./data/cci_katz_weighted_0_00005.pickle')"
   ]
  },
  {
   "cell_type": "code",
   "execution_count": 52,
   "metadata": {},
   "outputs": [
    {
     "name": "stdout",
     "output_type": "stream",
     "text": [
      "0.07137295613807423 0.4606457968983157\n",
      "0.15164435875570056 0.3471260948416254\n",
      "0.1201290274739535 0.3180959862258936\n",
      "0.18327092061844202 0.9613246701311938\n"
     ]
    }
   ],
   "source": [
    "acc_cci_katz_weighted_0_05 = check_accuracy(cci_katz_weighted_0_05, nm_pa, q1_edges, q2_edges, n)\n",
    "acc_cci_katz_weighted_0_005 = check_accuracy(cci_katz_weighted_0_005, nm_pa, q1_edges, q2_edges, n)\n",
    "acc_cci_katz_weighted_0_0005 = check_accuracy(cci_katz_weighted_0_0005, nm_pa, q1_edges, q2_edges, n)\n",
    "acc_cci_katz_weighted_0_00005 = check_accuracy(cci_katz_weighted_0_00005, nm_pa, q1_edges, q2_edges, n)"
   ]
  },
  {
   "cell_type": "markdown",
   "metadata": {},
   "source": [
    "## Check the node2vec"
   ]
  },
  {
   "cell_type": "code",
   "execution_count": 54,
   "metadata": {},
   "outputs": [],
   "source": [
    "n2v_un_p1_q1 = loadfile('./data/node2vec-unweighted-p1-q1-100-100.pickle')"
   ]
  },
  {
   "cell_type": "code",
   "execution_count": 55,
   "metadata": {},
   "outputs": [
    {
     "name": "stdout",
     "output_type": "stream",
     "text": [
      "0.10381520892810797 0.0839315672463188\n"
     ]
    }
   ],
   "source": [
    "acc_n2v_un_p1_q1 = check_accuracy(n2v_un_p1_q1, nm_pa, q1_edges, q2_edges, n, reverse=False)"
   ]
  },
  {
   "cell_type": "code",
   "execution_count": 57,
   "metadata": {
    "collapsed": true
   },
   "outputs": [],
   "source": [
    "n2v_p01_q10 = loadfile('./data/node2vec-weighted-p01-q10-100-100.pickle')\n",
    "n2v_p10_q10 = loadfile('./data/node2vec-weighted-p10-q10-100-100.pickle')\n",
    "n2v_p10_q01 = loadfile('./data/node2vec-weighted-p10-q01-100-100.pickle')\n",
    "n2v_p01_q01 = loadfile('./data/node2vec-weighted-p1-q1-100-100.pickle')"
   ]
  },
  {
   "cell_type": "code",
   "execution_count": 58,
   "metadata": {},
   "outputs": [
    {
     "name": "stdout",
     "output_type": "stream",
     "text": [
      "0.11304734715064328 0.07171991759984335\n",
      "0.12761855326090987 0.06253390604451038\n",
      "0.1282488598865448 0.06189715738078934\n",
      "0.12765563012124134 0.06217682162114988\n"
     ]
    }
   ],
   "source": [
    "acc_n2v_p01_q10 = check_accuracy(n2v_p01_q10, nm_pa, q1_edges, q2_edges, n, reverse=False)\n",
    "acc_n2v_p10_q10 = check_accuracy(n2v_p10_q10, nm_pa, q1_edges, q2_edges, n, reverse=False)\n",
    "acc_n2v_p10_q01 = check_accuracy(n2v_p10_q01, nm_pa, q1_edges, q2_edges, n, reverse=False)\n",
    "acc_n2v_p01_q01 = check_accuracy(n2v_p01_q01, nm_pa, q1_edges, q2_edges, n, reverse=False)"
   ]
  },
  {
   "cell_type": "code",
   "execution_count": null,
   "metadata": {
    "collapsed": true
   },
   "outputs": [],
   "source": []
  }
 ],
 "metadata": {
  "kernelspec": {
   "display_name": "Python 3",
   "language": "python",
   "name": "python3"
  },
  "language_info": {
   "codemirror_mode": {
    "name": "ipython",
    "version": 3
   },
   "file_extension": ".py",
   "mimetype": "text/x-python",
   "name": "python",
   "nbconvert_exporter": "python",
   "pygments_lexer": "ipython3",
   "version": "3.5.4"
  }
 },
 "nbformat": 4,
 "nbformat_minor": 2
}
