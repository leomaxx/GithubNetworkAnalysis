{
 "cells": [
  {
   "cell_type": "code",
   "execution_count": 33,
   "metadata": {},
   "outputs": [],
   "source": [
    "import pickle\n",
    "import collections\n",
    "from itertools import combinations\n",
    "import numpy as np\n",
    "from tqdm import tqdm, tqdm_notebook"
   ]
  },
  {
   "cell_type": "code",
   "execution_count": 10,
   "metadata": {},
   "outputs": [],
   "source": [
    "with open('./data/project_authors_2016_q1_k25core.pickle', 'rb') as picklefile:\n",
    "    project_authors_q1 = pickle.load(picklefile)"
   ]
  },
  {
   "cell_type": "code",
   "execution_count": null,
   "metadata": {},
   "outputs": [],
   "source": [
    "with open('./data/project_authors_2016_q2_k25core.pickle', 'rb') as picklefile:\n",
    "    project_authors_q2 = pickle.load(picklefile)"
   ]
  },
  {
   "cell_type": "code",
   "execution_count": 21,
   "metadata": {},
   "outputs": [
    {
     "data": {
      "application/vnd.jupyter.widget-view+json": {
       "model_id": "8560375a4bc04fdd90996020c84752cb",
       "version_major": 2,
       "version_minor": 0
      },
      "text/plain": [
       "HBox(children=(IntProgress(value=1, bar_style=u'info', max=1), HTML(value=u'')))"
      ]
     },
     "metadata": {},
     "output_type": "display_data"
    }
   ],
   "source": [
    "commit_index = collections.defaultdict(dict)\n",
    "for _, row in tqdm_notebook(project_authors_q1.iterrows()):\n",
    "    commit_index[row['project_id']][row['author_id']]=row['commit_times']"
   ]
  },
  {
   "cell_type": "code",
   "execution_count": 26,
   "metadata": {},
   "outputs": [
    {
     "data": {
      "text/plain": [
       "(35842, 6611460)"
      ]
     },
     "execution_count": 26,
     "metadata": {},
     "output_type": "execute_result"
    }
   ],
   "source": [
    "combinations(commit_index[49061893],2).next()"
   ]
  },
  {
   "cell_type": "code",
   "execution_count": 38,
   "metadata": {},
   "outputs": [],
   "source": [
    "def construct_cci(commits):\n",
    "    authors = commits['author_id'].unique()\n",
    "    projects = commits['project_id'].unique()\n",
    "    print('Constructing weighted graph for commits with {} authors and {} projects'.format(len(authors), len(projects)))\n",
    "    weights = collections.defaultdict(list)\n",
    "    neighbours = collections.defaultdict(set)\n",
    "    commit_index = collections.defaultdict(dict)\n",
    "    for _, row in tqdm_notebook(project_authors_q1.iterrows()):\n",
    "        commit_index[row['project_id']][row['author_id']]=row['commit_times']\n",
    "    for project, by_author in tqdm_notebook(commit_index.iteritems(), total=len(projects)):\n",
    "        for a, b in combinations(by_author, 2):\n",
    "            if a > b:\n",
    "                a, b = b, a\n",
    "            weights[(a,b)].append(min(by_author[a], by_author[b]))\n",
    "    final_weights=[(edge, np.log(sum(weights[edge]))) for edge in weights]\n",
    "    for edge, weight in tqdm_notebook(final_weights):\n",
    "        if weight > 0:\n",
    "            a, b = edge\n",
    "            neighbours[a].add(b)\n",
    "            neighbours[b].add(a)\n",
    "    return neighbours, final_weights"
   ]
  },
  {
   "cell_type": "code",
   "execution_count": 39,
   "metadata": {
    "scrolled": false
   },
   "outputs": [
    {
     "name": "stdout",
     "output_type": "stream",
     "text": [
      "Constructing weighted graph for commits with 3053 authors and 2162 projects\n"
     ]
    },
    {
     "data": {
      "application/vnd.jupyter.widget-view+json": {
       "model_id": "1f54226d0de64bd4b6843d9b8e9e2f25",
       "version_major": 2,
       "version_minor": 0
      },
      "text/plain": [
       "HBox(children=(IntProgress(value=1, bar_style=u'info', max=1), HTML(value=u'')))"
      ]
     },
     "metadata": {},
     "output_type": "display_data"
    },
    {
     "data": {
      "application/vnd.jupyter.widget-view+json": {
       "model_id": "2996708cd2b24bde941e3a6fe3f2445e",
       "version_major": 2,
       "version_minor": 0
      },
      "text/plain": [
       "HBox(children=(IntProgress(value=0, max=2162), HTML(value=u'')))"
      ]
     },
     "metadata": {},
     "output_type": "display_data"
    },
    {
     "data": {
      "application/vnd.jupyter.widget-view+json": {
       "model_id": "83d6b45610714c009f39852aa74f8a19",
       "version_major": 2,
       "version_minor": 0
      },
      "text/plain": [
       "HBox(children=(IntProgress(value=0, max=529154), HTML(value=u'')))"
      ]
     },
     "metadata": {},
     "output_type": "display_data"
    }
   ],
   "source": [
    "nbrs, weights = construct_cci(project_authors_q1)"
   ]
  },
  {
   "cell_type": "code",
   "execution_count": 43,
   "metadata": {},
   "outputs": [],
   "source": [
    "with open('./data/2016_q1_cci-weights_kcore.pickle', 'wb') as picklefile:\n",
    "    pickle.dump(weights, picklefile)\n",
    "with open('./data/2016_q1_cci-neighbours_kcore.pickle', 'wb') as picklefile:\n",
    "    pickle.dump(nbrs, picklefile)"
   ]
  },
  {
   "cell_type": "code",
   "execution_count": 44,
   "metadata": {},
   "outputs": [
    {
     "name": "stdout",
     "output_type": "stream",
     "text": [
      "Constructing weighted graph for commits with 0 authors and 0 projects\n"
     ]
    },
    {
     "data": {
      "application/vnd.jupyter.widget-view+json": {
       "model_id": "849291207d1649c68f1568ee91fef79a",
       "version_major": 2,
       "version_minor": 0
      },
      "text/plain": [
       "HBox(children=(IntProgress(value=1, bar_style=u'info', max=1), HTML(value=u'')))"
      ]
     },
     "metadata": {},
     "output_type": "display_data"
    },
    {
     "data": {
      "application/vnd.jupyter.widget-view+json": {
       "model_id": "7937e02282564b1885fafc8e66ea931b",
       "version_major": 2,
       "version_minor": 0
      },
      "text/plain": [
       "HBox(children=(IntProgress(value=1, bar_style=u'info', max=1), HTML(value=u'')))"
      ]
     },
     "metadata": {},
     "output_type": "display_data"
    },
    {
     "data": {
      "application/vnd.jupyter.widget-view+json": {
       "model_id": "0c83e7f360bd413c8862ea7ec629114d",
       "version_major": 2,
       "version_minor": 0
      },
      "text/plain": [
       "HBox(children=(IntProgress(value=0, max=529154), HTML(value=u'')))"
      ]
     },
     "metadata": {},
     "output_type": "display_data"
    }
   ],
   "source": [
    "nbrs, weights = construct_cci(project_authors_q2)"
   ]
  },
  {
   "cell_type": "code",
   "execution_count": 45,
   "metadata": {},
   "outputs": [],
   "source": [
    "with open('./data/2016_q2_cci-weights_kcore.pickle', 'wb') as picklefile:\n",
    "    pickle.dump(weights, picklefile)\n",
    "with open('./data/2016_q2_cci-neighbours_kcore.pickle', 'wb') as picklefile:\n",
    "    pickle.dump(nbrs, picklefile)"
   ]
  },
  {
   "cell_type": "code",
   "execution_count": null,
   "metadata": {},
   "outputs": [],
   "source": []
  }
 ],
 "metadata": {
  "kernelspec": {
   "display_name": "Python 2",
   "language": "python",
   "name": "python2"
  },
  "language_info": {
   "codemirror_mode": {
    "name": "ipython",
    "version": 2
   },
   "file_extension": ".py",
   "mimetype": "text/x-python",
   "name": "python",
   "nbconvert_exporter": "python",
   "pygments_lexer": "ipython2",
   "version": "2.7.15"
  }
 },
 "nbformat": 4,
 "nbformat_minor": 2
}
