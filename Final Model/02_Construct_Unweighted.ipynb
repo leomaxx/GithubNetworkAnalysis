{
 "cells": [
  {
   "cell_type": "code",
   "execution_count": 7,
   "metadata": {},
   "outputs": [],
   "source": [
    "import pickle\n",
    "import collections\n",
    "from itertools import combinations\n",
    "import numpy as np\n",
    "from tqdm import tqdm, tqdm_notebook\n",
    "from IPython.lib import backgroundjobs as bg\n",
    "from sklearn import metrics"
   ]
  },
  {
   "cell_type": "code",
   "execution_count": 8,
   "metadata": {},
   "outputs": [],
   "source": [
    "with open('./data/project_authors_2016_q1_k25core.pickle', 'rb') as picklefile:\n",
    "    project_authors_q1 = pickle.load(picklefile, encoding='latin1')"
   ]
  },
  {
   "cell_type": "code",
   "execution_count": 9,
   "metadata": {},
   "outputs": [],
   "source": [
    "with open('./data/project_authors_2016_q2_k25core.pickle', 'rb') as picklefile:\n",
    "    project_authors_q2 = pickle.load(picklefile, encoding='latin1')"
   ]
  },
  {
   "cell_type": "code",
   "execution_count": 10,
   "metadata": {},
   "outputs": [
    {
     "data": {
      "text/plain": [
       "(3053, 2162)"
      ]
     },
     "execution_count": 10,
     "metadata": {},
     "output_type": "execute_result"
    }
   ],
   "source": [
    "authors = project_authors_q1['author_id'].unique()\n",
    "projects = project_authors_q1['project_id'].unique()\n",
    "len(authors), len(projects)"
   ]
  },
  {
   "cell_type": "code",
   "execution_count": 11,
   "metadata": {
    "collapsed": true
   },
   "outputs": [],
   "source": [
    "neighbours = {node: set() for node in authors}"
   ]
  },
  {
   "cell_type": "code",
   "execution_count": 12,
   "metadata": {},
   "outputs": [
    {
     "data": {
      "application/vnd.jupyter.widget-view+json": {
       "model_id": "aa954805b1db4707ab9dcbf387fdf0ac",
       "version_major": 2,
       "version_minor": 0
      },
      "text/plain": [
       "A Jupyter Widget"
      ]
     },
     "metadata": {},
     "output_type": "display_data"
    },
    {
     "name": "stdout",
     "output_type": "stream",
     "text": [
      "\n"
     ]
    }
   ],
   "source": [
    "commit_index = collections.defaultdict(dict)\n",
    "for _, row in tqdm_notebook(project_authors_q1.iterrows()):\n",
    "    commit_index[row['project_id']][row['author_id']]=row['commit_times']"
   ]
  },
  {
   "cell_type": "code",
   "execution_count": 13,
   "metadata": {},
   "outputs": [
    {
     "data": {
      "application/vnd.jupyter.widget-view+json": {
       "model_id": "bae0b21a2e11461cbc6f06a62660601f",
       "version_major": 2,
       "version_minor": 0
      },
      "text/plain": [
       "A Jupyter Widget"
      ]
     },
     "metadata": {},
     "output_type": "display_data"
    },
    {
     "name": "stdout",
     "output_type": "stream",
     "text": [
      "\n"
     ]
    }
   ],
   "source": [
    "commit_index_q2 = collections.defaultdict(dict)\n",
    "for _, row in tqdm_notebook(project_authors_q2.iterrows()):\n",
    "    commit_index_q2[row['project_id']][row['author_id']]=row['commit_times']"
   ]
  },
  {
   "cell_type": "code",
   "execution_count": 14,
   "metadata": {},
   "outputs": [
    {
     "data": {
      "application/vnd.jupyter.widget-view+json": {
       "model_id": "288fe0b3151c42768822016678e3821c",
       "version_major": 2,
       "version_minor": 0
      },
      "text/plain": [
       "A Jupyter Widget"
      ]
     },
     "metadata": {},
     "output_type": "display_data"
    },
    {
     "name": "stdout",
     "output_type": "stream",
     "text": [
      "\n"
     ]
    }
   ],
   "source": [
    "for repo, by_author in tqdm_notebook(commit_index.items()):\n",
    "    edges = combinations(by_author, 2)\n",
    "    for a, b in edges:\n",
    "        neighbours[a].add(b)\n",
    "        neighbours[b].add(a)"
   ]
  },
  {
   "cell_type": "code",
   "execution_count": 15,
   "metadata": {},
   "outputs": [
    {
     "data": {
      "application/vnd.jupyter.widget-view+json": {
       "model_id": "aac2c76bf5a34242934b1577dcdb4299",
       "version_major": 2,
       "version_minor": 0
      },
      "text/plain": [
       "A Jupyter Widget"
      ]
     },
     "metadata": {},
     "output_type": "display_data"
    },
    {
     "name": "stdout",
     "output_type": "stream",
     "text": [
      "\n"
     ]
    }
   ],
   "source": [
    "edges_q1 = set()\n",
    "for repo, by_author in tqdm_notebook(commit_index.items()):\n",
    "    edges = combinations(by_author, 2)\n",
    "    for a, b in edges:\n",
    "        if a > b:\n",
    "            a, b = b, a\n",
    "        edges_q1.add((a, b))"
   ]
  },
  {
   "cell_type": "code",
   "execution_count": 16,
   "metadata": {},
   "outputs": [
    {
     "data": {
      "application/vnd.jupyter.widget-view+json": {
       "model_id": "0e67746b303c4e2baa89bdee80f8f529",
       "version_major": 2,
       "version_minor": 0
      },
      "text/plain": [
       "A Jupyter Widget"
      ]
     },
     "metadata": {},
     "output_type": "display_data"
    },
    {
     "name": "stdout",
     "output_type": "stream",
     "text": [
      "\n"
     ]
    }
   ],
   "source": [
    "edges_q2 = set()\n",
    "for repo, by_author in tqdm_notebook(commit_index_q2.items()):\n",
    "    edges = combinations(by_author, 2)\n",
    "    for a, b in edges:\n",
    "        if a > b:\n",
    "            a, b = b, a\n",
    "        edges_q2.add((a, b))"
   ]
  },
  {
   "cell_type": "code",
   "execution_count": 17,
   "metadata": {},
   "outputs": [
    {
     "data": {
      "text/plain": [
       "26971"
      ]
     },
     "execution_count": 17,
     "metadata": {},
     "output_type": "execute_result"
    }
   ],
   "source": [
    "new_edges=edges_q2.difference(edges_q1)\n",
    "k = len(new_edges)\n",
    "k"
   ]
  },
  {
   "cell_type": "code",
   "execution_count": 18,
   "metadata": {
    "collapsed": true
   },
   "outputs": [],
   "source": [
    "def common_neighbor(neighbours, pairs, cache):    \n",
    "    for u, v in tqdm_notebook(pairs, mininterval=1):\n",
    "        if u > v:\n",
    "            u, v = v, u\n",
    "        if (u, v) not in cache:\n",
    "            cache[(u, v)] = len(neighbours[u].intersection(neighbours[v]))"
   ]
  },
  {
   "cell_type": "code",
   "execution_count": 19,
   "metadata": {
    "collapsed": true
   },
   "outputs": [],
   "source": [
    "pairs = list(combinations(authors, 2)) # convert to list for nicer progress bar"
   ]
  },
  {
   "cell_type": "code",
   "execution_count": 20,
   "metadata": {
    "collapsed": true
   },
   "outputs": [],
   "source": [
    "jobs = bg.BackgroundJobManager()"
   ]
  },
  {
   "cell_type": "code",
   "execution_count": 21,
   "metadata": {
    "scrolled": false
   },
   "outputs": [
    {
     "name": "stdout",
     "output_type": "stream",
     "text": [
      "Starting job # 0 in a separate thread.\n"
     ]
    },
    {
     "data": {
      "text/plain": [
       "<BackgroundJob #0: <function <lambda> at 0x11c65e400>>"
      ]
     },
     "execution_count": 21,
     "metadata": {},
     "output_type": "execute_result"
    },
    {
     "data": {
      "application/vnd.jupyter.widget-view+json": {
       "model_id": "a48709f2a3fa4685bf6d303333203959",
       "version_major": 2,
       "version_minor": 0
      },
      "text/plain": [
       "A Jupyter Widget"
      ]
     },
     "metadata": {},
     "output_type": "display_data"
    }
   ],
   "source": [
    "cn_cache = collections.defaultdict(float)\n",
    "jobs.new(lambda:common_neighbor(neighbours, pairs, cn_cache))"
   ]
  },
  {
   "cell_type": "code",
   "execution_count": null,
   "metadata": {
    "collapsed": true
   },
   "outputs": [],
   "source": [
    "with open('./data/sim_unweighted_cn.pickle', 'wb') as picklefile:\n",
    "    pickle.dump(cn_cache, picklefile, protocol=2)"
   ]
  },
  {
   "cell_type": "code",
   "execution_count": 24,
   "metadata": {
    "collapsed": true
   },
   "outputs": [],
   "source": [
    "def accuracy(similarities, q1, q2):\n",
    "    top = sorted([(similarities[pair], pair) for pair in similarities if pair not in q1], reverse=True)\n",
    "    new_edges=q2.difference(q1)\n",
    "    k = len(new_edges)\n",
    "    edges = set(edge for weight, edge in top[:k])\n",
    "    overlap = len(edges.intersection(new_edges))\n",
    "    return overlap, overlap/k"
   ]
  },
  {
   "cell_type": "code",
   "execution_count": 25,
   "metadata": {},
   "outputs": [
    {
     "data": {
      "text/plain": [
       "(4853, 0.17993400318861)"
      ]
     },
     "execution_count": 25,
     "metadata": {},
     "output_type": "execute_result"
    }
   ],
   "source": [
    "accuracy(cn_cache, edges_q1, edges_q2)"
   ]
  },
  {
   "cell_type": "code",
   "execution_count": null,
   "metadata": {
    "collapsed": true
   },
   "outputs": [],
   "source": [
    "def jaccard_coefficient(neighbours, pairs, cache):\n",
    "    for u, v in tqdm_notebook(pairs, mininterval=1):\n",
    "        if u > v:\n",
    "            u, v = v, u\n",
    "        if (u, v) not in cache:\n",
    "            cache[(u, v)] = len(neighbours[u].intersection(neighbours[v]))/len(neighbours[u].union(neighbours[v]))"
   ]
  },
  {
   "cell_type": "code",
   "execution_count": null,
   "metadata": {},
   "outputs": [],
   "source": [
    "jc_cache = collections.defaultdict(float)\n",
    "jobs.new(lambda:jaccard_coefficient(neighbours, pairs, jc_cache))"
   ]
  },
  {
   "cell_type": "code",
   "execution_count": null,
   "metadata": {},
   "outputs": [],
   "source": [
    "accuracy(jc_cache, edges_q1, edges_q2)"
   ]
  },
  {
   "cell_type": "code",
   "execution_count": null,
   "metadata": {
    "collapsed": true
   },
   "outputs": [],
   "source": [
    "with open('./data/sim_unweighted_jc.pickle', 'wb') as picklefile:\n",
    "    pickle.dump(jc_cache, picklefile, protocol=2)"
   ]
  },
  {
   "cell_type": "code",
   "execution_count": 26,
   "metadata": {
    "collapsed": true
   },
   "outputs": [],
   "source": [
    "def prefer_attach(neighbours, pairs, cache):\n",
    "    for u, v in tqdm_notebook(pairs, mininterval=1):\n",
    "        if u > v:\n",
    "            u, v = v, u\n",
    "        if (u, v) not in cache:\n",
    "            cache[(u, v)] = len(neighbours[u]) * len(neighbours[v])"
   ]
  },
  {
   "cell_type": "code",
   "execution_count": 27,
   "metadata": {},
   "outputs": [
    {
     "name": "stdout",
     "output_type": "stream",
     "text": [
      "Starting job # 2 in a separate thread.\n"
     ]
    },
    {
     "data": {
      "text/plain": [
       "<BackgroundJob #2: <function <lambda> at 0x15cd351e0>>"
      ]
     },
     "execution_count": 27,
     "metadata": {},
     "output_type": "execute_result"
    },
    {
     "data": {
      "application/vnd.jupyter.widget-view+json": {
       "model_id": "a6bdd9d23afa4f9397e62350d7a7706f",
       "version_major": 2,
       "version_minor": 0
      },
      "text/plain": [
       "A Jupyter Widget"
      ]
     },
     "metadata": {},
     "output_type": "display_data"
    },
    {
     "name": "stdout",
     "output_type": "stream",
     "text": [
      "\n"
     ]
    }
   ],
   "source": [
    "pa_cache = collections.defaultdict(float)\n",
    "jobs.new(lambda:prefer_attach(neighbours, pairs, pa_cache))"
   ]
  },
  {
   "cell_type": "code",
   "execution_count": null,
   "metadata": {
    "collapsed": true
   },
   "outputs": [],
   "source": [
    "with open('./data/sim_unweighted_pa.pickle', 'wb') as picklefile:\n",
    "    pickle.dump(pa_cache, picklefile, protocol=2)"
   ]
  },
  {
   "cell_type": "code",
   "execution_count": 28,
   "metadata": {},
   "outputs": [
    {
     "data": {
      "text/plain": [
       "(4312, 0.15987542174928626)"
      ]
     },
     "execution_count": 28,
     "metadata": {},
     "output_type": "execute_result"
    }
   ],
   "source": [
    "accuracy(pa_cache, edges_q1, edges_q2)"
   ]
  },
  {
   "cell_type": "code",
   "execution_count": 29,
   "metadata": {
    "collapsed": true
   },
   "outputs": [],
   "source": [
    "def adamic_adar(neighbours, pairs, cache):\n",
    "    for u, v in tqdm_notebook(pairs, mininterval=1):\n",
    "        if u > v:\n",
    "            u, v = v, u\n",
    "        if (u, v) not in cache:\n",
    "            cn = neighbours[u].intersection(neighbours[v])\n",
    "            cache[(u, v)] = sum(1/np.log(len(neighbours[z]))for z in cn)"
   ]
  },
  {
   "cell_type": "code",
   "execution_count": 30,
   "metadata": {
    "scrolled": true
   },
   "outputs": [
    {
     "name": "stdout",
     "output_type": "stream",
     "text": [
      "Starting job # 3 in a separate thread.\n"
     ]
    },
    {
     "data": {
      "text/plain": [
       "<BackgroundJob #3: <function <lambda> at 0x15cd35400>>"
      ]
     },
     "execution_count": 30,
     "metadata": {},
     "output_type": "execute_result"
    },
    {
     "data": {
      "application/vnd.jupyter.widget-view+json": {
       "model_id": "0558db3035524cff80b392f611feb67b",
       "version_major": 2,
       "version_minor": 0
      },
      "text/plain": [
       "A Jupyter Widget"
      ]
     },
     "metadata": {},
     "output_type": "display_data"
    }
   ],
   "source": [
    "aa_cache = collections.defaultdict(float)\n",
    "jobs.new(lambda:adamic_adar(neighbours, pairs, aa_cache))"
   ]
  },
  {
   "cell_type": "code",
   "execution_count": null,
   "metadata": {
    "collapsed": true
   },
   "outputs": [],
   "source": [
    "with open('./data/sim_unweighted_aa.pickle', 'wb') as picklefile:\n",
    "    pickle.dump(aa_cache, picklefile, protocol=2)"
   ]
  },
  {
   "cell_type": "code",
   "execution_count": 71,
   "metadata": {
    "collapsed": true
   },
   "outputs": [],
   "source": [
    "with open('./data/sim_unweighted_aa.pickle', 'rb') as picklefile:\n",
    "    aa_cache_loaded = pickle.load(picklefile)"
   ]
  },
  {
   "cell_type": "code",
   "execution_count": 68,
   "metadata": {},
   "outputs": [
    {
     "data": {
      "text/plain": [
       "4658878"
      ]
     },
     "execution_count": 68,
     "metadata": {},
     "output_type": "execute_result"
    }
   ],
   "source": [
    "len(aa_cache_loaded)"
   ]
  },
  {
   "cell_type": "code",
   "execution_count": 75,
   "metadata": {},
   "outputs": [
    {
     "data": {
      "text/plain": [
       "0.9489987474730646"
      ]
     },
     "execution_count": 75,
     "metadata": {},
     "output_type": "execute_result"
    }
   ],
   "source": [
    "pairs = [(u,v) if u<v else (v,u) for u,v in combinations(authors, 2)]\n",
    "truth = [edge in edges_q2 for edge in pairs]\n",
    "scores = [aa_cache_loaded[edge] for edge in pairs]\n",
    "fpr, tpr, thres = metrics.roc_curve(truth,scores)\n",
    "metrics.auc(fpr,tpr)"
   ]
  },
  {
   "cell_type": "code",
   "execution_count": 70,
   "metadata": {},
   "outputs": [
    {
     "data": {
      "text/plain": [
       "6789401"
      ]
     },
     "execution_count": 70,
     "metadata": {},
     "output_type": "execute_result"
    }
   ],
   "source": [
    "len(aa_cache_loaded)"
   ]
  },
  {
   "cell_type": "code",
   "execution_count": null,
   "metadata": {
    "collapsed": true
   },
   "outputs": [],
   "source": []
  }
 ],
 "metadata": {
  "kernelspec": {
   "display_name": "Python (conda 3.6)",
   "language": "python",
   "name": "python36"
  },
  "language_info": {
   "codemirror_mode": {
    "name": "ipython",
    "version": 3
   },
   "file_extension": ".py",
   "mimetype": "text/x-python",
   "name": "python",
   "nbconvert_exporter": "python",
   "pygments_lexer": "ipython3",
   "version": "3.6.3"
  }
 },
 "nbformat": 4,
 "nbformat_minor": 2
}
