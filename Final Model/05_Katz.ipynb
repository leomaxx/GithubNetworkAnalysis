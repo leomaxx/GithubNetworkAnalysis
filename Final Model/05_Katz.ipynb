{
 "cells": [
  {
   "cell_type": "code",
   "execution_count": 1,
   "metadata": {
    "collapsed": true
   },
   "outputs": [],
   "source": [
    "import matplotlib.pyplot as plt\n",
    "import pickle\n",
    "import numpy as np\n",
    "from collections import defaultdict\n",
    "from itertools import combinations"
   ]
  },
  {
   "cell_type": "code",
   "execution_count": 16,
   "metadata": {
    "collapsed": true
   },
   "outputs": [],
   "source": [
    "with open('./data/2016_q1_newman-neighbours_kcore.pickle', 'rb') as picklefile:\n",
    "    nbrs = pickle.load(picklefile)\n",
    "with open('./data/2016_q1_newman-weights_kcore.pickle', 'rb') as picklefile:\n",
    "    newman_weights = pickle.load(picklefile)\n",
    "with open('./data/2016_q1_cci-weights_kcore.pickle', 'rb') as picklefile:\n",
    "    cci_weights = pickle.load(picklefile, encoding='latin1')"
   ]
  },
  {
   "cell_type": "code",
   "execution_count": 21,
   "metadata": {
    "collapsed": true
   },
   "outputs": [],
   "source": [
    "cci_weights_dict = defaultdict(float)\n",
    "for item in cci_weights:\n",
    "    cci_weights_dict[item[0]] = item[1]"
   ]
  },
  {
   "cell_type": "code",
   "execution_count": 3,
   "metadata": {},
   "outputs": [
    {
     "data": {
      "text/plain": [
       "1058308"
      ]
     },
     "execution_count": 3,
     "metadata": {},
     "output_type": "execute_result"
    }
   ],
   "source": [
    "len(weights)"
   ]
  },
  {
   "cell_type": "code",
   "execution_count": 4,
   "metadata": {},
   "outputs": [
    {
     "data": {
      "text/plain": [
       "3053"
      ]
     },
     "execution_count": 4,
     "metadata": {},
     "output_type": "execute_result"
    }
   ],
   "source": [
    "len(nbrs)"
   ]
  },
  {
   "cell_type": "code",
   "execution_count": 5,
   "metadata": {
    "collapsed": true
   },
   "outputs": [],
   "source": [
    "#map ids to 0-3052\n",
    "keys = range(len(nbrs))\n",
    "values = sorted(nbrs.keys())\n",
    "ids = dict(zip(keys,values))"
   ]
  },
  {
   "cell_type": "code",
   "execution_count": 17,
   "metadata": {
    "collapsed": true
   },
   "outputs": [],
   "source": [
    "def adjacency_matrix(nbrs, weights):\n",
    "    #map ids to 0-3052\n",
    "    keys = range(len(nbrs))\n",
    "    values = sorted(nbrs.keys())\n",
    "    ids = dict(zip(keys,values))\n",
    "\n",
    "    #weighted adjacency matrix\n",
    "    A = np.zeros((len(ids),len(ids)))\n",
    "    w = set(weights.keys())\n",
    "    pairs = combinations(keys, 2) \n",
    "    for u,v in pairs:  #u<v\n",
    "        if ((ids[u],ids[v])in w)or((ids[v],ids[u])in w):\n",
    "            A[u,v] = weights[(ids[u],ids[v])]\n",
    "            A[v,u] = weights[(ids[u],ids[v])]\n",
    "\n",
    "    #Unweighted adjacency matrix\n",
    "    A_un = np.zeros((len(ids),len(ids)))\n",
    "    w = set(weights.keys())\n",
    "    pairs = combinations(keys, 2) \n",
    "    for u,v in pairs:  #u<v\n",
    "        if ((ids[u],ids[v])in w)or((ids[v],ids[u])in w):\n",
    "            A_un[u,v] = 1\n",
    "            A_un[v,u] = 1\n",
    "    return A, A_un"
   ]
  },
  {
   "cell_type": "code",
   "execution_count": 22,
   "metadata": {
    "collapsed": true
   },
   "outputs": [],
   "source": [
    "A, A_un = adjacency_matrix(nbrs, cci_weights_dict)"
   ]
  },
  {
   "cell_type": "code",
   "execution_count": 7,
   "metadata": {
    "collapsed": true
   },
   "outputs": [],
   "source": [
    "#Unweighted adjacency matrix\n",
    "A_un = np.zeros((len(ids),len(ids)))\n",
    "w = set(weights.keys())\n",
    "pairs = combinations(keys, 2) \n",
    "for u,v in pairs:  #u<v\n",
    "    if ((ids[u],ids[v])in w)or((ids[v],ids[u])in w):\n",
    "        A_un[u,v] = 1\n",
    "        A_un[v,u] = 1"
   ]
  },
  {
   "cell_type": "markdown",
   "metadata": {},
   "source": [
    "## Katz Score Calculation"
   ]
  },
  {
   "cell_type": "code",
   "execution_count": 1,
   "metadata": {
    "collapsed": true
   },
   "outputs": [],
   "source": [
    "def generate_katz(A, A_un, score_name):\n",
    "    I = np.identity(A.shape[0])\n",
    "    beta_list = [0.05, 0.005, 0.0005, 0.00005]\n",
    "    beta_names = ['0_05','0_005','0_0005','0_00005']\n",
    "    katz_weighted = defaultdict(float)\n",
    "    katz_unweighted = defaultdict(float)\n",
    "\n",
    "    for beta, name in zip(beta_list, beta_names):\n",
    "        katz = np.linalg.inv(I-beta*A) - I\n",
    "        pairs = combinations(keys, 2)\n",
    "        for u,v in pairs:\n",
    "            if ids[u] > ids[v]:\n",
    "                katz_weighted[(ids[v],ids[u])] = katz[u][v]\n",
    "            else:\n",
    "                katz_weighted[(ids[u],ids[v])] = katz[u][v]\n",
    "        with open('./data/{}_katz_weighted_{}.pickle'.format(score_name, name), 'wb') as picklefile:\n",
    "            pickle.dump(katz_weighted, picklefile)\n",
    "\n",
    "    for beta, name in zip(beta_list, beta_names):\n",
    "        katz = np.linalg.inv(I-beta*A_un) - I\n",
    "        pairs = combinations(keys, 2)\n",
    "        for u,v in pairs:\n",
    "            if ids[u] > ids[v]:\n",
    "                katz_unweighted[(ids[v],ids[u])] = katz[u][v]\n",
    "            else:\n",
    "                katz_unweighted[(ids[u],ids[v])] = katz[u][v]\n",
    "        with open('./data/{}_katz_unweighted_{}.pickle'.format(score_name, name), 'wb') as picklefile:\n",
    "            pickle.dump(katz_unweighted, picklefile)"
   ]
  },
  {
   "cell_type": "code",
   "execution_count": 23,
   "metadata": {
    "collapsed": true
   },
   "outputs": [],
   "source": [
    "generate_katz(A, A_un, \"cci\")"
   ]
  }
 ],
 "metadata": {
  "kernelspec": {
   "display_name": "Python (conda 3.6)",
   "language": "python",
   "name": "python36"
  },
  "language_info": {
   "codemirror_mode": {
    "name": "ipython",
    "version": 3
   },
   "file_extension": ".py",
   "mimetype": "text/x-python",
   "name": "python",
   "nbconvert_exporter": "python",
   "pygments_lexer": "ipython3",
   "version": "3.6.3"
  }
 },
 "nbformat": 4,
 "nbformat_minor": 2
}
