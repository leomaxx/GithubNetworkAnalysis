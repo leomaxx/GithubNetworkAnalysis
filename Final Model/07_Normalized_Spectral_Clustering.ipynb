{
 "cells": [
  {
   "cell_type": "code",
   "execution_count": 1,
   "metadata": {},
   "outputs": [],
   "source": [
    "import matplotlib.pyplot as plt\n",
    "import pickle\n",
    "import numpy as np\n",
    "from itertools import combinations\n",
    "from sklearn.cluster import KMeans\n"
   ]
  },
  {
   "cell_type": "code",
   "execution_count": 44,
   "metadata": {},
   "outputs": [],
   "source": [
    "with open('./data/2016_q1_newman-neighbours_kcore.pickle', 'rb') as picklefile:\n",
    "    nbrs_nm = pickle.load(picklefile)"
   ]
  },
  {
   "cell_type": "code",
   "execution_count": 45,
   "metadata": {},
   "outputs": [],
   "source": [
    "with open('./data/2016_q1_newman-weights_kcore.pickle', 'rb') as picklefile:\n",
    "    weights_nm = pickle.load(picklefile)"
   ]
  },
  {
   "cell_type": "code",
   "execution_count": 48,
   "metadata": {},
   "outputs": [],
   "source": [
    "with open('./data/2016_q1_cci-neighbours_kcore.pickle', 'rb') as picklefile:\n",
    "    nbrs_cii = pickle.load(picklefile)"
   ]
  },
  {
   "cell_type": "code",
   "execution_count": 49,
   "metadata": {},
   "outputs": [],
   "source": [
    "with open('./data/2016_q1_cci-weights_kcore.pickle', 'rb') as picklefile:\n",
    "    w_cii = pickle.load(picklefile)"
   ]
  },
  {
   "cell_type": "code",
   "execution_count": 46,
   "metadata": {},
   "outputs": [
    {
     "data": {
      "text/plain": [
       "1058308"
      ]
     },
     "execution_count": 46,
     "metadata": {},
     "output_type": "execute_result"
    }
   ],
   "source": [
    "len(weights_nm)"
   ]
  },
  {
   "cell_type": "code",
   "execution_count": 47,
   "metadata": {},
   "outputs": [
    {
     "data": {
      "text/plain": [
       "3053"
      ]
     },
     "execution_count": 47,
     "metadata": {},
     "output_type": "execute_result"
    }
   ],
   "source": [
    "len(nbrs_nm)"
   ]
  },
  {
   "cell_type": "code",
   "execution_count": 50,
   "metadata": {},
   "outputs": [
    {
     "data": {
      "text/plain": [
       "529154"
      ]
     },
     "execution_count": 50,
     "metadata": {},
     "output_type": "execute_result"
    }
   ],
   "source": [
    "len(w_cii)"
   ]
  },
  {
   "cell_type": "code",
   "execution_count": 51,
   "metadata": {},
   "outputs": [
    {
     "data": {
      "text/plain": [
       "3053"
      ]
     },
     "execution_count": 51,
     "metadata": {},
     "output_type": "execute_result"
    }
   ],
   "source": [
    "len(nbrs_cii)"
   ]
  },
  {
   "cell_type": "code",
   "execution_count": 53,
   "metadata": {},
   "outputs": [],
   "source": [
    "#change w_ciito dict\n",
    "weights_cii = {}\n",
    "for i in xrange(len(w_cii)):    \n",
    "    weights_cii[w_cii[i][0]] = w_cii[i][1]\n",
    "    "
   ]
  },
  {
   "cell_type": "code",
   "execution_count": 54,
   "metadata": {},
   "outputs": [],
   "source": [
    "#map ids to 0-3052\n",
    "keys = range(len(nbrs_nm))\n",
    "values = sorted(nbrs_nm.keys())\n",
    "ids = dict(zip(keys,values))\n"
   ]
  },
  {
   "cell_type": "markdown",
   "metadata": {},
   "source": [
    "#### Newman Graph"
   ]
  },
  {
   "cell_type": "code",
   "execution_count": 57,
   "metadata": {},
   "outputs": [],
   "source": [
    "#weighted adjacency matrix\n",
    "A = np.zeros((len(ids),len(ids)))\n",
    "w = set(weights_nm.keys())\n",
    "pairs = combinations(keys, 2) \n",
    "for u,v in pairs:  #u<v\n",
    "    if ((ids[u],ids[v])in w)or((ids[v],ids[u])in w):\n",
    "        A[u,v] = weights_nm[(ids[u],ids[v])]\n",
    "        A[v,u] = weights_nm[(ids[u],ids[v])]\n",
    "    "
   ]
  },
  {
   "cell_type": "code",
   "execution_count": 58,
   "metadata": {},
   "outputs": [],
   "source": [
    "#weighted diagonal matrix\n",
    "D = np.zeros((len(ids),len(ids)))\n",
    "for i in xrange(len(ids)):\n",
    "    D[i,i] = np.sum(A,axis = 0)[i]\n"
   ]
  },
  {
   "cell_type": "code",
   "execution_count": 59,
   "metadata": {},
   "outputs": [],
   "source": [
    "#compute eigenvalues\n",
    "L = D - A\n",
    "L_n = np.dot(np.linalg.inv(D),L)\n",
    "eigen_val,eigen_vec = np.linalg.eigh(L_n)"
   ]
  },
  {
   "cell_type": "code",
   "execution_count": 60,
   "metadata": {},
   "outputs": [
    {
     "data": {
      "image/png": "[encoded data removed]",
      "text/plain": [
       "<matplotlib.figure.Figure at 0x1a1f6b1e50>"
      ]
     },
     "metadata": {},
     "output_type": "display_data"
    }
   ],
   "source": [
    "#plot eigen gap to determine number of clusters\n",
    "plt.plot(range(1,len(ids)+1),sorted(eigen_val,reverse=True))\n",
    "plt.xlabel('k')\n",
    "plt.ylabel('eigenvalues')\n",
    "plt.show()"
   ]
  },
  {
   "cell_type": "code",
   "execution_count": 61,
   "metadata": {},
   "outputs": [
    {
     "data": {
      "image/png": "[encoded data removed]",
      "text/plain": [
       "<matplotlib.figure.Figure at 0x10b2c8e50>"
      ]
     },
     "metadata": {},
     "output_type": "display_data"
    }
   ],
   "source": [
    "plt.plot(range(1,17),sorted(eigen_val,reverse=True)[0:16],'bo-')\n",
    "plt.xlabel('k')\n",
    "plt.ylabel('eigenvalues')\n",
    "plt.show()\n",
    "#choose 2 clusters"
   ]
  },
  {
   "cell_type": "code",
   "execution_count": 62,
   "metadata": {},
   "outputs": [],
   "source": [
    "v2 = eigen_vec[:,1]\n",
    "c1 = {ids[i]:1 for i in np.where(v2>0)[0]} #nodes in community 1 if v2 > 0\n",
    "c2 = {ids[i]:2 for i in np.where(v2<0)[0]} #nodes in community 2 if v2 < 0\n",
    "c2.update(c1)"
   ]
  },
  {
   "cell_type": "code",
   "execution_count": 65,
   "metadata": {},
   "outputs": [],
   "source": [
    "with open('./data/author_clusters_2016_q1_k25core_newman.pickle', 'wb') as picklefile:\n",
    "    pickle.dump(c2, picklefile, protocol=2)"
   ]
  },
  {
   "cell_type": "code",
   "execution_count": 66,
   "metadata": {},
   "outputs": [
    {
     "data": {
      "text/plain": [
       "3053"
      ]
     },
     "execution_count": 66,
     "metadata": {},
     "output_type": "execute_result"
    }
   ],
   "source": [
    "len(c2)"
   ]
  },
  {
   "cell_type": "markdown",
   "metadata": {},
   "source": [
    "#### CII graph"
   ]
  },
  {
   "cell_type": "code",
   "execution_count": 77,
   "metadata": {},
   "outputs": [],
   "source": [
    "#weighted adjacency matrix\n",
    "A = np.zeros((len(ids),len(ids)))\n",
    "w = set(weights_cii.keys())\n",
    "pairs = combinations(keys, 2) \n",
    "for u,v in pairs:  #u<v\n",
    "    if ((ids[u],ids[v])in w)or((ids[v],ids[u])in w):\n",
    "        A[u,v] = weights_cii[(ids[u],ids[v])]\n",
    "        A[v,u] = weights_cii[(ids[u],ids[v])]\n",
    "    \n",
    "    "
   ]
  },
  {
   "cell_type": "code",
   "execution_count": 78,
   "metadata": {},
   "outputs": [],
   "source": [
    "#weighted diagonal matrix\n",
    "D = np.zeros((len(ids),len(ids)))\n",
    "for i in xrange(len(ids)):\n",
    "    D[i,i] = np.sum(A,axis = 0)[i]\n"
   ]
  },
  {
   "cell_type": "code",
   "execution_count": 79,
   "metadata": {},
   "outputs": [],
   "source": [
    "#compute eigenvalues\n",
    "L = D - A\n",
    "L_n = np.dot(np.linalg.inv(D),L)\n",
    "eigen_val,eigen_vec = np.linalg.eigh(L_n)"
   ]
  },
  {
   "cell_type": "code",
   "execution_count": 80,
   "metadata": {},
   "outputs": [
    {
     "data": {
      "image/png": "[encoded data removed]",
      "text/plain": [
       "<matplotlib.figure.Figure at 0x1a22cfba90>"
      ]
     },
     "metadata": {},
     "output_type": "display_data"
    }
   ],
   "source": [
    "#plot eigen gap to determine number of clusters\n",
    "plt.plot(range(1,len(ids)+1),sorted(eigen_val,reverse=True))\n",
    "plt.xlabel('k')\n",
    "plt.ylabel('eigenvalues')\n",
    "plt.show()"
   ]
  },
  {
   "cell_type": "code",
   "execution_count": 81,
   "metadata": {},
   "outputs": [
    {
     "data": {
      "image/png": "[encoded data removed]",
      "text/plain": [
       "<matplotlib.figure.Figure at 0x1a5bf9d6d0>"
      ]
     },
     "metadata": {},
     "output_type": "display_data"
    }
   ],
   "source": [
    "plt.plot(range(1,17),sorted(eigen_val,reverse=True)[0:16],'bo-')\n",
    "plt.xlabel('k')\n",
    "plt.ylabel('eigenvalues')\n",
    "plt.show()\n",
    "#choose 9 clusters"
   ]
  },
  {
   "cell_type": "code",
   "execution_count": 82,
   "metadata": {},
   "outputs": [],
   "source": [
    "#k-means clustering\n",
    "U = eigen_vec[:,:9]\n",
    "kmeans = KMeans(n_clusters=9, random_state=0).fit(U)\n",
    "c = kmeans.labels_\n",
    "cii_c = {ids[i]:kmeans.labels_[i] for i in xrange(len(kmeans.labels_))}"
   ]
  },
  {
   "cell_type": "code",
   "execution_count": 83,
   "metadata": {},
   "outputs": [
    {
     "data": {
      "text/plain": [
       "3053"
      ]
     },
     "execution_count": 83,
     "metadata": {},
     "output_type": "execute_result"
    }
   ],
   "source": [
    "len(cii_c)"
   ]
  },
  {
   "cell_type": "code",
   "execution_count": 84,
   "metadata": {},
   "outputs": [],
   "source": [
    "with open('./data/author_clusters_2016_q1_k25core_cii.pickle', 'wb') as picklefile:\n",
    "    pickle.dump(cii_c, picklefile, protocol=2)"
   ]
  },
  {
   "cell_type": "code",
   "execution_count": null,
   "metadata": {},
   "outputs": [],
   "source": []
  }
 ],
 "metadata": {
  "kernelspec": {
   "display_name": "Python 2",
   "language": "python",
   "name": "python2"
  },
  "language_info": {
   "codemirror_mode": {
    "name": "ipython",
    "version": 2
   },
   "file_extension": ".py",
   "mimetype": "text/x-python",
   "name": "python",
   "nbconvert_exporter": "python",
   "pygments_lexer": "ipython2",
   "version": "2.7.3"
  }
 },
 "nbformat": 4,
 "nbformat_minor": 2
}
