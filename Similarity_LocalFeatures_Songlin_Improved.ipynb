{
 "cells": [
  {
   "cell_type": "code",
   "execution_count": null,
   "metadata": {},
   "outputs": [],
   "source": [
    "from IPython.lib import backgroundjobs as bg\n",
    "from tqdm import tqdm_notebook\n",
    "from itertools import combinations\n",
    "import pickle\n",
    "import collections\n",
    "import numpy as np"
   ]
  },
  {
   "cell_type": "markdown",
   "metadata": {},
   "source": [
    "## Local features: \n",
    "\n",
    "#### Method 1: Common Neighbors\n",
    "$$ CN(x,y) = \\sum\\nolimits_{z \\in |\\Gamma(x) \\cap \\Gamma(y)|} w(x,z) + w(y,z)$$\n",
    "\n",
    "#### Method 2: Jaccard Coefficients \n",
    "$$ JC(x,y) = \\sum\\nolimits_{z \\in |\\Gamma(x) \\cap \\Gamma(y)|} \\frac{w(x,z) + w(y,z)}{{\\sum\\nolimits_{a \\in \\Gamma(x)}}w(a,x) + {\\sum\\nolimits_{b \\in \\Gamma(y)}}w(b,y)}$$\n",
    "\n",
    "#### Method 3: Perferrential Attachment \n",
    "the probability that a new edge has node x as an endpoint is proportional to the its weights.\n",
    "$$ PA(x,y) = \\sum\\nolimits_{a \\in \\Gamma(x)} w(a,x) * \\sum\\nolimits_{b \\in \\Gamma(y)} w(b,y)$$\n",
    "\n",
    "#### Method 4:  Adamic-Adar Coefficient \n",
    "similar to Method 2, but it defines a higher importance to the common neighbors which have fewer neighbors.\n",
    "$$ AA(x,y) = \\sum\\nolimits_{z \\in |\\Gamma(x) \\cap \\Gamma(y)|} \\frac{w(x,z) + w(y,z)}{log (1+ {\\sum\\nolimits_{c \\in \\Gamma(z)}}w(a,x))}$$"
   ]
  },
  {
   "cell_type": "code",
   "execution_count": 7,
   "metadata": {},
   "outputs": [],
   "source": [
    "def common_neighbor(neighbours, pairs, weights, cache):    \n",
    "    for u, v in tqdm_notebook(pairs, mininterval=1):\n",
    "        if u > v:\n",
    "            u, v = v, u\n",
    "        if (u, v) not in cache:\n",
    "            neighbour = neighbours[u].intersection(neighbours[v])\n",
    "            if neighbour:\n",
    "                cache[(u, v)] = sum(weights[(u, n)] + weights[(v, n)] for n in neighbour)"
   ]
  },
  {
   "cell_type": "code",
   "execution_count": 8,
   "metadata": {},
   "outputs": [],
   "source": [
    "def jaccard_coefficient(neighbours, pairs, weights, sum_weights, cache):\n",
    "    for u, v in tqdm_notebook(pairs, mininterval=1):\n",
    "        if u > v:\n",
    "            u, v = v, u\n",
    "        if (u, v) not in cache:\n",
    "            neighbour = neighbours[u].intersection(neighbours[v])\n",
    "            sum_u = sum_weights[u]\n",
    "            sum_v = sum_weights[v]\n",
    "            if neighbour:\n",
    "                cache[(u, v)] = sum((weights[(u, n)] + weights[(v, n)])/(sum_u + sum_v) for n in neighbour)"
   ]
  },
  {
   "cell_type": "code",
   "execution_count": 9,
   "metadata": {},
   "outputs": [],
   "source": [
    "def prefer_attach(pairs, sum_weights, cache):\n",
    "    for u, v in tqdm_notebook(pairs, mininterval=1):\n",
    "        if u > v:\n",
    "            u, v = v, u\n",
    "        if (u, v) not in cache:\n",
    "            cache[(u, v)] = sum_weights[u] * sum_weights[v]"
   ]
  },
  {
   "cell_type": "code",
   "execution_count": null,
   "metadata": {},
   "outputs": [],
   "source": [
    "def adamic_adar(neighbours, pairs, weights, sum_weights, cache):\n",
    "    for u, v in tqdm_notebook(pairs, mininterval=1):\n",
    "        if u > v:\n",
    "            u, v = v, u\n",
    "        if (u, v) not in cache:    \n",
    "            neighbour = neighbours[u].intersection(neighbours[v]).intersection(user_set)\n",
    "            if neighbour:\n",
    "                cache[(u, v)] = sum(((weights[(u,n)] + weights[(v,n)])/np.log(1+sum_weights[n])) for n in neighbour)"
   ]
  },
  {
   "cell_type": "markdown",
   "metadata": {},
   "source": [
    "### Import weights and neighbours representing weighted undirected graph\n",
    "Note: weights should be symmetric for the ease of subsequent computation\n",
    "to convert snap graph to neighbours dict:\n",
    "```\n",
    "def get_neighbours(node):\n",
    "    return set(node.GetNbrNId(i) for i in range(node.GetDeg()))\n",
    "neighbours={node.GetId():get_neighbours(node) for node in G.Nodes()}\n",
    "with open('./data/weight3-neighbours.pickle', 'wb') as picklefile:\n",
    "    pickle.dump(neighbours, picklefile)\n",
    "```"
   ]
  },
  {
   "cell_type": "code",
   "execution_count": 11,
   "metadata": {},
   "outputs": [],
   "source": [
    "with open('./data/newman-weights.pickle', 'rb') as picklefile:\n",
    "    weights = pickle.load(picklefile)\n",
    "with open('./data/newman-neighbours.pickle', 'rb') as picklefile:\n",
    "    neighbours = pickle.load(picklefile)"
   ]
  },
  {
   "cell_type": "code",
   "execution_count": 12,
   "metadata": {},
   "outputs": [],
   "source": [
    "with open('./data/q1_4000_users.pickle', 'rb') as picklefile:\n",
    "    users = pickle.load(picklefile)"
   ]
  },
  {
   "cell_type": "code",
   "execution_count": 13,
   "metadata": {},
   "outputs": [],
   "source": [
    "pairs = list(combinations(users, 2)) # convert to list for nicer progress bar"
   ]
  },
  {
   "cell_type": "code",
   "execution_count": 14,
   "metadata": {},
   "outputs": [],
   "source": [
    "jobs = bg.BackgroundJobManager()"
   ]
  },
  {
   "cell_type": "code",
   "execution_count": 15,
   "metadata": {
    "scrolled": true
   },
   "outputs": [
    {
     "name": "stdout",
     "output_type": "stream",
     "text": [
      "Starting job # 0 in a separate thread.\n"
     ]
    },
    {
     "data": {
      "text/plain": [
       "<BackgroundJob #0: <function <lambda> at 0x111c909b0>>"
      ]
     },
     "execution_count": 15,
     "metadata": {},
     "output_type": "execute_result"
    }
   ],
   "source": [
    "cn_cache = collections.defaultdict(float)\n",
    "jobs.new(lambda:common_neighbor(neighbours, pairs, weights, cn_cache))"
   ]
  },
  {
   "cell_type": "code",
   "execution_count": null,
   "metadata": {},
   "outputs": [],
   "source": [
    "with open('./data/newman_cn.pickle', 'wb') as picklefile:\n",
    "    pickle.dump(cn_cache, picklefile)"
   ]
  },
  {
   "cell_type": "code",
   "execution_count": 16,
   "metadata": {},
   "outputs": [
    {
     "data": {
      "application/vnd.jupyter.widget-view+json": {
       "model_id": "1887a5af4f0f4d559b8686e8ddbd4eb5",
       "version_major": 2,
       "version_minor": 0
      },
      "text/plain": [
       "HBox(children=(IntProgress(value=0, max=8542911), HTML(value=u'')))"
      ]
     },
     "metadata": {},
     "output_type": "display_data"
    }
   ],
   "source": [
    "sum_weights = {user: sum(weights[(user,n)] for n in neighbours[user]) for user in users}"
   ]
  },
  {
   "cell_type": "code",
   "execution_count": 17,
   "metadata": {},
   "outputs": [
    {
     "name": "stdout",
     "output_type": "stream",
     "text": [
      "Starting job # 2 in a separate thread.\n"
     ]
    },
    {
     "data": {
      "text/plain": [
       "<BackgroundJob #2: <function <lambda> at 0x1c594a1b8>>"
      ]
     },
     "execution_count": 17,
     "metadata": {},
     "output_type": "execute_result"
    },
    {
     "data": {
      "application/vnd.jupyter.widget-view+json": {
       "model_id": "2b1487fc18494f79a5f9e508185fcf6d",
       "version_major": 2,
       "version_minor": 0
      },
      "text/plain": [
       "HBox(children=(IntProgress(value=0, max=8542911), HTML(value=u'')))"
      ]
     },
     "metadata": {},
     "output_type": "display_data"
    }
   ],
   "source": [
    "pa_cache = collections.defaultdict(float)\n",
    "jobs.new(lambda:prefer_attach(pairs, sum_weights, pa_cache))"
   ]
  },
  {
   "cell_type": "code",
   "execution_count": null,
   "metadata": {},
   "outputs": [],
   "source": [
    "with open('./data/newman_pa.pickle', 'wb') as picklefile:\n",
    "    pickle.dump(pa_cache, picklefile)"
   ]
  },
  {
   "cell_type": "code",
   "execution_count": 18,
   "metadata": {},
   "outputs": [
    {
     "name": "stdout",
     "output_type": "stream",
     "text": [
      "Starting job # 3 in a separate thread.\n"
     ]
    },
    {
     "data": {
      "text/plain": [
       "<BackgroundJob #3: <function <lambda> at 0x1c594a2a8>>"
      ]
     },
     "execution_count": 18,
     "metadata": {},
     "output_type": "execute_result"
    },
    {
     "data": {
      "application/vnd.jupyter.widget-view+json": {
       "model_id": "3ecd8266238c493b86479766978b9034",
       "version_major": 2,
       "version_minor": 0
      },
      "text/plain": [
       "HBox(children=(IntProgress(value=0, max=8542911), HTML(value=u'')))"
      ]
     },
     "metadata": {},
     "output_type": "display_data"
    }
   ],
   "source": [
    "jaccard_cache = collections.defaultdict(float)\n",
    "jobs.new(lambda:jaccard_coefficient(neighbours, pairs, weights, sum_weights, jaccard_cache))"
   ]
  },
  {
   "cell_type": "code",
   "execution_count": null,
   "metadata": {},
   "outputs": [],
   "source": [
    "with open('./data/newman_jaccard.pickle', 'wb') as picklefile:\n",
    "    pickle.dump(jaccard_cache, picklefile)"
   ]
  },
  {
   "cell_type": "code",
   "execution_count": null,
   "metadata": {},
   "outputs": [],
   "source": [
    "user_set = set(users)\n",
    "adam_cache = collections.defaultdict(float)\n",
    "jobs.new(lambda:adamic_adar(neighbours, pairs, weights, sum_weights, adam_cache))"
   ]
  },
  {
   "cell_type": "code",
   "execution_count": null,
   "metadata": {},
   "outputs": [],
   "source": [
    "with open('./data/newman_adam.pickle', 'wb') as picklefile:\n",
    "    pickle.dump(adam_cache, picklefile)"
   ]
  }
 ],
 "metadata": {
  "kernelspec": {
   "display_name": "Python (conda 2.7)",
   "language": "python",
   "name": "python27"
  },
  "language_info": {
   "codemirror_mode": {
    "name": "ipython",
    "version": 2
   },
   "file_extension": ".py",
   "mimetype": "text/x-python",
   "name": "python",
   "nbconvert_exporter": "python",
   "pygments_lexer": "ipython2",
   "version": "2.7.15"
  }
 },
 "nbformat": 4,
 "nbformat_minor": 2
}
