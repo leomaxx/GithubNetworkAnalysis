{
 "cells": [
  {
   "cell_type": "code",
   "execution_count": 1,
   "metadata": {},
   "outputs": [],
   "source": [
    "import matplotlib.pyplot as plt\n",
    "import pickle\n",
    "import os\n",
    "import snap\n",
    "from itertools import combinations\n",
    "import numpy as np\n",
    "from google.cloud import bigquery\n",
    "import collections\n",
    "from IPython.lib import backgroundjobs as bg\n",
    "from tqdm import tqdm_notebook\n",
    "import heapq\n",
    "from gensim.models import Word2Vec\n",
    "import node2vec\n",
    "import networkx as nx"
   ]
  },
  {
   "cell_type": "code",
   "execution_count": 2,
   "metadata": {},
   "outputs": [],
   "source": [
    "with open('./data/project_authors_2016_q1_k25core.pickle', 'rb') as picklefile:\n",
    "    project_authors_q1 = pickle.load(picklefile)"
   ]
  },
  {
   "cell_type": "code",
   "execution_count": 34,
   "metadata": {},
   "outputs": [],
   "source": [
    "dimensions=32\n",
    "window=10\n",
    "iterations=10\n",
    "p=10.\n",
    "q=0.1\n",
    "num_walks=25\n",
    "walk_length = 400"
   ]
  },
  {
   "cell_type": "code",
   "execution_count": 4,
   "metadata": {},
   "outputs": [],
   "source": [
    "nx_weighted = nx.Graph()\n",
    "nx_weighted.add_nodes_from(project_authors_q1['author_id'].unique())\n",
    "nx_weighted.add_nodes_from(project_authors_q1['project_id'].unique())\n",
    "for _, row in project_authors_q1.iterrows():\n",
    "    nx_weighted.add_edge(-row['project_id'], row['author_id'], weight=row['commit_times'])"
   ]
  },
  {
   "cell_type": "code",
   "execution_count": 5,
   "metadata": {},
   "outputs": [
    {
     "data": {
      "text/plain": [
       "7376"
      ]
     },
     "execution_count": 5,
     "metadata": {},
     "output_type": "execute_result"
    }
   ],
   "source": [
    "len(nx_weighted)"
   ]
  },
  {
   "cell_type": "code",
   "execution_count": 14,
   "metadata": {},
   "outputs": [
    {
     "name": "stdout",
     "output_type": "stream",
     "text": [
      "CPU times: user 3min 4s, sys: 1.47 s, total: 3min 6s\n",
      "Wall time: 3min 5s\n"
     ]
    }
   ],
   "source": [
    "G = node2vec.Graph(nx_weighted, False, p, q)\n",
    "%time G.preprocess_transition_probs()"
   ]
  },
  {
   "cell_type": "code",
   "execution_count": 35,
   "metadata": {},
   "outputs": [
    {
     "name": "stdout",
     "output_type": "stream",
     "text": [
      "Walk iteration:\n",
      "1 / 25\n",
      "2 / 25\n",
      "3 / 25\n",
      "4 / 25\n",
      "5 / 25\n",
      "6 / 25\n",
      "7 / 25\n",
      "8 / 25\n",
      "9 / 25\n",
      "10 / 25\n",
      "11 / 25\n",
      "12 / 25\n",
      "13 / 25\n",
      "14 / 25\n",
      "15 / 25\n",
      "16 / 25\n",
      "17 / 25\n",
      "18 / 25\n",
      "19 / 25\n",
      "20 / 25\n",
      "21 / 25\n",
      "22 / 25\n",
      "23 / 25\n",
      "24 / 25\n",
      "25 / 25\n",
      "CPU times: user 24min 35s, sys: 26.4 s, total: 25min 2s\n",
      "Wall time: 25min\n",
      "CPU times: user 48min 14s, sys: 14 s, total: 48min 28s\n",
      "Wall time: 16min 18s\n"
     ]
    }
   ],
   "source": [
    "%time walks = G.simulate_walks(num_walks, walk_length)\n",
    "walks = [map(str, walk) for walk in walks]\n",
    "%time model = Word2Vec(walks, size=dimensions, window=window, min_count=0, sg=1, iter=iterations)"
   ]
  },
  {
   "cell_type": "code",
   "execution_count": 28,
   "metadata": {},
   "outputs": [
    {
     "data": {
      "text/plain": [
       "25322"
      ]
     },
     "execution_count": 28,
     "metadata": {},
     "output_type": "execute_result"
    }
   ],
   "source": [
    "len(topk)"
   ]
  },
  {
   "cell_type": "code",
   "execution_count": 26,
   "metadata": {},
   "outputs": [],
   "source": [
    "with open('./data/2016_q1_cci-weights_kcore.pickle', 'rb') as picklefile:\n",
    "    weights_q1 = pickle.load(picklefile)\n",
    "with open('./data/2016_q2_cci-weights_kcore.pickle', 'rb') as picklefile:\n",
    "    weights_q2 = pickle.load(picklefile)\n",
    "edges_q1 = set(edge for edge, weight in weights_q1)\n",
    "edges_q2 = set(edge for edge, weight in weights_q2)\n",
    "new_edges=edges_q2.difference(edges_q1)\n",
    "k = len(new_edges)"
   ]
  },
  {
   "cell_type": "code",
   "execution_count": 36,
   "metadata": {
    "scrolled": false
   },
   "outputs": [
    {
     "data": {
      "application/vnd.jupyter.widget-view+json": {
       "model_id": "b95b03de58bc4a5ab3014525f44a29f0",
       "version_major": 2,
       "version_minor": 0
      },
      "text/plain": [
       "HBox(children=(IntProgress(value=0, max=4658878), HTML(value=u'')))"
      ]
     },
     "metadata": {},
     "output_type": "display_data"
    },
    {
     "data": {
      "text/plain": [
       "(3508, 0.1300656260427867)"
      ]
     },
     "execution_count": 36,
     "metadata": {},
     "output_type": "execute_result"
    }
   ],
   "source": [
    "authors = project_authors_q1['author_id'].unique()\n",
    "pairs = list(combinations(authors, 2))\n",
    "dist = []\n",
    "for u, v in tqdm_notebook(pairs, mininterval=1):\n",
    "    if u > v:\n",
    "        u, v = v, u\n",
    "    if (u, v) not in edges_q1:\n",
    "        dist.append((model.wv.distance(str(u), str(v)), (u, v)))\n",
    "dist = sorted(dist)\n",
    "topk = set(edge for weight, edge in dist[:k])\n",
    "len(topk.intersection(new_edges)), len(topk.intersection(new_edges))/float(k)"
   ]
  },
  {
   "cell_type": "markdown",
   "metadata": {},
   "source": [
    "100, 25 (2864, 0.11310323039254404)\n",
    "100, 100 (3459, 0.1282488598865448)"
   ]
  },
  {
   "cell_type": "code",
   "execution_count": 23,
   "metadata": {},
   "outputs": [
    {
     "data": {
      "application/vnd.jupyter.widget-view+json": {
       "model_id": "9cba55dde3ed41de83e3a22d571c1c05",
       "version_major": 2,
       "version_minor": 0
      },
      "text/plain": [
       "HBox(children=(IntProgress(value=0, max=4658878), HTML(value=u'')))"
      ]
     },
     "metadata": {},
     "output_type": "display_data"
    },
    {
     "data": {
      "text/plain": [
       "(3159, 0.12475317905378722)"
      ]
     },
     "execution_count": 23,
     "metadata": {},
     "output_type": "execute_result"
    }
   ],
   "source": [
    "authors = project_authors_q1['author_id'].unique()\n",
    "pairs = list(combinations(authors, 2))\n",
    "dist = []\n",
    "for u, v in tqdm_notebook(pairs, mininterval=1):\n",
    "    if u > v:\n",
    "        u, v = v, u\n",
    "    if (u, v) not in edges_q1:\n",
    "        dist.append((model.wv.distance(str(u), str(v)), (u, v)))\n",
    "dist = sorted(dist)\n",
    "topk = set(edge for weight, edge in dist[:k])\n",
    "len(topk.intersection(new_edges)), len(topk.intersection(new_edges))/float(k)"
   ]
  },
  {
   "cell_type": "code",
   "execution_count": 20,
   "metadata": {},
   "outputs": [
    {
     "data": {
      "text/plain": [
       "3053"
      ]
     },
     "execution_count": 20,
     "metadata": {},
     "output_type": "execute_result"
    }
   ],
   "source": [
    "len(project_authors_q1['author_id'].unique())"
   ]
  },
  {
   "cell_type": "code",
   "execution_count": 24,
   "metadata": {},
   "outputs": [
    {
     "data": {
      "application/vnd.jupyter.widget-view+json": {
       "model_id": "682fa7b3fdcd47d9b1fe69c982e44bf9",
       "version_major": 2,
       "version_minor": 0
      },
      "text/plain": [
       "HBox(children=(IntProgress(value=0, max=4658878), HTML(value=u'')))"
      ]
     },
     "metadata": {},
     "output_type": "display_data"
    }
   ],
   "source": [
    "pairs = list(combinations(authors, 2))\n",
    "alldist = {}\n",
    "for u, v in tqdm_notebook(pairs, mininterval=1):\n",
    "    if u > v:\n",
    "        u, v = v, u\n",
    "    alldist[(u, v)] = model.wv.distance(str(u), str(v))\n",
    "with open('./data/node2vec-weighted-p10-q01-100-100.pickle', 'wb') as picklefile:\n",
    "    pickle.dump(alldist, picklefile)"
   ]
  },
  {
   "cell_type": "code",
   "execution_count": null,
   "metadata": {},
   "outputs": [],
   "source": []
  }
 ],
 "metadata": {
  "kernelspec": {
   "display_name": "Python 2",
   "language": "python",
   "name": "python2"
  },
  "language_info": {
   "codemirror_mode": {
    "name": "ipython",
    "version": 2
   },
   "file_extension": ".py",
   "mimetype": "text/x-python",
   "name": "python",
   "nbconvert_exporter": "python",
   "pygments_lexer": "ipython2",
   "version": "2.7.15"
  }
 },
 "nbformat": 4,
 "nbformat_minor": 2
}
