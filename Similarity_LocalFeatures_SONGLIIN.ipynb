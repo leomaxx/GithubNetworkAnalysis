{
 "cells": [
  {
   "cell_type": "code",
   "execution_count": 18,
   "metadata": {
    "collapsed": true
   },
   "outputs": [],
   "source": [
    "import snap\n",
    "import pickle\n",
    "import collections\n",
    "import datetime\n",
    "\n",
    "from itertools import combinations"
   ]
  },
  {
   "cell_type": "code",
   "execution_count": 2,
   "metadata": {
    "collapsed": true
   },
   "outputs": [],
   "source": [
    "def load_graph(name):\n",
    "    \n",
    "    if name == \"w1\":\n",
    "        G = snap.TNEANet.Load(snap.TFIn(\"weight1-adjusted.graph\"))\n",
    "    if name == \"w2\":\n",
    "        G = snap.TNEANet.Load(snap.TFIn(\"weight2-adjusted.graph\"))\n",
    "    if name == \"w3\":\n",
    "        G = snap.TNEANet.Load(snap.TFIn(\"weight3-adjusted.graph\"))\n",
    "    if name == \"newman\":\n",
    "        G = snap.TNEANet.Load(snap.TFIn(\"./data/2016_q1_newman.graph\"))\n",
    "    \n",
    "    return G\n",
    "    "
   ]
  },
  {
   "cell_type": "markdown",
   "metadata": {},
   "source": [
    "## Local features: "
   ]
  },
  {
   "cell_type": "markdown",
   "metadata": {},
   "source": [
    "#### Method 1: Common Neighbors  "
   ]
  },
  {
   "cell_type": "markdown",
   "metadata": {},
   "source": [
    "$$ CN(x,y) = \\sum\\nolimits_{z \\in |\\Gamma(x) \\cap \\Gamma(y)|} w(x,z) + w(y,z)$$"
   ]
  },
  {
   "cell_type": "markdown",
   "metadata": {},
   "source": [
    "#### Method 2: Jaccard Coefficients "
   ]
  },
  {
   "cell_type": "markdown",
   "metadata": {},
   "source": [
    "$$ JC(x,y) = \\sum\\nolimits_{z \\in |\\Gamma(x) \\cap \\Gamma(y)|} \\frac{w(x,z) + w(y,z)}{{\\sum\\nolimits_{a \\in \\Gamma(x)}}w(a,x) + {\\sum\\nolimits_{b \\in \\Gamma(y)}}w(b,y)}$$"
   ]
  },
  {
   "cell_type": "markdown",
   "metadata": {},
   "source": [
    "#### Method 3: Perferrential Attachment \n",
    "the probability that a new edge has node x as an endpoint is proportional to the its weights.\n"
   ]
  },
  {
   "cell_type": "markdown",
   "metadata": {},
   "source": [
    "$$ PA(x,y) = \\sum\\nolimits_{a \\in \\Gamma(x)} w(a,x) * \\sum\\nolimits_{b \\in \\Gamma(y)} w(b,y)$$"
   ]
  },
  {
   "cell_type": "markdown",
   "metadata": {},
   "source": [
    "#### Method 4:  Adamic-Adar Coefficient \n",
    "similar to Method 2, but it defines a higher importance to the common neighbors which have fewer neighbors.\n"
   ]
  },
  {
   "cell_type": "markdown",
   "metadata": {},
   "source": [
    "$$ AA(x,y) = \\sum\\nolimits_{z \\in |\\Gamma(x) \\cap \\Gamma(y)|} \\frac{w(x,z) + w(y,z)}{log (1+ {\\sum\\nolimits_{c \\in \\Gamma(z)}}w(a,x))}$$"
   ]
  },
  {
   "cell_type": "code",
   "execution_count": 3,
   "metadata": {
    "collapsed": true
   },
   "outputs": [],
   "source": [
    "def local_features(G,method,pairs):\n",
    "    \n",
    "    if method == \"CN\":\n",
    "        sim = common_neighbor(G,pairs)\n",
    "    if method == \"JC\":\n",
    "        sim = jaccard_coefficient(G,pairs)\n",
    "    if method == \"AA\":\n",
    "        sim = adamic_adar(G,pairs)\n",
    "    if method == \"PA\":\n",
    "        sim = prefer_attach(G,pairs)\n",
    "    \n",
    "    return sim  # a dictionary with all pairs as key and similarity score as value. \n",
    "    \n",
    "    \n"
   ]
  },
  {
   "cell_type": "code",
   "execution_count": 4,
   "metadata": {
    "collapsed": true
   },
   "outputs": [],
   "source": [
    "def batch_pairs(G,batch_size):  #split all nodes into batches and apply combination on each batch ?\n",
    "    NIds = []\n",
    "    pairs = []\n",
    "    for N in G.Nodes():\n",
    "        NIds.append(N.GetId())\n",
    "        \n",
    "    for b in xrange(len(NIds)/batch_size):\n",
    "        batch = NIds[b*batch_size:(b+1)*batch_size]\n",
    "        pairs.append(combinations(batch, 2))\n",
    "        \n",
    "    if len(NIds)%batch_size != 0:\n",
    "        batch_last = NIds[(b+1)*batch_size:]\n",
    "        pairs.append(combinations(batch_last, 2))\n",
    "    \n",
    "    return pairs"
   ]
  },
  {
   "cell_type": "code",
   "execution_count": 14,
   "metadata": {
    "collapsed": true
   },
   "outputs": [],
   "source": [
    "def common_neighbor_cust(G,pairs):    \n",
    "    i = 0\n",
    "    for uId, vId in pairs:\n",
    "        i += 1\n",
    "        if not i%1000:\n",
    "            print 'CN processing pair {}k'.format(i/1000)\n",
    "        if uId > vId:\n",
    "            uId, vId = vId, uId\n",
    "        if (uId, vId) not in CN.keys():\n",
    "            Nbrs = snap.TIntV()\n",
    "            cmn = snap.GetCmnNbrs(G,uId,vId,Nbrs)\n",
    "            if cmn > 0:\n",
    "                for zId in Nbrs:\n",
    "                    w1 = G.GetFltAttrDatE(G.GetEI(uId,zId), \"weight\") if (uId < zId) else G.GetFltAttrDatE(G.GetEI(zId,uId), \"weight\")\n",
    "                    w2 = G.GetFltAttrDatE(G.GetEI(vId,zId), \"weight\") if (vId < zId) else G.GetFltAttrDatE(G.GetEI(zId,vId), \"weight\")\n",
    "                    CN[(uId,vId)] += w1+w2\n",
    "    return"
   ]
  },
  {
   "cell_type": "code",
   "execution_count": 6,
   "metadata": {
    "collapsed": true
   },
   "outputs": [],
   "source": [
    "def jaccard_coefficient_cust(G,pairs):\n",
    "    \n",
    "    i=0\n",
    "    for uId, vId in pairs:\n",
    "        i += 1\n",
    "        if not i%1000:\n",
    "            print 'CN processing pair {}k'.format(i/1000)\n",
    "        \n",
    "        # Swap \n",
    "        if uId > vId:\n",
    "            uId, vId = vId, uId\n",
    "            \n",
    "        if (uId, vId) not in JC.keys():    \n",
    "            Nbrs = snap.TIntV()\n",
    "            cmn = snap.GetCmnNbrs(G,uId,vId,Nbrs)\n",
    "\n",
    "            if cmn > 0:            \n",
    "                for zId in Nbrs:\n",
    "                    w1 = G.GetFltAttrDatE(G.GetEI(uId,zId), \"weight\") if (uId < zId) else G.GetFltAttrDatE(G.GetEI(zId,uId), \"weight\")\n",
    "                    w2 = G.GetFltAttrDatE(G.GetEI(vId,zId), \"weight\") if (vId < zId) else G.GetFltAttrDatE(G.GetEI(zId,vId), \"weight\")\n",
    "\n",
    "                    u = G.GetNI(uId)\n",
    "                    u_deg = u.GetDeg()\n",
    "                    sum_u = 0               \n",
    "\n",
    "                    for i in range(u_deg):  #compute edge weights between u and all its neighbors\n",
    "                        aId = u.GetNbrNId(i)\n",
    "                        ua = G.GetFltAttrDatE(G.GetEI(uId,aId), \"weight\") if (uId < aId) else G.GetFltAttrDatE(G.GetEI(aId,uId), \"weight\") \n",
    "                        sum_u +=ua\n",
    "\n",
    "                    v = G.GetNI(vId)\n",
    "                    v_deg = v.GetDeg()\n",
    "                    sum_v = 0 \n",
    "\n",
    "                    for i in range(v_deg):  #compute edge weights between v and all its neighbors\n",
    "                        bId = v.GetNbrNId(i)\n",
    "                        vb = G.GetFltAttrDatE(G.GetEI(vId,bId), \"weight\") if (vId < bId) else G.GetFltAttrDatE(G.GetEI(bId,vId), \"weight\") \n",
    "                        sum_v +=vb\n",
    "\n",
    "                    JC[(uId,vId)] += (w1+w2)*1.0 / (sum_u+sum_v)      \n",
    "    return"
   ]
  },
  {
   "cell_type": "code",
   "execution_count": 7,
   "metadata": {
    "collapsed": true
   },
   "outputs": [],
   "source": [
    "def adamic_adar(G,pairs):\n",
    "    \n",
    "    AA = {}\n",
    "    i = 0\n",
    "    for uId, vId in pairs:\n",
    "        i += 1\n",
    "        if not i%100000:\n",
    "            print 'AA processing pair', i\n",
    "        AA[(uId,vId)] = 0\n",
    "        Nbrs = snap.TIntV()\n",
    "        cmn = snap.GetCmnNbrs(G,uId,vId,Nbrs)\n",
    "        \n",
    "        if cmn > 0:            \n",
    "            for zId in Nbrs:\n",
    "                w1 = G.GetFltAttrDatE(G.GetEI(uId,zId), \"weight\") if (uId < zId) else G.GetFltAttrDatE(G.GetEI(zId,uId), \"weight\")\n",
    "                w2 = G.GetFltAttrDatE(G.GetEI(vId,zId), \"weight\") if (vId < zId) else G.GetFltAttrDatE(G.GetEI(zId,vId), \"weight\")\n",
    "                \n",
    "                z = G.GetNI(zId)\n",
    "                z_deg = z.GetDeg()\n",
    "                sum_a = 0\n",
    "                \n",
    "                for i in range(z_deg):  #compute edge weights between common neighbor and its neigbors\n",
    "                    cId = z.GetNbrNId(i)\n",
    "                    a1 = G.GetFltAttrDatE(G.GetEI(cId,zId), \"weight\") if (cId < zId) else G.GetFltAttrDatE(G.GetEI(zId,cId), \"weight\") \n",
    "                    sum_a +=a1\n",
    "                \n",
    "                AA[(uId,vId)] += (w1+w2)*1.0 / np.log(1+sum_a)\n",
    "    \n",
    "    return AA"
   ]
  },
  {
   "cell_type": "code",
   "execution_count": 8,
   "metadata": {
    "collapsed": true
   },
   "outputs": [],
   "source": [
    "def prefer_attach(G,pairs):\n",
    "   \n",
    "    PA  = {}\n",
    "    i = 0\n",
    "    for uId, vId in pairs:\n",
    "        i += 1\n",
    "        if not i%100000:\n",
    "            print 'PA processing pair', i\n",
    "        PA[(uId,vId)] = 0        \n",
    "        u = G.GetNI(uId)\n",
    "        v = G.GetNI(vId)\n",
    "        u_deg = u.GetDeg()\n",
    "        v_deg = v.GetDeg()\n",
    "        \n",
    "        if (u_deg != 0) and (v_deg != 0):\n",
    "            sum_u = 0               \n",
    "            sum_v = 0\n",
    "            for i in range(u_deg):  \n",
    "                aId = u.GetNbrNId(i)\n",
    "                ua = G.GetFltAttrDatE(G.GetEI(uId,aId), \"weight\") if (uId < aId) else G.GetFltAttrDatE(G.GetEI(aId,uId), \"weight\") \n",
    "                sum_u +=ua\n",
    "\n",
    "            for i in range(v_deg):  \n",
    "                bId = v.GetNbrNId(i)\n",
    "                vb = G.GetFltAttrDatE(G.GetEI(vId,bId), \"weight\") if (vId < bId) else G.GetFltAttrDatE(G.GetEI(bId,vId), \"weight\") \n",
    "                sum_v +=vb\n",
    "\n",
    "            PA[(uId,vId)] = sum_u * sum_v\n",
    "        \n",
    "    \n",
    "    return PA"
   ]
  },
  {
   "cell_type": "code",
   "execution_count": 9,
   "metadata": {
    "collapsed": true
   },
   "outputs": [],
   "source": [
    "G = load_graph('newman')\n",
    "with open('./data/q1_4000_users.pickle', 'rb') as picklefile:\n",
    "    users = pickle.load(picklefile)"
   ]
  },
  {
   "cell_type": "code",
   "execution_count": 26,
   "metadata": {
    "collapsed": true
   },
   "outputs": [],
   "source": [
    "pairs = combinations(users, 2)"
   ]
  },
  {
   "cell_type": "code",
   "execution_count": 28,
   "metadata": {
    "collapsed": true
   },
   "outputs": [],
   "source": [
    "CN = collections.defaultdict(float)"
   ]
  },
  {
   "cell_type": "code",
   "execution_count": null,
   "metadata": {},
   "outputs": [
    {
     "name": "stdout",
     "output_type": "stream",
     "text": [
      "Start running at 2018-11-06 17:10:27.714618\n",
      "CN processing pair 1k\n",
      "CN processing pair 2k\n",
      "CN processing pair 3k\n",
      "CN processing pair 4k\n",
      "CN processing pair 5k\n",
      "CN processing pair 6k\n",
      "CN processing pair 7k\n",
      "CN processing pair 8k\n",
      "CN processing pair 9k\n",
      "CN processing pair 10k\n",
      "CN processing pair 11k\n",
      "CN processing pair 12k\n",
      "CN processing pair 13k\n",
      "CN processing pair 14k\n",
      "CN processing pair 15k\n",
      "CN processing pair 16k\n",
      "CN processing pair 17k\n",
      "CN processing pair 18k\n",
      "CN processing pair 19k\n",
      "CN processing pair 20k\n",
      "CN processing pair 21k\n",
      "CN processing pair 22k\n",
      "CN processing pair 23k\n",
      "CN processing pair 24k\n",
      "CN processing pair 25k\n",
      "CN processing pair 26k\n",
      "CN processing pair 27k\n",
      "CN processing pair 28k\n",
      "CN processing pair 29k\n",
      "CN processing pair 30k\n",
      "CN processing pair 31k\n",
      "CN processing pair 32k\n",
      "CN processing pair 33k\n",
      "CN processing pair 34k\n",
      "CN processing pair 35k\n",
      "CN processing pair 36k\n",
      "CN processing pair 37k\n",
      "CN processing pair 38k\n",
      "CN processing pair 39k\n",
      "CN processing pair 40k\n",
      "CN processing pair 41k\n",
      "CN processing pair 42k\n",
      "CN processing pair 43k\n",
      "CN processing pair 44k\n",
      "CN processing pair 45k\n",
      "CN processing pair 46k\n",
      "CN processing pair 47k\n",
      "CN processing pair 48k\n",
      "CN processing pair 49k\n",
      "CN processing pair 50k\n",
      "CN processing pair 51k\n",
      "CN processing pair 52k\n",
      "CN processing pair 53k\n",
      "CN processing pair 54k\n",
      "CN processing pair 55k\n",
      "CN processing pair 56k\n",
      "CN processing pair 57k\n",
      "CN processing pair 58k\n",
      "CN processing pair 59k\n",
      "CN processing pair 60k\n",
      "CN processing pair 61k\n",
      "CN processing pair 62k\n",
      "CN processing pair 63k\n",
      "CN processing pair 64k\n",
      "CN processing pair 65k\n",
      "CN processing pair 66k\n",
      "CN processing pair 67k\n",
      "CN processing pair 68k\n",
      "CN processing pair 69k\n",
      "CN processing pair 70k\n",
      "CN processing pair 71k\n",
      "CN processing pair 72k\n",
      "CN processing pair 73k\n",
      "CN processing pair 74k\n",
      "CN processing pair 75k\n",
      "CN processing pair 76k\n",
      "CN processing pair 77k\n",
      "CN processing pair 78k\n",
      "CN processing pair 79k\n",
      "CN processing pair 80k\n",
      "CN processing pair 81k\n",
      "CN processing pair 82k\n",
      "CN processing pair 83k\n",
      "CN processing pair 84k\n",
      "CN processing pair 85k\n",
      "CN processing pair 86k\n",
      "CN processing pair 87k\n",
      "CN processing pair 88k\n",
      "CN processing pair 89k\n",
      "CN processing pair 90k\n",
      "CN processing pair 91k\n",
      "CN processing pair 92k\n",
      "CN processing pair 93k\n",
      "CN processing pair 94k\n",
      "CN processing pair 95k\n",
      "CN processing pair 96k\n",
      "CN processing pair 97k\n",
      "CN processing pair 98k\n",
      "CN processing pair 99k\n",
      "CN processing pair 100k\n",
      "CN processing pair 101k\n",
      "CN processing pair 102k\n",
      "CN processing pair 103k\n",
      "CN processing pair 104k\n",
      "CN processing pair 105k\n",
      "CN processing pair 106k\n",
      "CN processing pair 107k\n",
      "CN processing pair 108k\n",
      "CN processing pair 109k\n",
      "CN processing pair 110k\n",
      "CN processing pair 111k\n",
      "CN processing pair 112k\n",
      "CN processing pair 113k\n",
      "CN processing pair 114k\n",
      "CN processing pair 115k\n",
      "CN processing pair 116k\n",
      "CN processing pair 117k\n",
      "CN processing pair 118k\n",
      "CN processing pair 119k\n",
      "CN processing pair 120k\n",
      "CN processing pair 121k\n",
      "CN processing pair 122k\n",
      "CN processing pair 123k\n",
      "CN processing pair 124k\n",
      "CN processing pair 125k\n",
      "CN processing pair 126k\n",
      "CN processing pair 127k\n",
      "CN processing pair 128k\n",
      "CN processing pair 129k\n",
      "CN processing pair 130k\n",
      "CN processing pair 131k\n",
      "CN processing pair 132k\n",
      "CN processing pair 133k\n",
      "CN processing pair 134k\n",
      "CN processing pair 135k\n",
      "CN processing pair 136k\n",
      "CN processing pair 137k\n",
      "CN processing pair 138k\n",
      "CN processing pair 139k\n",
      "CN processing pair 140k\n",
      "CN processing pair 141k\n",
      "CN processing pair 142k\n",
      "CN processing pair 143k\n",
      "CN processing pair 144k\n",
      "CN processing pair 145k\n",
      "CN processing pair 146k\n",
      "CN processing pair 147k\n",
      "CN processing pair 148k\n",
      "CN processing pair 149k\n",
      "CN processing pair 150k\n",
      "CN processing pair 151k\n",
      "CN processing pair 152k\n",
      "CN processing pair 153k\n",
      "CN processing pair 154k\n",
      "CN processing pair 155k\n",
      "CN processing pair 156k\n",
      "CN processing pair 157k\n",
      "CN processing pair 158k\n",
      "CN processing pair 159k\n",
      "CN processing pair 160k\n",
      "CN processing pair 161k\n",
      "CN processing pair 162k\n",
      "CN processing pair 163k\n",
      "CN processing pair 164k\n",
      "CN processing pair 165k\n",
      "CN processing pair 166k\n",
      "CN processing pair 167k\n",
      "CN processing pair 168k\n",
      "CN processing pair 169k\n",
      "CN processing pair 170k\n",
      "CN processing pair 171k\n",
      "CN processing pair 172k\n",
      "CN processing pair 173k\n",
      "CN processing pair 174k\n",
      "CN processing pair 175k\n",
      "CN processing pair 176k\n",
      "CN processing pair 177k\n",
      "CN processing pair 178k\n",
      "CN processing pair 179k\n",
      "CN processing pair 180k\n",
      "CN processing pair 181k\n",
      "CN processing pair 182k\n",
      "CN processing pair 183k\n",
      "CN processing pair 184k\n",
      "CN processing pair 185k\n",
      "CN processing pair 186k\n",
      "CN processing pair 187k\n",
      "CN processing pair 188k\n",
      "CN processing pair 189k\n",
      "CN processing pair 190k\n",
      "CN processing pair 191k\n",
      "CN processing pair 192k\n",
      "CN processing pair 193k\n",
      "CN processing pair 194k\n",
      "CN processing pair 195k\n",
      "CN processing pair 196k\n",
      "CN processing pair 197k\n",
      "CN processing pair 198k\n",
      "CN processing pair 199k\n",
      "CN processing pair 200k\n",
      "CN processing pair 201k\n",
      "CN processing pair 202k\n",
      "CN processing pair 203k\n",
      "CN processing pair 204k\n",
      "CN processing pair 205k\n",
      "CN processing pair 206k\n",
      "CN processing pair 207k\n",
      "CN processing pair 208k\n",
      "CN processing pair 209k\n",
      "CN processing pair 210k\n",
      "CN processing pair 211k\n",
      "CN processing pair 212k\n",
      "CN processing pair 213k\n",
      "CN processing pair 214k\n",
      "CN processing pair 215k\n",
      "CN processing pair 216k\n",
      "CN processing pair 217k\n",
      "CN processing pair 218k\n",
      "CN processing pair 219k\n",
      "CN processing pair 220k\n",
      "CN processing pair 221k\n",
      "CN processing pair 222k\n",
      "CN processing pair 223k\n",
      "CN processing pair 224k\n",
      "CN processing pair 225k\n",
      "CN processing pair 226k\n",
      "CN processing pair 227k\n",
      "CN processing pair 228k\n",
      "CN processing pair 229k\n",
      "CN processing pair 230k\n",
      "CN processing pair 231k\n",
      "CN processing pair 232k\n",
      "CN processing pair 233k\n",
      "CN processing pair 234k\n",
      "CN processing pair 235k\n",
      "CN processing pair 236k\n",
      "CN processing pair 237k\n",
      "CN processing pair 238k\n",
      "CN processing pair 239k\n",
      "CN processing pair 240k\n",
      "CN processing pair 241k\n",
      "CN processing pair 242k\n",
      "CN processing pair 243k\n",
      "CN processing pair 244k\n",
      "CN processing pair 245k\n",
      "CN processing pair 246k\n",
      "CN processing pair 247k\n",
      "CN processing pair 248k\n"
     ]
    }
   ],
   "source": [
    "print 'Start running at', datetime.datetime.now()\n",
    "common_neighbor_cust(G, pairs)\n",
    "with open('./data/CN_newman.pickle', 'wb') as picklefile:\n",
    "    pickle.dump(CN, picklefile)"
   ]
  },
  {
   "cell_type": "code",
   "execution_count": null,
   "metadata": {
    "collapsed": true
   },
   "outputs": [],
   "source": []
  }
 ],
 "metadata": {
  "kernelspec": {
   "display_name": "Python (conda 2.7)",
   "language": "python",
   "name": "python27"
  },
  "language_info": {
   "codemirror_mode": {
    "name": "ipython",
    "version": 2
   },
   "file_extension": ".py",
   "mimetype": "text/x-python",
   "name": "python",
   "nbconvert_exporter": "python",
   "pygments_lexer": "ipython2",
   "version": "2.7.3"
  }
 },
 "nbformat": 4,
 "nbformat_minor": 2
}
