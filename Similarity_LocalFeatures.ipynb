{
 "cells": [
  {
   "cell_type": "code",
   "execution_count": 2,
   "metadata": {},
   "outputs": [],
   "source": [
    "import snap\n",
    "from itertools import combinations"
   ]
  },
  {
   "cell_type": "code",
   "execution_count": 3,
   "metadata": {},
   "outputs": [],
   "source": [
    "def load_graph(name):\n",
    "    \n",
    "    if name == \"w1\":\n",
    "        G = snap.TNEANet.Load(snap.TFIn(\"weight1-adjusted.graph\"))\n",
    "    if name == \"w2\":\n",
    "        G = snap.TNEANet.Load(snap.TFIn(\"weight2-adjusted.graph\"))\n",
    "    if name == \"w3\":\n",
    "        G = snap.TNEANet.Load(snap.TFIn(\"weight3-adjusted.graph\"))\n",
    "    \n",
    "    return G\n",
    "    "
   ]
  },
  {
   "cell_type": "markdown",
   "metadata": {},
   "source": [
    "## Local features: "
   ]
  },
  {
   "cell_type": "markdown",
   "metadata": {},
   "source": [
    "#### Method 1: Common Neighbors  "
   ]
  },
  {
   "cell_type": "markdown",
   "metadata": {},
   "source": [
    "$$ CN(x,y) = \\sum\\nolimits_{z \\in |\\Gamma(x) \\cap \\Gamma(y)|} w(x,z) + w(y,z)$$"
   ]
  },
  {
   "cell_type": "markdown",
   "metadata": {},
   "source": [
    "#### Method 2: Jaccard Coefficients "
   ]
  },
  {
   "cell_type": "markdown",
   "metadata": {},
   "source": [
    "$$ JC(x,y) = \\sum\\nolimits_{z \\in |\\Gamma(x) \\cap \\Gamma(y)|} \\frac{w(x,z) + w(y,z)}{{\\sum\\nolimits_{a \\in \\Gamma(x)}}w(a,x) + {\\sum\\nolimits_{b \\in \\Gamma(y)}}w(b,y)}$$"
   ]
  },
  {
   "cell_type": "markdown",
   "metadata": {},
   "source": [
    "#### Method 3: Perferrential Attachment \n",
    "the probability that a new edge has node x as an endpoint is proportional to the its weights.\n"
   ]
  },
  {
   "cell_type": "markdown",
   "metadata": {},
   "source": [
    "$$ PA(x,y) = \\sum\\nolimits_{a \\in \\Gamma(x)} w(a,x) * \\sum\\nolimits_{b \\in \\Gamma(y)} w(b,y)$$"
   ]
  },
  {
   "cell_type": "markdown",
   "metadata": {},
   "source": [
    "#### Method 4:  Adamic-Adar Coefficient \n",
    "similar to Method 2, but it defines a higher importance to the common neighbors which have fewer neighbors.\n"
   ]
  },
  {
   "cell_type": "markdown",
   "metadata": {},
   "source": [
    "$$ AA(x,y) = \\sum\\nolimits_{z \\in |\\Gamma(x) \\cap \\Gamma(y)|} \\frac{w(x,z) + w(y,z)}{log (1+ {\\sum\\nolimits_{c \\in \\Gamma(z)}}w(a,x))}$$"
   ]
  },
  {
   "cell_type": "code",
   "execution_count": 4,
   "metadata": {},
   "outputs": [],
   "source": [
    "def local_features(G,method):\n",
    "    \n",
    "    NIds = []\n",
    "    for N in G.Nodes():\n",
    "        NIds.append(N.GetId())\n",
    "    pairs = combinations(NIds, 2) \n",
    "    \n",
    "    if method == \"CN\":\n",
    "        sim = common_neighbor(G,pairs)\n",
    "    if method == \"JC\":\n",
    "        sim = jaccard_coefficient(G,pairs)\n",
    "    if method == \"AA\":\n",
    "        sim = adamic_adar(G,pairs)\n",
    "    if method == \"PA\":\n",
    "        sim = prefer_attach(G,pairs)\n",
    "    \n",
    "    return sim  # a dictionary with all pairs as key and similarity score as value. \n",
    "    \n",
    "    \n"
   ]
  },
  {
   "cell_type": "code",
   "execution_count": 5,
   "metadata": {},
   "outputs": [],
   "source": [
    "def batch_pairs(G,batch_size):  #split all nodes into batches and apply combination on each batch ?\n",
    "    NIds = []\n",
    "    pairs = []\n",
    "    for N in G.Nodes():\n",
    "        NIds.append(N.GetId())\n",
    "        \n",
    "    for b in xrange(len(NIds)/batch_size):\n",
    "        batch = NIds[b*batch_size:(b+1)*batch_size]\n",
    "        pairs.append(combinations(batch, 2))\n",
    "        \n",
    "    if len(NIds)%batch_size != 0:\n",
    "        batch_last = NIds[(b+1)*batch_size:]\n",
    "        pairs.append(combinations(batch_last, 2))\n",
    "    \n",
    "    return pairs"
   ]
  },
  {
   "cell_type": "code",
   "execution_count": 6,
   "metadata": {},
   "outputs": [],
   "source": [
    "def common_neighbor(G,pairs):\n",
    "    \n",
    "    CN = {}\n",
    "    for uId, vId in pairs:\n",
    "        CN[(uId,vId)] = 0\n",
    "        Nbrs = snap.TIntV()\n",
    "        cmn = snap.GetCmnNbrs(G,uId,vId,Nbrs)\n",
    "        print \"u\",uId\n",
    "        print \"v\",vId\n",
    "        if cmn > 0:\n",
    "            for zId in Nbrs:\n",
    "                print \"z\",zId\n",
    "                w1 = G.GetFltAttrDatE(G.GetEI(uId,zId), \"weight\") if (uId < zId) else G.GetFltAttrDatE(G.GetEI(zId,uId), \"weight\")\n",
    "                w2 = G.GetFltAttrDatE(G.GetEI(vId,zId), \"weight\") if (vId < zId) else G.GetFltAttrDatE(G.GetEI(zId,vId), \"weight\")\n",
    "                CN[(uId,vId)] += w1+w2\n",
    "                \n",
    "    return CN"
   ]
  },
  {
   "cell_type": "code",
   "execution_count": 7,
   "metadata": {},
   "outputs": [],
   "source": [
    "def jaccard_coefficient(G,pairs):\n",
    "    \n",
    "    JC = {}\n",
    "    for uId, vId in pairs:\n",
    "        JC[(uId,vId)] = 0\n",
    "        Nbrs = snap.TIntV()\n",
    "        cmn = snap.GetCmnNbrs(G,uId,vId,Nbrs)\n",
    "        \n",
    "        if cmn > 0:            \n",
    "            for zId in Nbrs:\n",
    "                w1 = G.GetFltAttrDatE(G.GetEI(uId,zId), \"weight\") if (uId < zId) else G.GetFltAttrDatE(G.GetEI(zId,uId), \"weight\")\n",
    "                w2 = G.GetFltAttrDatE(G.GetEI(vId,zId), \"weight\") if (vId < zId) else G.GetFltAttrDatE(G.GetEI(zId,vId), \"weight\")\n",
    "                \n",
    "                u = G.GetNI(uId)\n",
    "                u_deg = u.GetDeg()\n",
    "                sum_u = 0               \n",
    "                \n",
    "                for i in range(u_deg):  #compute edge weights between u and all its neighbors\n",
    "                    aId = u.GetNbrNId(i)\n",
    "                    ua = G.GetFltAttrDatE(G.GetEI(uId,aId), \"weight\") if (uId < aId) else G.GetFltAttrDatE(G.GetEI(aId,uId), \"weight\") \n",
    "                    sum_u +=ua\n",
    "                \n",
    "                v = G.GetNI(vId)\n",
    "                v_deg = v.GetDeg()\n",
    "                sum_v = 0 \n",
    "                \n",
    "                for i in range(v_deg):  #compute edge weights between v and all its neighbors\n",
    "                    bId = v.GetNbrNId(i)\n",
    "                    vb = G.GetFltAttrDatE(G.GetEI(vId,bId), \"weight\") if (vId < bId) else G.GetFltAttrDatE(G.GetEI(bId,vId), \"weight\") \n",
    "                    sum_v +=vb\n",
    "                \n",
    "                JC[(uId,vId)] += (w1+w2)*1.0 / (sum_u+sum_v)\n",
    "                \n",
    "    return JC"
   ]
  },
  {
   "cell_type": "code",
   "execution_count": 8,
   "metadata": {},
   "outputs": [],
   "source": [
    "def adamic_adar(G,pairs):\n",
    "    \n",
    "    AA = {}\n",
    "    for uId, vId in pairs:\n",
    "        AA[(uId,vId)] = 0\n",
    "        Nbrs = snap.TIntV()\n",
    "        cmn = snap.GetCmnNbrs(G,uId,vId,Nbrs)\n",
    "        \n",
    "        if cmn > 0:            \n",
    "            for zId in Nbrs:\n",
    "                w1 = G.GetFltAttrDatE(G.GetEI(uId,zId), \"weight\") if (uId < zId) else G.GetFltAttrDatE(G.GetEI(zId,uId), \"weight\")\n",
    "                w2 = G.GetFltAttrDatE(G.GetEI(vId,zId), \"weight\") if (vId < zId) else G.GetFltAttrDatE(G.GetEI(zId,vId), \"weight\")\n",
    "                \n",
    "                z = G.GetNI(zId)\n",
    "                z_deg = z.GetDeg()\n",
    "                sum_a = 0\n",
    "                \n",
    "                for i in range(z_deg):  #compute edge weights between common neighbor and its neigbors\n",
    "                    cId = z.GetNbrNId(i)\n",
    "                    a1 = G.GetFltAttrDatE(G.GetEI(cId,zId), \"weight\") if (cId < zId) else G.GetFltAttrDatE(G.GetEI(zId,cId), \"weight\") \n",
    "                    sum_a +=a1\n",
    "                \n",
    "                AA[(uId,vId)] += (w1+w2)*1.0 / np.log(1+sum_a)\n",
    "    \n",
    "    return AA"
   ]
  },
  {
   "cell_type": "code",
   "execution_count": 9,
   "metadata": {},
   "outputs": [],
   "source": [
    "def prefer_attach(G,pairs):\n",
    "   \n",
    "    PA  = {}\n",
    "    for uId, vId in pairs:\n",
    "        PA[(uId,vId)] = 0        \n",
    "        u = G.GetNI(uId)\n",
    "        v = G.GetNI(vId)\n",
    "        u_deg = u.GetDeg()\n",
    "        v_deg = v.GetDeg()\n",
    "        \n",
    "        if (u_deg != 0) and (v_deg != 0):\n",
    "            sum_u = 0               \n",
    "            sum_v = 0\n",
    "            for i in range(u_deg):  \n",
    "                aId = u.GetNbrNId(i)\n",
    "                ua = G.GetFltAttrDatE(G.GetEI(uId,aId), \"weight\") if (uId < aId) else G.GetFltAttrDatE(G.GetEI(aId,uId), \"weight\") \n",
    "                sum_u +=ua\n",
    "\n",
    "            for i in range(v_deg):  \n",
    "                bId = v.GetNbrNId(i)\n",
    "                vb = G.GetFltAttrDatE(G.GetEI(vId,bId), \"weight\") if (vId < bId) else G.GetFltAttrDatE(G.GetEI(bId,vId), \"weight\") \n",
    "                sum_v +=vb\n",
    "\n",
    "            PA[(uId,vId)] = sum_u * sum_v\n",
    "        \n",
    "    \n",
    "    return PA"
   ]
  },
  {
   "cell_type": "code",
   "execution_count": null,
   "metadata": {},
   "outputs": [],
   "source": []
  }
 ],
 "metadata": {
  "kernelspec": {
   "display_name": "Python 2",
   "language": "python",
   "name": "python2"
  },
  "language_info": {
   "codemirror_mode": {
    "name": "ipython",
    "version": 2
   },
   "file_extension": ".py",
   "mimetype": "text/x-python",
   "name": "python",
   "nbconvert_exporter": "python",
   "pygments_lexer": "ipython2",
   "version": "2.7.14"
  }
 },
 "nbformat": 4,
 "nbformat_minor": 2
}
