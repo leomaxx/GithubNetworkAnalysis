{
 "cells": [
  {
   "cell_type": "code",
   "execution_count": 59,
   "metadata": {},
   "outputs": [
    {
     "name": "stderr",
     "output_type": "stream",
     "text": [
      "/home/shared/anaconda3/lib/python3.6/importlib/_bootstrap.py:219: RuntimeWarning: numpy.dtype size changed, may indicate binary incompatibility. Expected 96, got 88\n",
      "  return f(*args, **kwds)\n",
      "/home/shared/anaconda3/lib/python3.6/importlib/_bootstrap.py:219: RuntimeWarning: numpy.dtype size changed, may indicate binary incompatibility. Expected 96, got 88\n",
      "  return f(*args, **kwds)\n",
      "/home/shared/anaconda3/lib/python3.6/importlib/_bootstrap.py:219: RuntimeWarning: numpy.dtype size changed, may indicate binary incompatibility. Expected 96, got 88\n",
      "  return f(*args, **kwds)\n",
      "/home/shared/anaconda3/lib/python3.6/importlib/_bootstrap.py:219: RuntimeWarning: numpy.dtype size changed, may indicate binary incompatibility. Expected 96, got 88\n",
      "  return f(*args, **kwds)\n"
     ]
    }
   ],
   "source": [
    "import pickle\n",
    "import collections\n",
    "from itertools import combinations\n",
    "import numpy as np\n",
    "from tqdm import tqdm, tqdm_notebook\n",
    "from IPython.lib import backgroundjobs as bg\n",
    "from sklearn import metrics"
   ]
  },
  {
   "cell_type": "code",
   "execution_count": 4,
   "metadata": {},
   "outputs": [],
   "source": [
    "with open('./data/project_authors_2016_q1_k25core.pickle', 'rb') as picklefile:\n",
    "    project_authors_q1 = pickle.load(picklefile, encoding='latin1')"
   ]
  },
  {
   "cell_type": "code",
   "execution_count": 28,
   "metadata": {},
   "outputs": [],
   "source": [
    "with open('./data/project_authors_2016_q2_k25core.pickle', 'rb') as picklefile:\n",
    "    project_authors_q2 = pickle.load(picklefile, encoding='latin1')"
   ]
  },
  {
   "cell_type": "code",
   "execution_count": 6,
   "metadata": {},
   "outputs": [
    {
     "data": {
      "text/plain": [
       "(3053, 2162)"
      ]
     },
     "execution_count": 6,
     "metadata": {},
     "output_type": "execute_result"
    }
   ],
   "source": [
    "authors = project_authors_q1['author_id'].unique()\n",
    "projects = project_authors_q1['project_id'].unique()\n",
    "len(authors), len(projects)"
   ]
  },
  {
   "cell_type": "code",
   "execution_count": 10,
   "metadata": {},
   "outputs": [],
   "source": [
    "neighbours = {node: set() for node in authors}"
   ]
  },
  {
   "cell_type": "code",
   "execution_count": 9,
   "metadata": {},
   "outputs": [
    {
     "data": {
      "application/vnd.jupyter.widget-view+json": {
       "model_id": "6016e96ff285479abda467f1051250e4",
       "version_major": 2,
       "version_minor": 0
      },
      "text/html": [
       "<p>Failed to display Jupyter Widget of type <code>HBox</code>.</p>\n",
       "<p>\n",
       "  If you're reading this message in the Jupyter Notebook or JupyterLab Notebook, it may mean\n",
       "  that the widgets JavaScript is still loading. If this message persists, it\n",
       "  likely means that the widgets JavaScript library is either not installed or\n",
       "  not enabled. See the <a href=\"https://ipywidgets.readthedocs.io/en/stable/user_install.html\">Jupyter\n",
       "  Widgets Documentation</a> for setup instructions.\n",
       "</p>\n",
       "<p>\n",
       "  If you're reading this message in another frontend (for example, a static\n",
       "  rendering on GitHub or <a href=\"https://nbviewer.jupyter.org/\">NBViewer</a>),\n",
       "  it may mean that your frontend doesn't currently support widgets.\n",
       "</p>\n"
      ],
      "text/plain": [
       "HBox(children=(IntProgress(value=1, bar_style='info', max=1), HTML(value='')))"
      ]
     },
     "metadata": {},
     "output_type": "display_data"
    },
    {
     "name": "stdout",
     "output_type": "stream",
     "text": [
      "\n"
     ]
    }
   ],
   "source": [
    "commit_index = collections.defaultdict(dict)\n",
    "for _, row in tqdm_notebook(project_authors_q1.iterrows()):\n",
    "    commit_index[row['project_id']][row['author_id']]=row['commit_times']"
   ]
  },
  {
   "cell_type": "code",
   "execution_count": 29,
   "metadata": {},
   "outputs": [
    {
     "data": {
      "application/vnd.jupyter.widget-view+json": {
       "model_id": "a0930b0da9864ed0b7b1b798d4a91a54",
       "version_major": 2,
       "version_minor": 0
      },
      "text/html": [
       "<p>Failed to display Jupyter Widget of type <code>HBox</code>.</p>\n",
       "<p>\n",
       "  If you're reading this message in the Jupyter Notebook or JupyterLab Notebook, it may mean\n",
       "  that the widgets JavaScript is still loading. If this message persists, it\n",
       "  likely means that the widgets JavaScript library is either not installed or\n",
       "  not enabled. See the <a href=\"https://ipywidgets.readthedocs.io/en/stable/user_install.html\">Jupyter\n",
       "  Widgets Documentation</a> for setup instructions.\n",
       "</p>\n",
       "<p>\n",
       "  If you're reading this message in another frontend (for example, a static\n",
       "  rendering on GitHub or <a href=\"https://nbviewer.jupyter.org/\">NBViewer</a>),\n",
       "  it may mean that your frontend doesn't currently support widgets.\n",
       "</p>\n"
      ],
      "text/plain": [
       "HBox(children=(IntProgress(value=1, bar_style='info', max=1), HTML(value='')))"
      ]
     },
     "metadata": {},
     "output_type": "display_data"
    }
   ],
   "source": [
    "commit_index_q2 = collections.defaultdict(dict)\n",
    "for _, row in tqdm_notebook(project_authors_q2.iterrows()):\n",
    "    commit_index_q2[row['project_id']][row['author_id']]=row['commit_times']"
   ]
  },
  {
   "cell_type": "code",
   "execution_count": 11,
   "metadata": {},
   "outputs": [
    {
     "data": {
      "application/vnd.jupyter.widget-view+json": {
       "model_id": "0ebbf9685ab442cda763d4f5839cd94a",
       "version_major": 2,
       "version_minor": 0
      },
      "text/html": [
       "<p>Failed to display Jupyter Widget of type <code>HBox</code>.</p>\n",
       "<p>\n",
       "  If you're reading this message in the Jupyter Notebook or JupyterLab Notebook, it may mean\n",
       "  that the widgets JavaScript is still loading. If this message persists, it\n",
       "  likely means that the widgets JavaScript library is either not installed or\n",
       "  not enabled. See the <a href=\"https://ipywidgets.readthedocs.io/en/stable/user_install.html\">Jupyter\n",
       "  Widgets Documentation</a> for setup instructions.\n",
       "</p>\n",
       "<p>\n",
       "  If you're reading this message in another frontend (for example, a static\n",
       "  rendering on GitHub or <a href=\"https://nbviewer.jupyter.org/\">NBViewer</a>),\n",
       "  it may mean that your frontend doesn't currently support widgets.\n",
       "</p>\n"
      ],
      "text/plain": [
       "HBox(children=(IntProgress(value=0, max=2162), HTML(value='')))"
      ]
     },
     "metadata": {},
     "output_type": "display_data"
    },
    {
     "name": "stdout",
     "output_type": "stream",
     "text": [
      "\n"
     ]
    }
   ],
   "source": [
    "for repo, by_author in tqdm_notebook(commit_index.items()):\n",
    "    edges = combinations(by_author, 2)\n",
    "    for a, b in edges:\n",
    "        neighbours[a].add(b)\n",
    "        neighbours[b].add(a)"
   ]
  },
  {
   "cell_type": "code",
   "execution_count": 30,
   "metadata": {},
   "outputs": [
    {
     "data": {
      "application/vnd.jupyter.widget-view+json": {
       "model_id": "3cc3df28721d4b9f86bc69ef667c38a4",
       "version_major": 2,
       "version_minor": 0
      },
      "text/html": [
       "<p>Failed to display Jupyter Widget of type <code>HBox</code>.</p>\n",
       "<p>\n",
       "  If you're reading this message in the Jupyter Notebook or JupyterLab Notebook, it may mean\n",
       "  that the widgets JavaScript is still loading. If this message persists, it\n",
       "  likely means that the widgets JavaScript library is either not installed or\n",
       "  not enabled. See the <a href=\"https://ipywidgets.readthedocs.io/en/stable/user_install.html\">Jupyter\n",
       "  Widgets Documentation</a> for setup instructions.\n",
       "</p>\n",
       "<p>\n",
       "  If you're reading this message in another frontend (for example, a static\n",
       "  rendering on GitHub or <a href=\"https://nbviewer.jupyter.org/\">NBViewer</a>),\n",
       "  it may mean that your frontend doesn't currently support widgets.\n",
       "</p>\n"
      ],
      "text/plain": [
       "HBox(children=(IntProgress(value=0, max=2162), HTML(value='')))"
      ]
     },
     "metadata": {},
     "output_type": "display_data"
    }
   ],
   "source": [
    "edges_q1 = set()\n",
    "for repo, by_author in tqdm_notebook(commit_index.items()):\n",
    "    edges = combinations(by_author, 2)\n",
    "    for a, b in edges:\n",
    "        if a > b:\n",
    "            a, b = b, a\n",
    "        edges_q1.add((a, b))"
   ]
  },
  {
   "cell_type": "code",
   "execution_count": 31,
   "metadata": {},
   "outputs": [
    {
     "data": {
      "application/vnd.jupyter.widget-view+json": {
       "model_id": "e960f6ed206647b588ae2aa3d9777da8",
       "version_major": 2,
       "version_minor": 0
      },
      "text/html": [
       "<p>Failed to display Jupyter Widget of type <code>HBox</code>.</p>\n",
       "<p>\n",
       "  If you're reading this message in the Jupyter Notebook or JupyterLab Notebook, it may mean\n",
       "  that the widgets JavaScript is still loading. If this message persists, it\n",
       "  likely means that the widgets JavaScript library is either not installed or\n",
       "  not enabled. See the <a href=\"https://ipywidgets.readthedocs.io/en/stable/user_install.html\">Jupyter\n",
       "  Widgets Documentation</a> for setup instructions.\n",
       "</p>\n",
       "<p>\n",
       "  If you're reading this message in another frontend (for example, a static\n",
       "  rendering on GitHub or <a href=\"https://nbviewer.jupyter.org/\">NBViewer</a>),\n",
       "  it may mean that your frontend doesn't currently support widgets.\n",
       "</p>\n"
      ],
      "text/plain": [
       "HBox(children=(IntProgress(value=0, max=10766), HTML(value='')))"
      ]
     },
     "metadata": {},
     "output_type": "display_data"
    }
   ],
   "source": [
    "edges_q2 = set()\n",
    "for repo, by_author in tqdm_notebook(commit_index_q2.items()):\n",
    "    edges = combinations(by_author, 2)\n",
    "    for a, b in edges:\n",
    "        if a > b:\n",
    "            a, b = b, a\n",
    "        edges_q2.add((a, b))"
   ]
  },
  {
   "cell_type": "code",
   "execution_count": 33,
   "metadata": {},
   "outputs": [
    {
     "data": {
      "text/plain": [
       "26971"
      ]
     },
     "execution_count": 33,
     "metadata": {},
     "output_type": "execute_result"
    }
   ],
   "source": [
    "new_edges=edges_q2.difference(edges_q1)\n",
    "k = len(new_edges)\n",
    "k"
   ]
  },
  {
   "cell_type": "code",
   "execution_count": 17,
   "metadata": {},
   "outputs": [],
   "source": [
    "def common_neighbor(neighbours, pairs, cache):    \n",
    "    for u, v in tqdm_notebook(pairs, mininterval=1):\n",
    "        if u > v:\n",
    "            u, v = v, u\n",
    "        if (u, v) not in cache:\n",
    "            cache[(u, v)] = len(neighbours[u].intersection(neighbours[v]))"
   ]
  },
  {
   "cell_type": "code",
   "execution_count": 13,
   "metadata": {},
   "outputs": [],
   "source": [
    "pairs = list(combinations(authors, 2)) # convert to list for nicer progress bar"
   ]
  },
  {
   "cell_type": "code",
   "execution_count": 16,
   "metadata": {},
   "outputs": [],
   "source": [
    "jobs = bg.BackgroundJobManager()"
   ]
  },
  {
   "cell_type": "code",
   "execution_count": 18,
   "metadata": {
    "scrolled": false
   },
   "outputs": [
    {
     "name": "stdout",
     "output_type": "stream",
     "text": [
      "Starting job # 0 in a separate thread.\n"
     ]
    },
    {
     "data": {
      "text/plain": [
       "<BackgroundJob #0: <function <lambda> at 0x7f4fb3cfd6a8>>"
      ]
     },
     "execution_count": 18,
     "metadata": {},
     "output_type": "execute_result"
    },
    {
     "data": {
      "application/vnd.jupyter.widget-view+json": {
       "model_id": "befe72e83fa84158be4f7c33e0937195",
       "version_major": 2,
       "version_minor": 0
      },
      "text/html": [
       "<p>Failed to display Jupyter Widget of type <code>HBox</code>.</p>\n",
       "<p>\n",
       "  If you're reading this message in the Jupyter Notebook or JupyterLab Notebook, it may mean\n",
       "  that the widgets JavaScript is still loading. If this message persists, it\n",
       "  likely means that the widgets JavaScript library is either not installed or\n",
       "  not enabled. See the <a href=\"https://ipywidgets.readthedocs.io/en/stable/user_install.html\">Jupyter\n",
       "  Widgets Documentation</a> for setup instructions.\n",
       "</p>\n",
       "<p>\n",
       "  If you're reading this message in another frontend (for example, a static\n",
       "  rendering on GitHub or <a href=\"https://nbviewer.jupyter.org/\">NBViewer</a>),\n",
       "  it may mean that your frontend doesn't currently support widgets.\n",
       "</p>\n"
      ],
      "text/plain": [
       "HBox(children=(IntProgress(value=0, max=4658878), HTML(value='')))"
      ]
     },
     "metadata": {},
     "output_type": "display_data"
    },
    {
     "name": "stdout",
     "output_type": "stream",
     "text": [
      "\n"
     ]
    }
   ],
   "source": [
    "cn_cache = collections.defaultdict(float)\n",
    "jobs.new(lambda:common_neighbor(neighbours, pairs, cn_cache))"
   ]
  },
  {
   "cell_type": "code",
   "execution_count": 57,
   "metadata": {},
   "outputs": [],
   "source": [
    "with open('./data/sim_unweighted_cn.pickle', 'wb') as picklefile:\n",
    "    pickle.dump(cn_cache, picklefile, protocol=2)"
   ]
  },
  {
   "cell_type": "code",
   "execution_count": 49,
   "metadata": {},
   "outputs": [],
   "source": [
    "def accuracy(similarities, q1, q2):\n",
    "    top = sorted([(similarities[pair], pair) for pair in similarities if pair not in q1], reverse=True)\n",
    "    new_edges=q2.difference(q1)\n",
    "    k = len(new_edges)\n",
    "    edges = set(edge for weight, edge in top[:k])\n",
    "    overlap = len(edges.intersection(new_edges))\n",
    "    return overlap, overlap/k"
   ]
  },
  {
   "cell_type": "code",
   "execution_count": 50,
   "metadata": {},
   "outputs": [
    {
     "data": {
      "text/plain": [
       "(4853, 0.17993400318861)"
      ]
     },
     "execution_count": 50,
     "metadata": {},
     "output_type": "execute_result"
    }
   ],
   "source": [
    "accuracy(cn_cache, edges_q1, edges_q2)"
   ]
  },
  {
   "cell_type": "code",
   "execution_count": 19,
   "metadata": {},
   "outputs": [],
   "source": [
    "def jaccard_coefficient(neighbours, pairs, cache):\n",
    "    for u, v in tqdm_notebook(pairs, mininterval=1):\n",
    "        if u > v:\n",
    "            u, v = v, u\n",
    "        if (u, v) not in cache:\n",
    "            cache[(u, v)] = len(neighbours[u].intersection(neighbours[v]))/len(neighbours[u].union(neighbours[v]))"
   ]
  },
  {
   "cell_type": "code",
   "execution_count": 20,
   "metadata": {},
   "outputs": [
    {
     "name": "stdout",
     "output_type": "stream",
     "text": [
      "Starting job # 2 in a separate thread.\n"
     ]
    },
    {
     "data": {
      "text/plain": [
       "<BackgroundJob #2: <function <lambda> at 0x7f4fb3cfd488>>"
      ]
     },
     "execution_count": 20,
     "metadata": {},
     "output_type": "execute_result"
    },
    {
     "data": {
      "application/vnd.jupyter.widget-view+json": {
       "model_id": "f62c45df8d604810b90a806f23296ede",
       "version_major": 2,
       "version_minor": 0
      },
      "text/html": [
       "<p>Failed to display Jupyter Widget of type <code>HBox</code>.</p>\n",
       "<p>\n",
       "  If you're reading this message in the Jupyter Notebook or JupyterLab Notebook, it may mean\n",
       "  that the widgets JavaScript is still loading. If this message persists, it\n",
       "  likely means that the widgets JavaScript library is either not installed or\n",
       "  not enabled. See the <a href=\"https://ipywidgets.readthedocs.io/en/stable/user_install.html\">Jupyter\n",
       "  Widgets Documentation</a> for setup instructions.\n",
       "</p>\n",
       "<p>\n",
       "  If you're reading this message in another frontend (for example, a static\n",
       "  rendering on GitHub or <a href=\"https://nbviewer.jupyter.org/\">NBViewer</a>),\n",
       "  it may mean that your frontend doesn't currently support widgets.\n",
       "</p>\n"
      ],
      "text/plain": [
       "HBox(children=(IntProgress(value=0, max=4658878), HTML(value='')))"
      ]
     },
     "metadata": {},
     "output_type": "display_data"
    }
   ],
   "source": [
    "jc_cache = collections.defaultdict(float)\n",
    "jobs.new(lambda:jaccard_coefficient(neighbours, pairs, jc_cache))"
   ]
  },
  {
   "cell_type": "code",
   "execution_count": 51,
   "metadata": {},
   "outputs": [
    {
     "data": {
      "text/plain": [
       "(4752, 0.1761892402951318)"
      ]
     },
     "execution_count": 51,
     "metadata": {},
     "output_type": "execute_result"
    }
   ],
   "source": [
    "accuracy(jc_cache, edges_q1, edges_q2)"
   ]
  },
  {
   "cell_type": "code",
   "execution_count": 56,
   "metadata": {},
   "outputs": [],
   "source": [
    "with open('./data/sim_unweighted_jc.pickle', 'wb') as picklefile:\n",
    "    pickle.dump(jc_cache, picklefile, protocol=2)"
   ]
  },
  {
   "cell_type": "code",
   "execution_count": 22,
   "metadata": {},
   "outputs": [],
   "source": [
    "def prefer_attach(neighbours, pairs, cache):\n",
    "    for u, v in tqdm_notebook(pairs, mininterval=1):\n",
    "        if u > v:\n",
    "            u, v = v, u\n",
    "        if (u, v) not in cache:\n",
    "            cache[(u, v)] = len(neighbours[u]) * len(neighbours[v])"
   ]
  },
  {
   "cell_type": "code",
   "execution_count": 23,
   "metadata": {},
   "outputs": [
    {
     "name": "stdout",
     "output_type": "stream",
     "text": [
      "Starting job # 3 in a separate thread.\n"
     ]
    },
    {
     "data": {
      "text/plain": [
       "<BackgroundJob #3: <function <lambda> at 0x7f4fb3cfd510>>"
      ]
     },
     "execution_count": 23,
     "metadata": {},
     "output_type": "execute_result"
    },
    {
     "data": {
      "application/vnd.jupyter.widget-view+json": {
       "model_id": "d17dad4556e444dd9e50680a0362595b",
       "version_major": 2,
       "version_minor": 0
      },
      "text/html": [
       "<p>Failed to display Jupyter Widget of type <code>HBox</code>.</p>\n",
       "<p>\n",
       "  If you're reading this message in the Jupyter Notebook or JupyterLab Notebook, it may mean\n",
       "  that the widgets JavaScript is still loading. If this message persists, it\n",
       "  likely means that the widgets JavaScript library is either not installed or\n",
       "  not enabled. See the <a href=\"https://ipywidgets.readthedocs.io/en/stable/user_install.html\">Jupyter\n",
       "  Widgets Documentation</a> for setup instructions.\n",
       "</p>\n",
       "<p>\n",
       "  If you're reading this message in another frontend (for example, a static\n",
       "  rendering on GitHub or <a href=\"https://nbviewer.jupyter.org/\">NBViewer</a>),\n",
       "  it may mean that your frontend doesn't currently support widgets.\n",
       "</p>\n"
      ],
      "text/plain": [
       "HBox(children=(IntProgress(value=0, max=4658878), HTML(value='')))"
      ]
     },
     "metadata": {},
     "output_type": "display_data"
    },
    {
     "name": "stdout",
     "output_type": "stream",
     "text": [
      "\n"
     ]
    }
   ],
   "source": [
    "pa_cache = collections.defaultdict(float)\n",
    "jobs.new(lambda:prefer_attach(neighbours, pairs, pa_cache))"
   ]
  },
  {
   "cell_type": "code",
   "execution_count": 55,
   "metadata": {},
   "outputs": [],
   "source": [
    "with open('./data/sim_unweighted_pa.pickle', 'wb') as picklefile:\n",
    "    pickle.dump(pa_cache, picklefile, protocol=2)"
   ]
  },
  {
   "cell_type": "code",
   "execution_count": 52,
   "metadata": {},
   "outputs": [
    {
     "data": {
      "text/plain": [
       "(4312, 0.15987542174928626)"
      ]
     },
     "execution_count": 52,
     "metadata": {},
     "output_type": "execute_result"
    }
   ],
   "source": [
    "accuracy(pa_cache, edges_q1, edges_q2)"
   ]
  },
  {
   "cell_type": "code",
   "execution_count": 24,
   "metadata": {},
   "outputs": [],
   "source": [
    "def adamic_adar(neighbours, pairs, cache):\n",
    "    for u, v in tqdm_notebook(pairs, mininterval=1):\n",
    "        if u > v:\n",
    "            u, v = v, u\n",
    "        if (u, v) not in cache:\n",
    "            cn = neighbours[u].intersection(neighbours[v])\n",
    "            cache[(u, v)] = sum(1/np.log(len(neighbours[z]))for z in cn)"
   ]
  },
  {
   "cell_type": "code",
   "execution_count": 25,
   "metadata": {
    "scrolled": true
   },
   "outputs": [
    {
     "name": "stdout",
     "output_type": "stream",
     "text": [
      "Starting job # 4 in a separate thread.\n"
     ]
    },
    {
     "data": {
      "text/plain": [
       "<BackgroundJob #4: <function <lambda> at 0x7f4f287ef268>>"
      ]
     },
     "execution_count": 25,
     "metadata": {},
     "output_type": "execute_result"
    },
    {
     "data": {
      "application/vnd.jupyter.widget-view+json": {
       "model_id": "35014e91b904478f87ed4e199c74fccb",
       "version_major": 2,
       "version_minor": 0
      },
      "text/html": [
       "<p>Failed to display Jupyter Widget of type <code>HBox</code>.</p>\n",
       "<p>\n",
       "  If you're reading this message in the Jupyter Notebook or JupyterLab Notebook, it may mean\n",
       "  that the widgets JavaScript is still loading. If this message persists, it\n",
       "  likely means that the widgets JavaScript library is either not installed or\n",
       "  not enabled. See the <a href=\"https://ipywidgets.readthedocs.io/en/stable/user_install.html\">Jupyter\n",
       "  Widgets Documentation</a> for setup instructions.\n",
       "</p>\n",
       "<p>\n",
       "  If you're reading this message in another frontend (for example, a static\n",
       "  rendering on GitHub or <a href=\"https://nbviewer.jupyter.org/\">NBViewer</a>),\n",
       "  it may mean that your frontend doesn't currently support widgets.\n",
       "</p>\n"
      ],
      "text/plain": [
       "HBox(children=(IntProgress(value=0, max=4658878), HTML(value='')))"
      ]
     },
     "metadata": {},
     "output_type": "display_data"
    }
   ],
   "source": [
    "aa_cache = collections.defaultdict(float)\n",
    "jobs.new(lambda:adamic_adar(neighbours, pairs, aa_cache))"
   ]
  },
  {
   "cell_type": "code",
   "execution_count": 54,
   "metadata": {},
   "outputs": [],
   "source": [
    "with open('./data/sim_unweighted_aa.pickle', 'wb') as picklefile:\n",
    "    pickle.dump(aa_cache, picklefile, protocol=2)"
   ]
  },
  {
   "cell_type": "code",
   "execution_count": 53,
   "metadata": {},
   "outputs": [
    {
     "data": {
      "text/plain": [
       "(4858, 0.18011938749026732)"
      ]
     },
     "execution_count": 53,
     "metadata": {},
     "output_type": "execute_result"
    }
   ],
   "source": [
    "accuracy(aa_cache, edges_q1, edges_q2)"
   ]
  },
  {
   "cell_type": "code",
   "execution_count": 58,
   "metadata": {},
   "outputs": [
    {
     "data": {
      "text/plain": [
       "defaultdict(float,\n",
       "            {(100937, 6949824): 0.35376364830455975,\n",
       "             (100937, 6567819): 0.17758167136036196,\n",
       "             (12930, 100937): 38.485191185137744,\n",
       "             (100937, 9728166): 0,\n",
       "             (100937, 962575): 0.19752715622645642,\n",
       "             (45392, 100937): 0,\n",
       "             (100937, 2792472): 0,\n",
       "             (100937, 7005455): 0,\n",
       "             (100937, 4024826): 0,\n",
       "             (83693, 100937): 0.17095990351369836,\n",
       "             (100937, 9029100): 0.35376364830455975,\n",
       "             (7251, 100937): 0,\n",
       "             (22227, 100937): 0.17758167136036196,\n",
       "             (48937, 100937): 0,\n",
       "             (100937, 548158): 0,\n",
       "             (100937, 436017): 0.17758167136036196,\n",
       "             (100937, 6215998): 38.297774407500945,\n",
       "             (100937, 2153989): 0,\n",
       "             (100937, 4659404): 0.35376364830455975,\n",
       "             (100937, 193196): 0,\n",
       "             (100937, 3652745): 0.19752715622645642,\n",
       "             (23766, 100937): 0,\n",
       "             (100937, 992869): 0,\n",
       "             (100937, 9760153): 38.485191185137744,\n",
       "             (100937, 7061118): 38.485191185137744,\n",
       "             (100937, 1441148): 0,\n",
       "             (6787, 100937): 0,\n",
       "             (100937, 8611241): 0,\n",
       "             (22777, 100937): 0,\n",
       "             (100937, 5981988): 0,\n",
       "             (100937, 6804787): 0,\n",
       "             (100937, 6094318): 0,\n",
       "             (100937, 4418106): 0,\n",
       "             (100937, 409239): 0,\n",
       "             (100937, 173399): 0,\n",
       "             (100937, 656343): 0,\n",
       "             (100937, 176703): 0,\n",
       "             (86521, 100937): 0,\n",
       "             (37585, 100937): 0,\n",
       "             (36974, 100937): 0,\n",
       "             (100937, 10364457): 0,\n",
       "             (100937, 2868853): 0.35376364830455975,\n",
       "             (100937, 327772): 0.17758167136036196,\n",
       "             (90929, 100937): 0,\n",
       "             (100937, 219968): 0,\n",
       "             (100937, 209367): 0.19752715622645642,\n",
       "             (100937, 4067813): 0,\n",
       "             (100937, 4008982): 0,\n",
       "             (33323, 100937): 0,\n",
       "             (100937, 1117537): 0,\n",
       "             (100937, 190976): 0,\n",
       "             (63030, 100937): 0,\n",
       "             (100937, 1299750): 38.485191185137744,\n",
       "             (13194, 100937): 0.35376364830455975,\n",
       "             (100937, 1545672): 0,\n",
       "             (100937, 684710): 0.17758167136036196,\n",
       "             (100937, 1946583): 0,\n",
       "             (88448, 100937): 0,\n",
       "             (100937, 10155399): 0.35376364830455975,\n",
       "             (100937, 3173701): 0,\n",
       "             (100937, 10455113): 0.17758167136036196,\n",
       "             (5203, 100937): 0,\n",
       "             (100937, 4250457): 0,\n",
       "             (978, 100937): 0,\n",
       "             (100937, 1474962): 0,\n",
       "             (28831, 100937): 38.485191185137744,\n",
       "             (100937, 6242167): 0,\n",
       "             (100937, 1229312): 0,\n",
       "             (63043, 100937): 0,\n",
       "             (100937, 913154): 0,\n",
       "             (73180, 100937): 0.19752715622645642,\n",
       "             (22768, 100937): 0,\n",
       "             (100937, 3965447): 0.35376364830455975,\n",
       "             (100937, 131883): 0.17758167136036196,\n",
       "             (100937, 10557436): 0.17758167136036196,\n",
       "             (100937, 1760733): 0,\n",
       "             (39559, 100937): 0.17095990351369836,\n",
       "             (53028, 100937): 0.17758167136036196,\n",
       "             (100937, 5034910): 0,\n",
       "             (63031, 100937): 0,\n",
       "             (100937, 120323): 0.17758167136036196,\n",
       "             (100937, 2059615): 0,\n",
       "             (100937, 3879869): 0,\n",
       "             (100937, 1241562): 0.19752715622645642,\n",
       "             (100937, 435801): 38.287492444579364,\n",
       "             (100937, 266476): 0,\n",
       "             (6858, 100937): 0.19752715622645642,\n",
       "             (100937, 1086156): 0,\n",
       "             (100937, 1319258): 0,\n",
       "             (100937, 669998): 0,\n",
       "             (100937, 212938): 0.17095990351369836,\n",
       "             (100937, 14256922): 0,\n",
       "             (100937, 1913290): 0,\n",
       "             (61563, 100937): 0.19752715622645642,\n",
       "             (100937, 6101182): 0,\n",
       "             (17141, 100937): 0,\n",
       "             (44269, 100937): 0.1758403962284105,\n",
       "             (100937, 394231): 0.17758167136036196,\n",
       "             (100937, 136374): 0.17758167136036196,\n",
       "             (100937, 1836831): 0,\n",
       "             (100937, 1117561): 0,\n",
       "             (22758, 100937): 0,\n",
       "             (100937, 378308): 0,\n",
       "             (22231, 100937): 0.17758167136036196,\n",
       "             (722, 100937): 0,\n",
       "             (6408, 100937): 0.17095990351369836,\n",
       "             (980, 100937): 0,\n",
       "             (100937, 8697293): 0,\n",
       "             (100937, 253990): 0,\n",
       "             (100937, 587601): 0,\n",
       "             (100937, 8983960): 0,\n",
       "             (100937, 147920): 0.1758403962284105,\n",
       "             (100937, 3028626): 0,\n",
       "             (100937, 2605813): 0,\n",
       "             (100937, 1450665): 0,\n",
       "             (100937, 409395): 0.17758167136036196,\n",
       "             (71143, 100937): 0,\n",
       "             (100937, 5725487): 0,\n",
       "             (100937, 988573): 38.485191185137744,\n",
       "             (100937, 1355399): 0.35376364830455975,\n",
       "             (100937, 7256493): 0.35376364830455975,\n",
       "             (100937, 1667385): 0.17758167136036196,\n",
       "             (100937, 3480946): 0,\n",
       "             (6667, 100937): 0,\n",
       "             (100937, 30762682): 0,\n",
       "             (67, 100937): 0,\n",
       "             (6682, 100937): 38.485191185137744,\n",
       "             (49284, 100937): 0,\n",
       "             (100937, 127703): 0.19752715622645642,\n",
       "             (100937, 4752304): 0,\n",
       "             (100937, 760287): 0,\n",
       "             (22224, 100937): 0.17758167136036196,\n",
       "             (100937, 3805730): 0.35376364830455975,\n",
       "             (1021, 100937): 0,\n",
       "             (100937, 3756117): 0.17758167136036196,\n",
       "             (100937, 761529): 0,\n",
       "             (100937, 10863683): 0,\n",
       "             (100937, 11084398): 0,\n",
       "             (100937, 8323955): 0,\n",
       "             (100937, 3483848): 0,\n",
       "             (100937, 6743562): 0,\n",
       "             (100937, 149237): 0,\n",
       "             (100937, 128588): 0.17095990351369836,\n",
       "             (100937, 2715718): 0,\n",
       "             (100030, 100937): 0,\n",
       "             (100937, 7559649): 0,\n",
       "             (100937, 5057848): 0,\n",
       "             (100937, 1241616): 0.17758167136036196,\n",
       "             (100937, 6962481): 0,\n",
       "             (100937, 131417): 0,\n",
       "             (100937, 1007941): 0,\n",
       "             (100937, 7944436): 0,\n",
       "             (100937, 1486273): 0,\n",
       "             (100937, 248768): 0,\n",
       "             (100937, 612272): 0.19752715622645642,\n",
       "             (100937, 7077668): 0,\n",
       "             (100937, 231317): 38.485191185137744,\n",
       "             (100937, 115196): 38.111479308659106,\n",
       "             (100937, 708946): 0,\n",
       "             (100937, 478320): 38.485191185137744,\n",
       "             (979, 100937): 0,\n",
       "             (100937, 2673845): 0,\n",
       "             (100937, 1944325): 0,\n",
       "             (100937, 10309670): 0,\n",
       "             (15378, 100937): 0,\n",
       "             (100937, 1035407): 0,\n",
       "             (100937, 190498): 0,\n",
       "             (100937, 442919): 0,\n",
       "             (100937, 322404): 0.17758167136036196,\n",
       "             (5554, 100937): 0,\n",
       "             (100937, 380093): 0,\n",
       "             (100937, 945846): 0,\n",
       "             (100937, 6751821): 0.35376364830455975,\n",
       "             (100937, 241476): 0,\n",
       "             (100937, 4622756): 0,\n",
       "             (6678, 100937): 0,\n",
       "             (85874, 100937): 0,\n",
       "             (100937, 2228104): 0.35376364830455975,\n",
       "             (100937, 7780816): 0.35376364830455975,\n",
       "             (100937, 7924529): 0.17758167136036196,\n",
       "             (100937, 358692): 0,\n",
       "             (32733, 100937): 0.19752715622645642,\n",
       "             (16952, 100937): 0.19752715622645642,\n",
       "             (100937, 526670): 0,\n",
       "             (100937, 966652): 0,\n",
       "             (100937, 7495242): 0.19752715622645642,\n",
       "             (22694, 100937): 0.17758167136036196,\n",
       "             (100937, 514976): 0,\n",
       "             (100937, 356152): 38.485191185137744,\n",
       "             (100937, 8721060): 0,\n",
       "             (100937, 2916771): 0,\n",
       "             (100937, 5792055): 0,\n",
       "             (100937, 3942356): 0,\n",
       "             (100937, 6890134): 0,\n",
       "             (100937, 2037458): 0,\n",
       "             (100937, 2885360): 0.17095990351369836,\n",
       "             (100937, 8255110): 0,\n",
       "             (100937, 707209): 0.17095990351369836,\n",
       "             (100937, 444943): 0,\n",
       "             (100937, 4613135): 0,\n",
       "             (100937, 7367749): 0,\n",
       "             (100937, 10673647): 0,\n",
       "             (100937, 7284152): 0.1758403962284105,\n",
       "             (100937, 1322547): 0,\n",
       "             (100937, 8380747): 0,\n",
       "             (84761, 100937): 0,\n",
       "             (100937, 8251995): 0,\n",
       "             (100937, 237071): 0,\n",
       "             (100937, 391036): 0.17095990351369836,\n",
       "             (100937, 2791403): 0.1758403962284105,\n",
       "             (100937, 8353844): 0,\n",
       "             (71150, 100937): 0,\n",
       "             (100937, 292811): 0,\n",
       "             (100937, 6093875): 0,\n",
       "             (100937, 1795195): 0,\n",
       "             (100937, 3979240): 0,\n",
       "             (100937, 6450064): 0,\n",
       "             (11213, 100937): 0,\n",
       "             (24990, 100937): 0,\n",
       "             (100937, 164989): 0,\n",
       "             (100937, 2548003): 0.35376364830455975,\n",
       "             (100937, 4565787): 0,\n",
       "             (100937, 1269059): 0,\n",
       "             (100937, 121631): 0,\n",
       "             (17928, 100937): 0,\n",
       "             (100937, 332172): 0,\n",
       "             (100937, 2682948): 0,\n",
       "             (85069, 100937): 0,\n",
       "             (100937, 143412): 0.17758167136036196,\n",
       "             (51667, 100937): 0,\n",
       "             (100937, 2938232): 0,\n",
       "             (100937, 6876085): 0.1758403962284105,\n",
       "             (40493, 100937): 0.35376364830455975,\n",
       "             (100937, 266472): 0,\n",
       "             (100937, 5106821): 0.1758403962284105,\n",
       "             (100937, 429102): 0,\n",
       "             (100937, 1166656): 0,\n",
       "             (35842, 100937): 0.17095990351369836,\n",
       "             (100937, 9664230): 0,\n",
       "             (100937, 127849): 0.17095990351369836,\n",
       "             (100937, 136388): 0.19752715622645642,\n",
       "             (100937, 2567162): 0,\n",
       "             (100937, 193051): 0,\n",
       "             (100937, 6913142): 0.17095990351369836,\n",
       "             (100937, 558585): 0.19752715622645642,\n",
       "             (80589, 100937): 0.1758403962284105,\n",
       "             (40590, 100937): 0,\n",
       "             (100937, 5061233): 0,\n",
       "             (100937, 1114473): 0,\n",
       "             (100937, 909340): 0.19752715622645642,\n",
       "             (100937, 3035095): 0.35376364830455975,\n",
       "             (6417, 100937): 0,\n",
       "             (51130, 100937): 0,\n",
       "             (100937, 487864): 0.35376364830455975,\n",
       "             (100937, 3875586): 0,\n",
       "             (100937, 9462127): 0,\n",
       "             (100937, 481045): 0.19752715622645642,\n",
       "             (100937, 104615): 0,\n",
       "             (100937, 6252690): 0,\n",
       "             (777, 100937): 0.19752715622645642,\n",
       "             (100937, 301823): 0,\n",
       "             (16951, 100937): 0.19752715622645642,\n",
       "             (100937, 10188189): 0,\n",
       "             (100937, 664259): 0,\n",
       "             (100937, 190568): 0,\n",
       "             (6746, 100937): 0,\n",
       "             (100937, 1355261): 0,\n",
       "             (100937, 6963976): 0,\n",
       "             (100937, 6170662): 0.1758403962284105,\n",
       "             (100937, 2873812): 0.1758403962284105,\n",
       "             (100937, 3204869): 0.35376364830455975,\n",
       "             (100937, 146589): 0.19752715622645642,\n",
       "             (1979, 100937): 0,\n",
       "             (100937, 1801160): 0,\n",
       "             (100937, 937340): 0.35376364830455975,\n",
       "             (40383, 100937): 38.48519118513775,\n",
       "             (100937, 6163299): 38.287492444579364,\n",
       "             (100937, 125720): 0,\n",
       "             (14005, 100937): 0.17095990351369836,\n",
       "             (100937, 933357): 0,\n",
       "             (100937, 590380): 0.35376364830455975,\n",
       "             (100937, 4073667): 0.35376364830455975,\n",
       "             (100937, 5662986): 0,\n",
       "             (100937, 3213960): 0,\n",
       "             (100937, 885190): 0.17758167136036196,\n",
       "             (100937, 860028): 0,\n",
       "             (100937, 6876564): 0.35376364830455975,\n",
       "             (100937, 4062944): 0,\n",
       "             (14150, 100937): 0,\n",
       "             (34199, 100937): 0,\n",
       "             (100937, 493216): 0,\n",
       "             (100937, 6885562): 0,\n",
       "             (100937, 1965020): 0.17758167136036196,\n",
       "             (100937, 1755557): 0,\n",
       "             (963, 100937): 0.17095990351369836,\n",
       "             (100937, 2736069): 0,\n",
       "             (100937, 1850812): 0,\n",
       "             (100937, 2059866): 0,\n",
       "             (100937, 376669): 0.35376364830455975,\n",
       "             (68594, 100937): 0,\n",
       "             (100937, 3301471): 0,\n",
       "             (100937, 10302936): 0,\n",
       "             (100937, 699930): 0,\n",
       "             (100937, 467848): 0.17758167136036196,\n",
       "             (100937, 2261820): 0,\n",
       "             (100937, 8280138): 0,\n",
       "             (100937, 7803451): 0.1758403962284105,\n",
       "             (100937, 258598): 0,\n",
       "             (100937, 10852920): 0.17758167136036196,\n",
       "             (100937, 4469498): 0,\n",
       "             (100937, 2605614): 0,\n",
       "             (100937, 9379574): 0,\n",
       "             (100937, 1604486): 0,\n",
       "             (86488, 100937): 0,\n",
       "             (100937, 1434227): 0,\n",
       "             (71800, 100937): 0,\n",
       "             (5209, 100937): 0,\n",
       "             (100937, 11057592): 0.1758403962284105,\n",
       "             (100937, 192223): 0.19752715622645642,\n",
       "             (92339, 100937): 0,\n",
       "             (100937, 211657): 0,\n",
       "             (100937, 450311): 0.17095990351369836,\n",
       "             (100937, 2628808): 0.1758403962284105,\n",
       "             (100937, 474712): 0,\n",
       "             (3403, 100937): 0,\n",
       "             (100937, 258842): 0,\n",
       "             (100937, 10677523): 0,\n",
       "             (16948, 100937): 0.19752715622645642,\n",
       "             (100937, 187406): 0,\n",
       "             (100937, 394518): 38.287492444579364,\n",
       "             (100937, 5975714): 0,\n",
       "             (100937, 7323708): 0,\n",
       "             (100937, 354932): 0.17758167136036196,\n",
       "             (100937, 101376): 0,\n",
       "             (100937, 6093877): 0,\n",
       "             (100937, 360482): 0,\n",
       "             (100937, 8362306): 0,\n",
       "             (100937, 367108): 0,\n",
       "             (100937, 4346383): 0,\n",
       "             (100937, 168873): 0,\n",
       "             (100937, 243743): 0,\n",
       "             (100937, 1207074): 0,\n",
       "             (61158, 100937): 0,\n",
       "             (100937, 1484358): 0.19752715622645642,\n",
       "             (92385, 100937): 0.3733675524548669,\n",
       "             (100937, 7157287): 0.1758403962284105,\n",
       "             (100937, 1541653): 0.19752715622645642,\n",
       "             (100937, 515585): 0,\n",
       "             (100937, 8451586): 0,\n",
       "             (100937, 8434105): 0,\n",
       "             (100937, 9135959): 0,\n",
       "             (49154, 100937): 0,\n",
       "             (100937, 7265402): 0,\n",
       "             (100937, 452114): 0.35376364830455975,\n",
       "             (100937, 366665): 0,\n",
       "             (100937, 11468220): 0,\n",
       "             (100937, 814296): 0,\n",
       "             (6387, 100937): 0.1758403962284105,\n",
       "             (100937, 9185179): 0,\n",
       "             (4158, 100937): 0,\n",
       "             (100937, 338585): 0,\n",
       "             (100937, 878004): 0,\n",
       "             (100937, 2313900): 0,\n",
       "             (71536, 100937): 0.19752715622645642,\n",
       "             (100937, 932401): 0.17095990351369836,\n",
       "             (100937, 169625): 0.17758167136036196,\n",
       "             (44571, 100937): 38.287492444579364,\n",
       "             (100937, 306495): 0.17758167136036196,\n",
       "             (13688, 100937): 0,\n",
       "             (100937, 3813543): 0,\n",
       "             (100937, 545502): 0.1758403962284105,\n",
       "             (100937, 524757): 0,\n",
       "             (10, 100937): 0.17095990351369836,\n",
       "             (100937, 1204169): 0,\n",
       "             (100937, 547686): 0,\n",
       "             (100937, 133673): 0,\n",
       "             (100937, 107694): 0,\n",
       "             (7176, 100937): 0,\n",
       "             (256, 100937): 0,\n",
       "             (100937, 280456): 0,\n",
       "             (31284, 100937): 0.17095990351369836,\n",
       "             (100937, 1399101): 0,\n",
       "             (100937, 240986): 0,\n",
       "             (100937, 6094554): 0,\n",
       "             (100937, 178847): 0,\n",
       "             (100937, 9281530): 0,\n",
       "             (80683, 100937): 0,\n",
       "             (100937, 307721): 0.19752715622645642,\n",
       "             (100937, 1283781): 0.19752715622645642,\n",
       "             (100937, 6885269): 0,\n",
       "             (100937, 7073403): 0,\n",
       "             (100937, 2855582): 0,\n",
       "             (100937, 2501560): 0,\n",
       "             (100937, 3390600): 0,\n",
       "             (23738, 100937): 0,\n",
       "             (63778, 100937): 0,\n",
       "             (100937, 6764325): 0,\n",
       "             (100937, 2846247): 0,\n",
       "             (988, 100937): 0,\n",
       "             (100937, 3624340): 0,\n",
       "             (100937, 9351154): 0,\n",
       "             (100937, 2508764): 0,\n",
       "             (100937, 295086): 0,\n",
       "             (100937, 4239916): 0.35376364830455975,\n",
       "             (100937, 106016): 0.17095990351369836,\n",
       "             (100937, 9767888): 0,\n",
       "             (100937, 144943): 0,\n",
       "             (100937, 11132343): 0.35376364830455975,\n",
       "             (100937, 1665613): 0.35376364830455975,\n",
       "             (100937, 3394061): 38.287492444579364,\n",
       "             (100937, 339898): 0,\n",
       "             (100937, 10791118): 0,\n",
       "             (100937, 464532): 0,\n",
       "             (100937, 4773110): 0,\n",
       "             (76790, 100937): 0,\n",
       "             (100937, 4512763): 0,\n",
       "             (100937, 1611487): 0,\n",
       "             (100937, 118847): 0,\n",
       "             (100937, 6885563): 0,\n",
       "             (46902, 100937): 0,\n",
       "             (50307, 100937): 0.1758403962284105,\n",
       "             (16949, 100937): 0.19752715622645642,\n",
       "             (100937, 6898924): 0,\n",
       "             (100937, 576862): 0,\n",
       "             (100937, 885076): 0.35376364830455975,\n",
       "             (22764, 100937): 0,\n",
       "             (5484, 100937): 0,\n",
       "             (100937, 1930122): 0,\n",
       "             (100937, 145523): 0.1758403962284105,\n",
       "             (100937, 2634772): 0,\n",
       "             (21631, 100937): 0,\n",
       "             (100937, 1314137): 0,\n",
       "             (100937, 322682): 0,\n",
       "             (100937, 7318255): 0,\n",
       "             (26415, 100937): 0,\n",
       "             (11796, 100937): 0.19752715622645642,\n",
       "             (66513, 100937): 0,\n",
       "             (100937, 2032034): 0,\n",
       "             (100937, 1240232): 0,\n",
       "             (100937, 6381652): 0.35376364830455975,\n",
       "             (100937, 294979): 0,\n",
       "             (100937, 8146606): 0,\n",
       "             (100937, 380696): 0.35376364830455975,\n",
       "             (100937, 6989250): 0,\n",
       "             (100937, 9747078): 0,\n",
       "             (100937, 2852664): 0,\n",
       "             (100937, 10515497): 38.287492444579364,\n",
       "             (100937, 8395035): 0,\n",
       "             (100937, 593978): 0.17758167136036196,\n",
       "             (3543, 100937): 0,\n",
       "             (46629, 100937): 0,\n",
       "             (100937, 979977): 0,\n",
       "             (100937, 109368): 0.19752715622645642,\n",
       "             (100937, 105934): 0,\n",
       "             (100937, 1763353): 0,\n",
       "             (100937, 6971540): 0,\n",
       "             (93284, 100937): 0.19752715622645642,\n",
       "             (28113, 100937): 0.19752715622645642,\n",
       "             (100937, 10364459): 0,\n",
       "             (100937, 394117): 0,\n",
       "             (1000, 100937): 0,\n",
       "             (839, 100937): 0,\n",
       "             (100937, 2140378): 0,\n",
       "             (100937, 4899701): 0.17095990351369836,\n",
       "             (100937, 10275645): 0.35376364830455975,\n",
       "             (100937, 2406026): 38.287492444579364,\n",
       "             (100937, 10857458): 0,\n",
       "             (100937, 10625151): 0,\n",
       "             (100937, 9770631): 0,\n",
       "             (100937, 204598): 0.17758167136036196,\n",
       "             (6346, 100937): 0,\n",
       "             (6023, 100937): 0,\n",
       "             (100937, 3610536): 0,\n",
       "             (100937, 6210645): 0.35376364830455975,\n",
       "             (100937, 695597): 0.17758167136036196,\n",
       "             (701, 100937): 0,\n",
       "             (100937, 247858): 0,\n",
       "             (100937, 1425621): 0,\n",
       "             (100937, 545076): 0,\n",
       "             (100937, 2232674): 0,\n",
       "             (100937, 6740916): 0,\n",
       "             (100937, 1477465): 38.111479308659106,\n",
       "             (100937, 9306708): 0,\n",
       "             (100937, 8637833): 0,\n",
       "             (100937, 437759): 0,\n",
       "             (100937, 1645105): 0,\n",
       "             (100937, 429103): 0,\n",
       "             (100937, 2509544): 38.111479308659106,\n",
       "             (49030, 100937): 0,\n",
       "             (100937, 7514275): 0,\n",
       "             (100937, 1740382): 0.17758167136036196,\n",
       "             (100937, 201468): 0,\n",
       "             (100937, 8130896): 0,\n",
       "             (100937, 6032099): 0,\n",
       "             (100937, 235928): 0.17758167136036196,\n",
       "             (100937, 265407): 0,\n",
       "             (100937, 6193306): 0,\n",
       "             (24303, 100937): 0.17758167136036196,\n",
       "             (53609, 100937): 0.19752715622645642,\n",
       "             (100937, 1314382): 0,\n",
       "             (100937, 102496): 0.19752715622645642,\n",
       "             (100937, 10474588): 0,\n",
       "             (100937, 1800614): 0.1758403962284105,\n",
       "             (100937, 2903318): 0,\n",
       "             (100937, 7604393): 0,\n",
       "             (100937, 6102074): 38.30917920457741,\n",
       "             (100937, 8191130): 0.1758403962284105,\n",
       "             (100937, 4459151): 0.1758403962284105,\n",
       "             (31874, 100937): 0,\n",
       "             (100937, 136203): 0,\n",
       "             (100937, 6528913): 0,\n",
       "             (100937, 1540040): 0,\n",
       "             (71107, 100937): 0,\n",
       "             (100937, 124259): 0.19752715622645642,\n",
       "             (100937, 878703): 0,\n",
       "             (100937, 2695559): 0,\n",
       "             (100937, 10851817): 0,\n",
       "             (100937, 9696623): 0,\n",
       "             (100937, 3951520): 0.1758403962284105,\n",
       "             (100937, 889748): 0.19752715622645642,\n",
       "             (4834, 100937): 0,\n",
       "             (100937, 1127095): 38.287492444579364,\n",
       "             (100937, 4901309): 0,\n",
       "             (71738, 100937): 0,\n",
       "             (100937, 8689869): 0,\n",
       "             (72972, 100937): 0.19752715622645642,\n",
       "             (17661, 100937): 0.19752715622645642,\n",
       "             (31128, 100937): 38.485191185137744,\n",
       "             (100937, 188965): 0.19752715622645642,\n",
       "             (100937, 4401625): 38.111479308659106,\n",
       "             (100937, 1843252): 0,\n",
       "             (100937, 6763666): 0,\n",
       "             (707, 100937): 0,\n",
       "             (100937, 1710487): 0.35376364830455975,\n",
       "             (100937, 2355800): 0,\n",
       "             (100937, 175539): 0,\n",
       "             (100937, 1761277): 0,\n",
       "             (100937, 1981930): 0,\n",
       "             (100937, 7865263): 0.17095990351369836,\n",
       "             (100937, 1314953): 0.35376364830455975,\n",
       "             (100937, 147775): 0,\n",
       "             (19047, 100937): 0.1758403962284105,\n",
       "             (100937, 6577790): 0.34680029974210885,\n",
       "             (100937, 190603): 0,\n",
       "             (100937, 944024): 0,\n",
       "             (100937, 3812576): 0,\n",
       "             (100937, 10937217): 0,\n",
       "             (100937, 765092): 0,\n",
       "             (100937, 7000585): 0.19752715622645642,\n",
       "             (40745, 100937): 0,\n",
       "             (100937, 5900204): 38.287492444579364,\n",
       "             (100937, 5096287): 0.35376364830455975,\n",
       "             (100937, 1624060): 0,\n",
       "             (100937, 3897445): 0,\n",
       "             (100937, 1747130): 38.111479308659106,\n",
       "             (100937, 989416): 0,\n",
       "             (100937, 11161834): 0,\n",
       "             (100937, 203130): 0,\n",
       "             (100937, 6906797): 0,\n",
       "             (100937, 1542636): 0,\n",
       "             (100937, 4494540): 0.1758403962284105,\n",
       "             (100937, 155670): 0.35376364830455975,\n",
       "             (100937, 9225122): 38.485191185137744,\n",
       "             (100937, 177421): 0.19752715622645642,\n",
       "             (100937, 4307594): 0,\n",
       "             (1910, 100937): 0.1758403962284105,\n",
       "             (100937, 2829719): 0,\n",
       "             (43989, 100937): 38.287492444579364,\n",
       "             (100937, 4456235): 0.1758403962284105,\n",
       "             (100937, 6094287): 0,\n",
       "             (100937, 365892): 0,\n",
       "             (100937, 855813): 0,\n",
       "             (100937, 8684187): 0.1758403962284105,\n",
       "             (100937, 2928392): 0,\n",
       "             (100937, 3138553): 0,\n",
       "             (100937, 4158171): 0,\n",
       "             (100937, 3289897): 0,\n",
       "             (15831, 100937): 0.19752715622645642,\n",
       "             (100937, 2667708): 0,\n",
       "             (100937, 7521868): 0,\n",
       "             (100937, 4605094): 0.35376364830455975,\n",
       "             (100937, 10382675): 0.35376364830455975,\n",
       "             (100937, 12196306): 0,\n",
       "             (100937, 102246): 0.17095990351369836,\n",
       "             (100937, 2673084): 0,\n",
       "             (100937, 414486): 0,\n",
       "             (100937, 1910192): 0.17758167136036196,\n",
       "             (100937, 6094314): 0,\n",
       "             (100937, 139955): 0,\n",
       "             (100937, 4783076): 0,\n",
       "             (100937, 2630162): 0.35376364830455975,\n",
       "             (100937, 5976161): 0,\n",
       "             (100937, 4346442): 0,\n",
       "             (100937, 511992): 0,\n",
       "             (100937, 3433558): 0,\n",
       "             (100937, 3708740): 0,\n",
       "             (100937, 1285720): 0,\n",
       "             (19076, 100937): 0.17095990351369836,\n",
       "             (100937, 933406): 0,\n",
       "             (100937, 10772645): 0,\n",
       "             (43638, 100937): 0.1758403962284105,\n",
       "             (100937, 2096783): 0,\n",
       "             (100937, 353809): 0,\n",
       "             (100937, 571638): 0.17758167136036196,\n",
       "             (100937, 114400): 0,\n",
       "             (100937, 952676): 0,\n",
       "             (100937, 3645448): 0,\n",
       "             (100937, 1526404): 0,\n",
       "             (100937, 620487): 0.19752715622645642,\n",
       "             (100937, 4073669): 0.35376364830455975,\n",
       "             (100937, 125510): 0.19752715622645642,\n",
       "             (100937, 6390475): 0,\n",
       "             (100937, 9539360): 0.19752715622645642,\n",
       "             (100937, 1955022): 0.35376364830455975,\n",
       "             (100937, 233384): 0.35376364830455975,\n",
       "             (100937, 410134): 0,\n",
       "             (3947, 100937): 0,\n",
       "             (76428, 100937): 0,\n",
       "             (5263, 100937): 0,\n",
       "             (100937, 114402): 0,\n",
       "             (100937, 3590199): 0,\n",
       "             (100937, 1296491): 0,\n",
       "             (100937, 1392414): 38.29743282678516,\n",
       "             (100937, 5151012): 0,\n",
       "             (100937, 4289591): 38.287492444579364,\n",
       "             (100937, 2507300): 0,\n",
       "             (23747, 100937): 0.1758403962284105,\n",
       "             (100937, 1256841): 0.17095990351369836,\n",
       "             (100937, 147149): 0.19752715622645642,\n",
       "             (100937, 915649): 38.287492444579364,\n",
       "             (100937, 109054): 0.17758167136036196,\n",
       "             (6311, 100937): 0,\n",
       "             (100937, 1413968): 0,\n",
       "             (100937, 5111407): 38.111479308659106,\n",
       "             (100937, 7029553): 0,\n",
       "             (100937, 104393): 0,\n",
       "             (100937, 3119227): 0.35376364830455975,\n",
       "             (100937, 129012): 0.19752715622645642,\n",
       "             (67358, 100937): 0.1758403962284105,\n",
       "             (100937, 5931027): 0.1758403962284105,\n",
       "             (100937, 3086016): 0,\n",
       "             (100937, 3350926): 0.1758403962284105,\n",
       "             (100937, 703314): 0,\n",
       "             (100937, 8444964): 0,\n",
       "             (100937, 3665822): 0.35376364830455975,\n",
       "             (100937, 1322865): 0,\n",
       "             (100937, 5732541): 0,\n",
       "             (100937, 11483921): 0,\n",
       "             (100937, 1321509): 0.35376364830455975,\n",
       "             (100937, 10680527): 0,\n",
       "             (100937, 3700894): 0,\n",
       "             (26712, 100937): 0,\n",
       "             (100937, 119988): 0,\n",
       "             (5281, 100937): 0,\n",
       "             (100937, 2573913): 38.287492444579364,\n",
       "             (100937, 3492190): 0,\n",
       "             (100937, 929884): 0.19752715622645642,\n",
       "             (100937, 890438): 0,\n",
       "             (28027, 100937): 0,\n",
       "             (100937, 3397444): 0,\n",
       "             (100937, 881698): 0,\n",
       "             (86929, 100937): 0,\n",
       "             (100937, 141002): 0,\n",
       "             (84797, 100937): 0.17095990351369836,\n",
       "             (100937, 348705): 38.287492444579364,\n",
       "             (5212, 100937): 0,\n",
       "             (100937, 6889842): 0,\n",
       "             (4018, 100937): 0,\n",
       "             (36971, 100937): 0,\n",
       "             (100937, 2549841): 0.17095990351369836,\n",
       "             (16175, 100937): 0.1758403962284105,\n",
       "             (100937, 6093879): 0,\n",
       "             (100937, 874690): 0,\n",
       "             (100937, 5696798): 0.35376364830455975,\n",
       "             (100937, 9701562): 38.287492444579364,\n",
       "             (100937, 909703): 0.35376364830455975,\n",
       "             (100937, 7829447): 0,\n",
       "             (13304, 100937): 0,\n",
       "             (100937, 206488): 0,\n",
       "             (100937, 193105): 0,\n",
       "             (100937, 4066757): 0,\n",
       "             (100937, 10456340): 0.35376364830455975,\n",
       "             (100937, 2399856): 0,\n",
       "             (100937, 2451879): 38.111479308659106,\n",
       "             (100937, 11345372): 0,\n",
       "             (4259, 100937): 0,\n",
       "             (100937, 3152548): 0,\n",
       "             (100937, 7490868): 0.1758403962284105,\n",
       "             (100937, 480134): 0,\n",
       "             (100937, 111401): 0.17758167136036196,\n",
       "             (100937, 2089210): 0.19752715622645642,\n",
       "             (23707, 100937): 0,\n",
       "             (100937, 200428): 0,\n",
       "             (5326, 100937): 0,\n",
       "             (100937, 2027550): 0,\n",
       "             (100937, 1877930): 0.1758403962284105,\n",
       "             (100937, 5151834): 0,\n",
       "             (100937, 1671354): 0.19752715622645642,\n",
       "             (100937, 7161344): 0,\n",
       "             (100937, 995018): 0,\n",
       "             (5240, 100937): 0,\n",
       "             (20995, 100937): 0.19752715622645642,\n",
       "             (100937, 926265): 0,\n",
       "             (100937, 852462): 0,\n",
       "             (100937, 2187324): 0,\n",
       "             (100937, 415415): 0,\n",
       "             (70658, 100937): 0,\n",
       "             (100937, 745747): 0,\n",
       "             (100937, 1440934): 0,\n",
       "             (100937, 11031175): 0,\n",
       "             (100937, 3649100): 0,\n",
       "             (100937, 10632835): 0.1758403962284105,\n",
       "             (100937, 1444559): 0.1758403962284105,\n",
       "             (49548, 100937): 0.19752715622645642,\n",
       "             (68589, 100937): 0.19752715622645642,\n",
       "             (100937, 7509148): 0,\n",
       "             (57193, 100937): 0.1758403962284105,\n",
       "             (100937, 935600): 0,\n",
       "             (46271, 100937): 0,\n",
       "             (100937, 6936093): 0,\n",
       "             (56762, 100937): 0,\n",
       "             (100937, 8274817): 0,\n",
       "             (63238, 100937): 0,\n",
       "             (100937, 118007): 0,\n",
       "             (100937, 3747365): 0.1758403962284105,\n",
       "             (100937, 117201): 38.48519118513775,\n",
       "             (100937, 148711): 0,\n",
       "             (100937, 2393287): 0.1758403962284105,\n",
       "             (53907, 100937): 0,\n",
       "             (869, 100937): 0,\n",
       "             (100937, 671910): 0,\n",
       "             (100937, 1884277): 0.17095990351369836,\n",
       "             (6982, 100937): 0,\n",
       "             (100937, 304361): 0,\n",
       "             (100937, 5684828): 0,\n",
       "             (100937, 6479779): 38.485191185137744,\n",
       "             (100937, 3114547): 38.111479308659106,\n",
       "             (5307, 100937): 0,\n",
       "             (66804, 100937): 0,\n",
       "             (100937, 153493): 0,\n",
       "             (100937, 1417985): 0,\n",
       "             (69455, 100937): 0.1758403962284105,\n",
       "             (100937, 396069): 0.1758403962284105,\n",
       "             (100937, 237846): 0,\n",
       "             (100937, 2323119): 38.111479308659106,\n",
       "             (100937, 2518790): 0.17095990351369836,\n",
       "             (100937, 2194999): 0,\n",
       "             (11443, 100937): 0.1758403962284105,\n",
       "             (100937, 1302778): 0.19752715622645642,\n",
       "             (100937, 411381): 0,\n",
       "             (100937, 124531): 38.287492444579364,\n",
       "             (100937, 6548027): 0,\n",
       "             (6543, 100937): 0,\n",
       "             (100937, 3044814): 0,\n",
       "             (100937, 445002): 38.111479308659106,\n",
       "             (100937, 10770566): 38.485191185137744,\n",
       "             (100937, 7175799): 0,\n",
       "             (100937, 4658411): 0.19752715622645642,\n",
       "             (100937, 5454941): 0.19752715622645642,\n",
       "             (100937, 2030686): 38.287492444579364,\n",
       "             (100937, 6977069): 0,\n",
       "             (100937, 3673542): 0,\n",
       "             (100937, 3162554): 0.19752715622645642,\n",
       "             (100937, 3415603): 0,\n",
       "             (100937, 535150): 38.111479308659106,\n",
       "             (100937, 373974): 0,\n",
       "             (63463, 100937): 0.17095990351369836,\n",
       "             (100937, 1871316): 0,\n",
       "             (14036, 100937): 0.19752715622645642,\n",
       "             (100937, 2416645): 38.111479308659106,\n",
       "             (100937, 6642394): 0,\n",
       "             (100937, 7469060): 0,\n",
       "             (100937, 9614849): 0.1758403962284105,\n",
       "             (5613, 100937): 0,\n",
       "             (100937, 3714927): 0,\n",
       "             (89460, 100937): 0.19752715622645642,\n",
       "             (5524, 100937): 0,\n",
       "             (100937, 1998822): 0,\n",
       "             (100937, 1348213): 0,\n",
       "             (100937, 1128905): 0.17095990351369836,\n",
       "             (100937, 8817202): 0.1758403962284105,\n",
       "             (100937, 104130): 0.19752715622645642,\n",
       "             (100937, 194198): 0,\n",
       "             (100937, 8299221): 0.19752715622645642,\n",
       "             (100937, 4617845): 0,\n",
       "             (88845, 100937): 19.497260202788222,\n",
       "             (100937, 6176769): 0,\n",
       "             (100937, 4721655): 0,\n",
       "             (100937, 5008269): 38.111479308659106,\n",
       "             (100937, 203244): 0,\n",
       "             (100937, 1798074): 0,\n",
       "             (100937, 878448): 0,\n",
       "             (100937, 944001): 0,\n",
       "             (100937, 229293): 0,\n",
       "             (100937, 283040): 0,\n",
       "             (100937, 179424): 0.19752715622645642,\n",
       "             (100937, 10509164): 0.35376364830455975,\n",
       "             (100937, 280978): 0.35376364830455975,\n",
       "             (100937, 6123537): 0.35376364830455975,\n",
       "             (100937, 6128073): 0,\n",
       "             (100937, 8126742): 0,\n",
       "             (100937, 1020112): 0.19752715622645642,\n",
       "             (100937, 2811063): 0,\n",
       "             (100937, 372211): 0.19752715622645642,\n",
       "             (100937, 8599479): 0,\n",
       "             (100937, 3535489): 0,\n",
       "             (100937, 256101): 0,\n",
       "             (100937, 520587): 0.19752715622645642,\n",
       "             (100937, 10095705): 0,\n",
       "             (100937, 3913038): 0,\n",
       "             (100937, 2738851): 0,\n",
       "             (100937, 574326): 0,\n",
       "             (100937, 323569): 0,\n",
       "             (100937, 2712156): 0,\n",
       "             (100937, 2480959): 0,\n",
       "             (100937, 580562): 0,\n",
       "             (100937, 11588123): 0,\n",
       "             (100937, 3392974): 0,\n",
       "             (100937, 309596): 0,\n",
       "             (6666, 100937): 0,\n",
       "             (100937, 2753225): 0,\n",
       "             (100937, 11154981): 0,\n",
       "             (100937, 1358257): 0.17095990351369836,\n",
       "             (100937, 1190106): 0,\n",
       "             (100937, 2375205): 0.17095990351369836,\n",
       "             (100937, 2151156): 38.287492444579364,\n",
       "             (100937, 120256): 0,\n",
       "             (100937, 4172860): 0,\n",
       "             (100937, 1137455): 0,\n",
       "             (100937, 3590381): 0,\n",
       "             (36904, 100937): 0.1758403962284105,\n",
       "             (61515, 100937): 0,\n",
       "             (71089, 100937): 0,\n",
       "             (100937, 3633279): 0,\n",
       "             (100937, 3650757): 0.1758403962284105,\n",
       "             (100937, 653962): 0,\n",
       "             (100937, 214808): 0,\n",
       "             (21180, 100937): 0,\n",
       "             (100937, 3132154): 0,\n",
       "             (100937, 5762212): 0,\n",
       "             (100937, 304206): 0,\n",
       "             (100937, 6876581): 0.1758403962284105,\n",
       "             (100937, 1423754): 0,\n",
       "             (100937, 1689104): 0.34854157487406034,\n",
       "             (100937, 10953076): 0.19752715622645642,\n",
       "             (62032, 100937): 0,\n",
       "             (100937, 237689): 0,\n",
       "             (100937, 2809864): 0,\n",
       "             (100937, 11707980): 0,\n",
       "             (100937, 617428): 0,\n",
       "             (100937, 931823): 0,\n",
       "             (100937, 658754): 0,\n",
       "             (100937, 5876490): 0,\n",
       "             (3580, 100937): 0,\n",
       "             (100937, 4847441): 0,\n",
       "             (100937, 4490601): 0,\n",
       "             (100937, 2886141): 0,\n",
       "             (100937, 8568294): 0,\n",
       "             (100937, 6931871): 0,\n",
       "             (16954, 100937): 0.19752715622645642,\n",
       "             (100937, 6614111): 0,\n",
       "             (100937, 994600): 0,\n",
       "             (100937, 124868): 0,\n",
       "             (100937, 8600839): 0,\n",
       "             (100937, 4439792): 38.111479308659106,\n",
       "             (100937, 3054535): 0,\n",
       "             (100937, 8009118): 0,\n",
       "             (100937, 352903): 0.17758167136036196,\n",
       "             (100937, 7387517): 0,\n",
       "             (100937, 1044850): 0,\n",
       "             (100937, 4661025): 0,\n",
       "             (100937, 9631253): 0,\n",
       "             (69749, 100937): 0.35376364830455975,\n",
       "             (100937, 743014): 0,\n",
       "             (100937, 1516696): 0,\n",
       "             (1575, 100937): 0,\n",
       "             (15477, 100937): 0,\n",
       "             (30890, 100937): 0,\n",
       "             (100937, 9496247): 0,\n",
       "             (45873, 100937): 38.287492444579364,\n",
       "             (77378, 100937): 0,\n",
       "             (100937, 4912384): 0,\n",
       "             (5339, 100937): 0,\n",
       "             (100937, 237098): 0,\n",
       "             (100937, 1358979): 0,\n",
       "             (100937, 6129081): 0,\n",
       "             (100937, 289504): 0.17095990351369836,\n",
       "             (71175, 100937): 0,\n",
       "             (100937, 2242556): 0,\n",
       "             (100937, 7371311): 0,\n",
       "             (100937, 239142): 0,\n",
       "             (100937, 11227500): 0,\n",
       "             (100937, 240895): 0,\n",
       "             (4096, 100937): 0,\n",
       "             (100937, 3730321): 0,\n",
       "             (100937, 10511765): 0.35376364830455975,\n",
       "             (47806, 100937): 0,\n",
       "             (100937, 3760793): 0,\n",
       "             (100937, 8115142): 0.35376364830455975,\n",
       "             (7257, 100937): 0.17095990351369836,\n",
       "             (26463, 100937): 0,\n",
       "             (100937, 978448): 0.17095990351369836,\n",
       "             (100937, 2436954): 0,\n",
       "             (100937, 1341254): 0,\n",
       "             (100937, 1072455): 0,\n",
       "             (100937, 191121): 0,\n",
       "             (100937, 1156327): 0.1758403962284105,\n",
       "             (100937, 2055039): 0,\n",
       "             (100937, 11910604): 38.111479308659106,\n",
       "             (100937, 3772370): 0,\n",
       "             (100937, 6611460): 0.17095990351369836,\n",
       "             (100937, 6974972): 0,\n",
       "             (100937, 1401565): 0.19752715622645642,\n",
       "             (100937, 1554714): 0,\n",
       "             (100937, 4272373): 0.35376364830455975,\n",
       "             (100937, 6094423): 0,\n",
       "             (100937, 10624251): 0.35376364830455975,\n",
       "             (100937, 9133032): 0,\n",
       "             (100937, 11323492): 0,\n",
       "             (100937, 9074753): 0,\n",
       "             (100937, 391567): 0,\n",
       "             (100937, 5027309): 0.19752715622645642,\n",
       "             (100937, 5549504): 0,\n",
       "             (100937, 1133352): 38.111479308659106,\n",
       "             (100937, 3954214): 0,\n",
       "             (100937, 141313): 0,\n",
       "             (100937, 923877): 38.287492444579364,\n",
       "             (100937, 308579): 0,\n",
       "             (100937, 4474428): 0,\n",
       "             (100937, 233850): 0,\n",
       "             (100937, 127867): 0,\n",
       "             (100937, 486741): 0,\n",
       "             (5239, 100937): 0,\n",
       "             (100937, 683132): 0,\n",
       "             (71056, 100937): 0,\n",
       "             (100937, 1465658): 0,\n",
       "             (100937, 1764120): 0.17758167136036196,\n",
       "             (100937, 600057): 0,\n",
       "             (100937, 3020245): 0.19752715622645642,\n",
       "             (100937, 522061): 0,\n",
       "             (100937, 878670): 0,\n",
       "             (100937, 559340): 0,\n",
       "             (100937, 1925745): 0,\n",
       "             (100937, 8298832): 0,\n",
       "             (100937, 292367): 5.256750073256051,\n",
       "             (100937, 1077941): 0,\n",
       "             (100937, 261266): 0.19752715622645642,\n",
       "             (100937, 2694760): 0.35376364830455975,\n",
       "             (100937, 314821): 0,\n",
       "             (62599, 100937): 0.19752715622645642,\n",
       "             (100937, 4292441): 0,\n",
       "             (100937, 8706892): 0,\n",
       "             (100937, 528592): 0,\n",
       "             (100937, 660790): 0,\n",
       "             (100937, 10890839): 0,\n",
       "             (100937, 105940): 0,\n",
       "             (100937, 242310): 0,\n",
       "             (100937, 113430): 0,\n",
       "             (100937, 603514): 38.111479308659106,\n",
       "             (100937, 2445999): 0,\n",
       "             (100937, 4239911): 0.1758403962284105,\n",
       "             (100937, 4857849): 0,\n",
       "             (100937, 10831097): 0,\n",
       "             (22509, 100937): 0.19752715622645642,\n",
       "             (100937, 458409): 0,\n",
       "             (100937, 2012411): 0.1758403962284105,\n",
       "             (100937, 8702123): 0,\n",
       "             (100937, 1241161): 0,\n",
       "             (100937, 3263338): 0,\n",
       "             (100937, 3065104): 0,\n",
       "             (100937, 10655022): 0,\n",
       "             (100937, 12306606): 0,\n",
       "             (100937, 5546455): 0.17095990351369836,\n",
       "             (100937, 1605303): 0,\n",
       "             (100937, 4297770): 0,\n",
       "             (100937, 9244395): 0,\n",
       "             (16546, 100937): 0.17095990351369836,\n",
       "             (100937, 2540632): 0,\n",
       "             (100937, 8346570): 0,\n",
       "             (100937, 179102): 0.17095990351369836,\n",
       "             (100937, 10749017): 0.1758403962284105,\n",
       "             (100937, 11181596): 0,\n",
       "             (100937, 6188600): 0,\n",
       "             (100937, 477969): 0,\n",
       "             (71088, 100937): 0,\n",
       "             (100937, 1724524): 0,\n",
       "             (100937, 781488): 0,\n",
       "             (15492, 100937): 0,\n",
       "             (100937, 2668406): 0,\n",
       "             (100937, 1868770): 38.287492444579364,\n",
       "             (100937, 2932921): 0,\n",
       "             (100937, 8434839): 38.287492444579364,\n",
       "             (100937, 4729537): 0,\n",
       "             (71034, 100937): 0,\n",
       "             (43505, 100937): 0,\n",
       "             (100937, 505352): 0,\n",
       "             (100937, 6909406): 0.1758403962284105,\n",
       "             (100937, 9458342): 0,\n",
       "             (100937, 118051): 0,\n",
       "             (100937, 332305): 0,\n",
       "             ...})"
      ]
     },
     "execution_count": 58,
     "metadata": {},
     "output_type": "execute_result"
    }
   ],
   "source": [
    "aa_cache"
   ]
  },
  {
   "cell_type": "code",
   "execution_count": 60,
   "metadata": {},
   "outputs": [
    {
     "data": {
      "text/plain": [
       "0.9708317381742807"
      ]
     },
     "execution_count": 60,
     "metadata": {},
     "output_type": "execute_result"
    }
   ],
   "source": [
    "pairs = list(combinations(authors, 2))\n",
    "truth = [edge in edges_q2 for edge in pairs]\n",
    "scores = [aa_cache[edge] for edge in pairs]\n",
    "fpr, tpr, thres = metrics.roc_curve(truth,scores)\n",
    "metrics.auc(fpr,tpr)"
   ]
  },
  {
   "cell_type": "code",
   "execution_count": null,
   "metadata": {},
   "outputs": [],
   "source": []
  }
 ],
 "metadata": {
  "kernelspec": {
   "display_name": "Python 3",
   "language": "python",
   "name": "python3"
  },
  "language_info": {
   "codemirror_mode": {
    "name": "ipython",
    "version": 3
   },
   "file_extension": ".py",
   "mimetype": "text/x-python",
   "name": "python",
   "nbconvert_exporter": "python",
   "pygments_lexer": "ipython3",
   "version": "3.6.4"
  }
 },
 "nbformat": 4,
 "nbformat_minor": 2
}
