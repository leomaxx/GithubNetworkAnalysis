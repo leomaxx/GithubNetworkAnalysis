{
 "cells": [
  {
   "cell_type": "code",
   "execution_count": 1,
   "metadata": {},
   "outputs": [],
   "source": [
    "import matplotlib.pyplot as plt\n",
    "import pickle\n",
    "import os\n",
    "import snap\n",
    "from itertools import combinations\n",
    "import numpy as np\n",
    "from google.cloud import bigquery\n",
    "import collections\n",
    "from IPython.lib import backgroundjobs as bg\n",
    "from tqdm import tqdm_notebook\n",
    "import heapq\n",
    "from gensim.models import Word2Vec\n",
    "import node2vec\n",
    "import networkx as nx\n",
    "from sklearn import metrics"
   ]
  },
  {
   "cell_type": "code",
   "execution_count": 2,
   "metadata": {},
   "outputs": [],
   "source": [
    "with open('./data/2016_q1_cci-neighbours_kcore.pickle', 'rb') as picklefile:\n",
    "    neighbours_q1 = pickle.load(picklefile)"
   ]
  },
  {
   "cell_type": "code",
   "execution_count": 3,
   "metadata": {},
   "outputs": [],
   "source": [
    "with open('./data/2016_q1_cci-weights_kcore.pickle', 'rb') as picklefile:\n",
    "    weights_q1 = pickle.load(picklefile)"
   ]
  },
  {
   "cell_type": "code",
   "execution_count": 4,
   "metadata": {},
   "outputs": [],
   "source": [
    "dimensions=32\n",
    "window=10\n",
    "iterations=10\n",
    "p=4.\n",
    "q=0.25\n",
    "num_walks=25\n",
    "walk_length = 400"
   ]
  },
  {
   "cell_type": "code",
   "execution_count": 5,
   "metadata": {},
   "outputs": [],
   "source": [
    "nx_weighted = nx.Graph()\n",
    "nx_weighted.add_nodes_from(neighbours_q1.keys())\n",
    "for edge in weights_q1:\n",
    "    u, v = edge[0]\n",
    "    nx_weighted.add_edge(u, v, weight=edge[1])"
   ]
  },
  {
   "cell_type": "code",
   "execution_count": 6,
   "metadata": {},
   "outputs": [
    {
     "name": "stdout",
     "output_type": "stream",
     "text": [
      "CPU times: user 39min 33s, sys: 19.9 s, total: 39min 53s\n",
      "Wall time: 40min 7s\n"
     ]
    }
   ],
   "source": [
    "G = node2vec.Graph(nx_weighted, False, p, q)\n",
    "%time G.preprocess_transition_probs()"
   ]
  },
  {
   "cell_type": "code",
   "execution_count": null,
   "metadata": {},
   "outputs": [
    {
     "name": "stdout",
     "output_type": "stream",
     "text": [
      "Walk iteration:\n",
      "1 / 25\n",
      "2 / 25\n",
      "3 / 25\n"
     ]
    }
   ],
   "source": [
    "%time walks = G.simulate_walks(num_walks, walk_length)\n",
    "walks = [map(str, walk) for walk in walks]\n",
    "%time model = Word2Vec(walks, size=dimensions, window=window, min_count=0, sg=1, iter=iterations)"
   ]
  },
  {
   "cell_type": "code",
   "execution_count": null,
   "metadata": {},
   "outputs": [],
   "source": [
    "with open('./data/2016_q1_cci-weights_kcore.pickle', 'rb') as picklefile:\n",
    "    weights_q1 = pickle.load(picklefile)\n",
    "with open('./data/2016_q2_cci-weights_kcore.pickle', 'rb') as picklefile:\n",
    "    weights_q2 = pickle.load(picklefile)\n",
    "edges_q1 = set(edge for edge, weight in weights_q1)\n",
    "edges_q2 = set(edge for edge, weight in weights_q2)\n",
    "new_edges=edges_q2.difference(edges_q1)\n",
    "k = len(new_edges)"
   ]
  },
  {
   "cell_type": "code",
   "execution_count": 17,
   "metadata": {
    "scrolled": false
   },
   "outputs": [
    {
     "ename": "NameError",
     "evalue": "name 'project_authors_q1' is not defined",
     "output_type": "error",
     "traceback": [
      "\u001b[0;31m-------------------------------------------------------------------------\u001b[0m",
      "\u001b[0;31mNameError\u001b[0m                               Traceback (most recent call last)",
      "\u001b[0;32m<ipython-input-17-8ac921af9c5d>\u001b[0m in \u001b[0;36m<module>\u001b[0;34m()\u001b[0m\n\u001b[0;32m----> 1\u001b[0;31m \u001b[0mauthors\u001b[0m \u001b[0;34m=\u001b[0m \u001b[0mproject_authors_q1\u001b[0m\u001b[0;34m[\u001b[0m\u001b[0;34m'author_id'\u001b[0m\u001b[0;34m]\u001b[0m\u001b[0;34m.\u001b[0m\u001b[0munique\u001b[0m\u001b[0;34m(\u001b[0m\u001b[0;34m)\u001b[0m\u001b[0;34m\u001b[0m\u001b[0m\n\u001b[0m\u001b[1;32m      2\u001b[0m \u001b[0mpairs\u001b[0m \u001b[0;34m=\u001b[0m \u001b[0mlist\u001b[0m\u001b[0;34m(\u001b[0m\u001b[0mcombinations\u001b[0m\u001b[0;34m(\u001b[0m\u001b[0mauthors\u001b[0m\u001b[0;34m,\u001b[0m \u001b[0;36m2\u001b[0m\u001b[0;34m)\u001b[0m\u001b[0;34m)\u001b[0m\u001b[0;34m\u001b[0m\u001b[0m\n\u001b[1;32m      3\u001b[0m \u001b[0mdist\u001b[0m \u001b[0;34m=\u001b[0m \u001b[0;34m[\u001b[0m\u001b[0;34m]\u001b[0m\u001b[0;34m\u001b[0m\u001b[0m\n\u001b[1;32m      4\u001b[0m \u001b[0;32mfor\u001b[0m \u001b[0mu\u001b[0m\u001b[0;34m,\u001b[0m \u001b[0mv\u001b[0m \u001b[0;32min\u001b[0m \u001b[0mtqdm_notebook\u001b[0m\u001b[0;34m(\u001b[0m\u001b[0mpairs\u001b[0m\u001b[0;34m,\u001b[0m \u001b[0mmininterval\u001b[0m\u001b[0;34m=\u001b[0m\u001b[0;36m1\u001b[0m\u001b[0;34m)\u001b[0m\u001b[0;34m:\u001b[0m\u001b[0;34m\u001b[0m\u001b[0m\n\u001b[1;32m      5\u001b[0m     \u001b[0;32mif\u001b[0m \u001b[0mu\u001b[0m \u001b[0;34m>\u001b[0m \u001b[0mv\u001b[0m\u001b[0;34m:\u001b[0m\u001b[0;34m\u001b[0m\u001b[0m\n",
      "\u001b[0;31mNameError\u001b[0m: name 'project_authors_q1' is not defined"
     ]
    }
   ],
   "source": [
    "authors = project_authors_q1['author_id'].unique()\n",
    "pairs = list(combinations(authors, 2))\n",
    "dist = []\n",
    "for u, v in tqdm_notebook(pairs, mininterval=1):\n",
    "    if u > v:\n",
    "        u, v = v, u\n",
    "    if (u, v) not in edges_q1:\n",
    "        dist.append((model.wv.distance(str(u), str(v)), (u, v)))\n",
    "dist = sorted(dist)\n",
    "topk = set(edge for weight, edge in dist[:k])\n",
    "len(topk.intersection(new_edges)), len(topk.intersection(new_edges))/float(k)"
   ]
  },
  {
   "cell_type": "markdown",
   "metadata": {},
   "source": [
    "100, 25 (2864, 0.11310323039254404)\n",
    "100, 100 (3459, 0.1282488598865448)"
   ]
  },
  {
   "cell_type": "code",
   "execution_count": 19,
   "metadata": {},
   "outputs": [
    {
     "data": {
      "text/plain": [
       "3053"
      ]
     },
     "execution_count": 19,
     "metadata": {},
     "output_type": "execute_result"
    }
   ],
   "source": [
    "len(neighbours_q1.keys())"
   ]
  },
  {
   "cell_type": "code",
   "execution_count": 20,
   "metadata": {},
   "outputs": [
    {
     "data": {
      "application/vnd.jupyter.widget-view+json": {
       "model_id": "c762e537b5a7492cb5463c3956eaf2f4",
       "version_major": 2,
       "version_minor": 0
      },
      "text/plain": [
       "HBox(children=(IntProgress(value=0, max=4658878), HTML(value=u'')))"
      ]
     },
     "metadata": {},
     "output_type": "display_data"
    },
    {
     "name": "stderr",
     "output_type": "stream",
     "text": [
      "/Users/yilingc/Courses/CS224w/project/GithubNetworkAnalysis/snap-2.7/env2.7/lib/python2.7/site-packages/gensim/matutils.py:737: FutureWarning: Conversion of the second argument of issubdtype from `int` to `np.signedinteger` is deprecated. In future, it will be treated as `np.int64 == np.dtype(int).type`.\n",
      "  if np.issubdtype(vec.dtype, np.int):\n"
     ]
    },
    {
     "name": "stdout",
     "output_type": "stream",
     "text": [
      "\n"
     ]
    },
    {
     "data": {
      "text/plain": [
       "(4501, 0.16688294835193357)"
      ]
     },
     "execution_count": 20,
     "metadata": {},
     "output_type": "execute_result"
    }
   ],
   "source": [
    "authors = neighbours_q1.keys()\n",
    "pairs = list(combinations(authors, 2))\n",
    "dist = []\n",
    "for u, v in tqdm_notebook(pairs, mininterval=1):\n",
    "    if u > v:\n",
    "        u, v = v, u\n",
    "    if (u, v) not in edges_q1:\n",
    "        dist.append((model.wv.distance(str(u), str(v)), (u, v)))\n",
    "dist = sorted(dist)\n",
    "topk = set(edge for weight, edge in dist[:k])\n",
    "len(topk.intersection(new_edges)), len(topk.intersection(new_edges))/float(k)"
   ]
  },
  {
   "cell_type": "code",
   "execution_count": 20,
   "metadata": {},
   "outputs": [
    {
     "data": {
      "text/plain": [
       "3053"
      ]
     },
     "execution_count": 20,
     "metadata": {},
     "output_type": "execute_result"
    }
   ],
   "source": [
    "len(project_authors_q1['author_id'].unique())"
   ]
  },
  {
   "cell_type": "code",
   "execution_count": 24,
   "metadata": {},
   "outputs": [
    {
     "data": {
      "application/vnd.jupyter.widget-view+json": {
       "model_id": "682fa7b3fdcd47d9b1fe69c982e44bf9",
       "version_major": 2,
       "version_minor": 0
      },
      "text/plain": [
       "HBox(children=(IntProgress(value=0, max=4658878), HTML(value=u'')))"
      ]
     },
     "metadata": {},
     "output_type": "display_data"
    }
   ],
   "source": [
    "pairs = list(combinations(authors, 2))\n",
    "alldist = {}\n",
    "for u, v in tqdm_notebook(pairs, mininterval=1):\n",
    "    if u > v:\n",
    "        u, v = v, u\n",
    "    alldist[(u, v)] = model.wv.distance(str(u), str(v))\n",
    "with open('./data/node2vec-weighted-p10-q01-100-100.pickle', 'wb') as picklefile:\n",
    "    pickle.dump(alldist, picklefile)"
   ]
  },
  {
   "cell_type": "code",
   "execution_count": 31,
   "metadata": {},
   "outputs": [
    {
     "data": {
      "text/plain": [
       "(0.9469018100116384, 0.3593445415618916)"
      ]
     },
     "execution_count": 31,
     "metadata": {},
     "output_type": "execute_result"
    }
   ],
   "source": [
    "pairs = [(u, v) if u < v else (v, u) for u, v in combinations(authors, 2)]\n",
    "truth = [edge in edges_q2 for edge in pairs]\n",
    "scores = [model.wv.similarity(str(u), str(v)) for u, v in pairs]\n",
    "fpr, tpr, thres = metrics.roc_curve(truth,scores)\n",
    "metrics.auc(fpr,tpr), metrics.average_precision_score(truth,scores)"
   ]
  },
  {
   "cell_type": "code",
   "execution_count": 30,
   "metadata": {},
   "outputs": [
    {
     "data": {
      "text/plain": [
       "99311"
      ]
     },
     "execution_count": 30,
     "metadata": {},
     "output_type": "execute_result"
    }
   ],
   "source": [
    "sum(truth)"
   ]
  },
  {
   "cell_type": "code",
   "execution_count": null,
   "metadata": {},
   "outputs": [],
   "source": [
    "pairs = [(u, v) if u < v else (v, u) for u, v in combinations(authors, 2)]\n",
    "minus_q2 = list(set(pairs).difference(edges_q2))\n",
    "y_train = [edge in edges_q1 for edge in minus_q2]\n",
    "x_train = [abs(model.wv.get_vector(str(u))- model.wv.get_vector(str(v))) for u, v in minus_q2]\n",
    "edgerep = [abs(model.wv.get_vector(str(u))- model.wv.get_vector(str(v))) for u, v in pairs]"
   ]
  },
  {
   "cell_type": "code",
   "execution_count": null,
   "metadata": {},
   "outputs": [],
   "source": [
    "from sklearn.linear_model import LogisticRegression\n",
    "lg = LogisticRegression(penalty='l2',C=0.001)\n",
    "lg.fit(x_train,y_train)\n",
    "lg_y_pred_est = lg.predict_proba(edgerep)[:,1]\n",
    "fpr,tpr,thresholds = metrics.roc_curve(truth,lg_y_pred_est)\n",
    "metrics.auc(fpr,tpr), metrics.average_precision_score(truth,lg_y_pred_est)"
   ]
  },
  {
   "cell_type": "code",
   "execution_count": null,
   "metadata": {},
   "outputs": [],
   "source": []
  }
 ],
 "metadata": {
  "kernelspec": {
   "display_name": "Python 2",
   "language": "python",
   "name": "python2"
  },
  "language_info": {
   "codemirror_mode": {
    "name": "ipython",
    "version": 2
   },
   "file_extension": ".py",
   "mimetype": "text/x-python",
   "name": "python",
   "nbconvert_exporter": "python",
   "pygments_lexer": "ipython2",
   "version": "2.7.15"
  }
 },
 "nbformat": 4,
 "nbformat_minor": 2
}
