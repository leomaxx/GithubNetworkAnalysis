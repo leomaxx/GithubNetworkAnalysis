{
 "cells": [
  {
   "cell_type": "code",
   "execution_count": 155,
   "metadata": {},
   "outputs": [],
   "source": [
    "import matplotlib.pyplot as plt\n",
    "import pickle\n",
    "import os\n",
    "import snap\n",
    "from itertools import combinations\n",
    "import numpy as np\n",
    "from google.cloud import bigquery\n",
    "import collections"
   ]
  },
  {
   "cell_type": "code",
   "execution_count": 7,
   "metadata": {},
   "outputs": [],
   "source": [
    "## Set up bigquery environment\n",
    "\n",
    "os.environ[\"GOOGLE_APPLICATION_CREDENTIALS\"] = \"/Users/yilingc/Courses/CS224w/project/GithubNetworkAnalysis/Github224W-c6c2551f3816.json\"\n",
    "project_id = 'github224w'\n",
    "client = bigquery.Client(project=project_id)\n",
    "dataset_id = 'gh_data'\n",
    "dataset_ref = client.dataset(dataset_id)\n",
    "dataset = client.get_dataset(dataset_ref)"
   ]
  },
  {
   "cell_type": "code",
   "execution_count": 43,
   "metadata": {},
   "outputs": [
    {
     "data": {
      "text/plain": [
       "[u'author_commit_counts_view_2016_1',\n",
       " u'author_commit_fake_not',\n",
       " u'author_fake_not',\n",
       " u'committer_not_author',\n",
       " u'linux_project_commits',\n",
       " u'project_commit_times_since_2016_view',\n",
       " u'project_commit_times_view',\n",
       " u'python_project_commiters',\n",
       " u'python_project_more_than_100_commits',\n",
       " u'python_project_more_than_5_commiters',\n",
       " u'python_project_view',\n",
       " u'user_878937',\n",
       " u'user_commit_counts100_view_2016_1',\n",
       " u'user_commit_counts_view',\n",
       " u'user_commit_counts_view_2016_1',\n",
       " u'user_commit_project_view',\n",
       " u'watcher_counts_view_2016_1']"
      ]
     },
     "execution_count": 43,
     "metadata": {},
     "output_type": "execute_result"
    }
   ],
   "source": [
    "tables = list(client.list_tables(dataset_ref))\n",
    "[table.table_id for table in tables]"
   ]
  },
  {
   "cell_type": "code",
   "execution_count": 46,
   "metadata": {},
   "outputs": [
    {
     "data": {
      "text/html": [
       "<div>\n",
       "<style scoped>\n",
       "    .dataframe tbody tr th:only-of-type {\n",
       "        vertical-align: middle;\n",
       "    }\n",
       "\n",
       "    .dataframe tbody tr th {\n",
       "        vertical-align: top;\n",
       "    }\n",
       "\n",
       "    .dataframe thead th {\n",
       "        text-align: right;\n",
       "    }\n",
       "</style>\n",
       "<table border=\"1\" class=\"dataframe\">\n",
       "  <thead>\n",
       "    <tr style=\"text-align: right;\">\n",
       "      <th></th>\n",
       "      <th>project_id</th>\n",
       "      <th>author_id</th>\n",
       "      <th>committer_id</th>\n",
       "    </tr>\n",
       "  </thead>\n",
       "  <tbody>\n",
       "    <tr>\n",
       "      <th>0</th>\n",
       "      <td>20471423</td>\n",
       "      <td>11534336</td>\n",
       "      <td>11534336</td>\n",
       "    </tr>\n",
       "    <tr>\n",
       "      <th>1</th>\n",
       "      <td>39158815</td>\n",
       "      <td>14745600</td>\n",
       "      <td>14745600</td>\n",
       "    </tr>\n",
       "    <tr>\n",
       "      <th>2</th>\n",
       "      <td>2256703</td>\n",
       "      <td>256</td>\n",
       "      <td>256</td>\n",
       "    </tr>\n",
       "    <tr>\n",
       "      <th>3</th>\n",
       "      <td>40771</td>\n",
       "      <td>256</td>\n",
       "      <td>256</td>\n",
       "    </tr>\n",
       "    <tr>\n",
       "      <th>4</th>\n",
       "      <td>71</td>\n",
       "      <td>256</td>\n",
       "      <td>256</td>\n",
       "    </tr>\n",
       "  </tbody>\n",
       "</table>\n",
       "</div>"
      ],
      "text/plain": [
       "   project_id  author_id  committer_id\n",
       "0    20471423   11534336      11534336\n",
       "1    39158815   14745600      14745600\n",
       "2     2256703        256           256\n",
       "3       40771        256           256\n",
       "4          71        256           256"
      ]
     },
     "execution_count": 46,
     "metadata": {},
     "output_type": "execute_result"
    }
   ],
   "source": [
    "with open('../data/python_more_5_commiters.pickle', 'rb') as picklefile:\n",
    "    project_authors = pickle.load(picklefile)\n",
    "project_authors.head()"
   ]
  },
  {
   "cell_type": "code",
   "execution_count": 47,
   "metadata": {},
   "outputs": [
    {
     "data": {
      "text/plain": [
       "array([53549082,  1922714, 22048477, 13844960, 30242396,  6507896,\n",
       "           8460,  6431208,  9884164, 18833560, 35033856, 52822481,\n",
       "           1088,  3625988,      799, 30028525, 16169652, 20037645,\n",
       "         470804,  9324702, 12565778,  1345820, 28876850, 19329843,\n",
       "       52624206, 29777493,   234346, 17443695, 27531903, 14191502,\n",
       "       19737489,  6779299,  6391977, 29201323, 35154099, 20586681,\n",
       "       29745877, 13692898, 29977074, 29355279, 10358550,    78870,\n",
       "        5737292,  3296874, 13578758, 28206963, 15968339, 13527589,\n",
       "       52518359, 12517135, 52582864, 27399160,  8608095, 53331184,\n",
       "       43674270, 24665746, 28155698, 16357580, 22426157, 53099849,\n",
       "       16777171, 56743622,  1408804,  8261633, 53320825, 28353085,\n",
       "       30932629])"
      ]
     },
     "execution_count": 47,
     "metadata": {},
     "output_type": "execute_result"
    }
   ],
   "source": [
    "project_authors[project_authors['author_id']==878937]['project_id'].unique()"
   ]
  },
  {
   "cell_type": "code",
   "execution_count": 48,
   "metadata": {},
   "outputs": [
    {
     "data": {
      "text/plain": [
       "436831"
      ]
     },
     "execution_count": 48,
     "metadata": {},
     "output_type": "execute_result"
    }
   ],
   "source": [
    "len(project_authors)"
   ]
  },
  {
   "cell_type": "code",
   "execution_count": 49,
   "metadata": {},
   "outputs": [
    {
     "data": {
      "text/plain": [
       "150568"
      ]
     },
     "execution_count": 49,
     "metadata": {},
     "output_type": "execute_result"
    }
   ],
   "source": [
    "authors = project_authors['author_id'].unique()\n",
    "len(authors)"
   ]
  },
  {
   "cell_type": "code",
   "execution_count": 50,
   "metadata": {},
   "outputs": [
    {
     "data": {
      "text/plain": [
       "15719"
      ]
     },
     "execution_count": 50,
     "metadata": {},
     "output_type": "execute_result"
    }
   ],
   "source": [
    "projects = project_authors['project_id'].unique()\n",
    "len(projects)"
   ]
  },
  {
   "cell_type": "code",
   "execution_count": 187,
   "metadata": {},
   "outputs": [],
   "source": [
    "G = snap.TNEANet.New()"
   ]
  },
  {
   "cell_type": "code",
   "execution_count": 188,
   "metadata": {},
   "outputs": [],
   "source": [
    "for author in authors:\n",
    "    G.AddNode(author)"
   ]
  },
  {
   "cell_type": "code",
   "execution_count": 189,
   "metadata": {},
   "outputs": [
    {
     "data": {
      "text/plain": [
       "150568"
      ]
     },
     "execution_count": 189,
     "metadata": {},
     "output_type": "execute_result"
    }
   ],
   "source": [
    "G.GetNodes()"
   ]
  },
  {
   "cell_type": "code",
   "execution_count": 54,
   "metadata": {},
   "outputs": [],
   "source": [
    "for project in projects:\n",
    "    p_authors = project_authors[project_authors['project_id']==project]['author_id'].unique()\n",
    "    edges = combinations(p_authors, 2)\n",
    "    for a, b in edges:\n",
    "        G.AddEdge(a,b)"
   ]
  },
  {
   "cell_type": "code",
   "execution_count": 158,
   "metadata": {},
   "outputs": [],
   "source": [
    "weights=collections.defaultdict(list)\n",
    "for project in projects:\n",
    "    project_commits=project_authors[project_authors['project_id']==project]\n",
    "    p_authors = project_commits['author_id'].unique()\n",
    "    by_author = project_commits.groupby('author_id').count()\n",
    "    by_author['weight'] = np.log(by_author['project_id'])\n",
    "    edges = combinations(p_authors, 2)\n",
    "    for a, b in edges:\n",
    "        if a > b:\n",
    "            a, b = b, a\n",
    "        weights[(a,b)].append(min(by_author.loc[a,'weight'],by_author.loc[b,'weight']))"
   ]
  },
  {
   "cell_type": "code",
   "execution_count": 169,
   "metadata": {},
   "outputs": [],
   "source": [
    "final_weights=[(edge, sum(weights[edge])) for edge in weights]"
   ]
  },
  {
   "cell_type": "code",
   "execution_count": 185,
   "metadata": {},
   "outputs": [
    {
     "data": {
      "text/plain": [
       "0"
      ]
     },
     "execution_count": 185,
     "metadata": {},
     "output_type": "execute_result"
    }
   ],
   "source": [
    "G.AddFltAttrE('weight')"
   ]
  },
  {
   "cell_type": "code",
   "execution_count": 190,
   "metadata": {},
   "outputs": [],
   "source": [
    "for edge, weight in final_weights:\n",
    "    if weight > 0:\n",
    "        a, b = edge\n",
    "        eid = G.AddEdge(a, b)\n",
    "        G.AddFltAttrDatE(eid, weight, 'weight')"
   ]
  },
  {
   "cell_type": "code",
   "execution_count": 191,
   "metadata": {},
   "outputs": [
    {
     "data": {
      "text/plain": [
       "1708733"
      ]
     },
     "execution_count": 191,
     "metadata": {},
     "output_type": "execute_result"
    }
   ],
   "source": [
    "G.GetEdges()"
   ]
  },
  {
   "cell_type": "code",
   "execution_count": 192,
   "metadata": {},
   "outputs": [],
   "source": [
    "FOut = snap.TFOut(\"sample-weighted.graph\")\n",
    "G.Save(FOut)\n",
    "FOut.Flush()"
   ]
  },
  {
   "cell_type": "code",
   "execution_count": 160,
   "metadata": {},
   "outputs": [],
   "source": [
    "w=[sum(weights[edge]) for edge in weights]"
   ]
  },
  {
   "cell_type": "code",
   "execution_count": 170,
   "metadata": {},
   "outputs": [],
   "source": [
    "final_weights.sort(cmp=lambda x, y: cmp(x[1], y[1]), reverse=True)"
   ]
  },
  {
   "cell_type": "code",
   "execution_count": 184,
   "metadata": {},
   "outputs": [
    {
     "data": {
      "text/plain": [
       "[((4145642, 6494620), 36.09802641701576),\n",
       " ((4490298, 6494620), 33.0377556223242),\n",
       " ((63778, 2032034), 31.14063563743831),\n",
       " ((6311, 71143), 30.108741687594033),\n",
       " ((4145642, 4490298), 28.47340743085636),\n",
       " ((84761, 2032034), 27.95015928709181),\n",
       " ((2726618, 8686793), 27.914020240475935),\n",
       " ((664537, 2032034), 27.832376251435424),\n",
       " ((116088, 201383), 27.621655220119777),\n",
       " ((77283, 87488), 27.60923270012121)]"
      ]
     },
     "execution_count": 184,
     "metadata": {},
     "output_type": "execute_result"
    }
   ],
   "source": [
    "final_weights[:10]"
   ]
  },
  {
   "cell_type": "code",
   "execution_count": 177,
   "metadata": {},
   "outputs": [
    {
     "data": {
      "text/plain": [
       "{6311,\n",
       " 63778,\n",
       " 71143,\n",
       " 77283,\n",
       " 84761,\n",
       " 87488,\n",
       " 116088,\n",
       " 201383,\n",
       " 664537,\n",
       " 2032034,\n",
       " 2726618,\n",
       " 4145642,\n",
       " 4490298,\n",
       " 6494620,\n",
       " 8686793}"
      ]
     },
     "execution_count": 177,
     "metadata": {},
     "output_type": "execute_result"
    }
   ],
   "source": [
    "set([edge[0] for edge, _ in final_weights[:10]]+[edge[1] for edge, _ in final_weights[:10]])"
   ]
  },
  {
   "cell_type": "code",
   "execution_count": null,
   "metadata": {},
   "outputs": [],
   "source": [
    "6494620"
   ]
  },
  {
   "cell_type": "code",
   "execution_count": 162,
   "metadata": {},
   "outputs": [
    {
     "data": {
      "text/plain": [
       "(array([1.2234975e+07, 9.4170000e+03, 1.2010000e+03, 3.2200000e+02,\n",
       "        9.0000000e+01, 3.6000000e+01, 1.4000000e+01, 1.0000000e+01,\n",
       "        2.0000000e+00, 2.0000000e+00]),\n",
       " array([ 0.        ,  3.60980264,  7.21960528, 10.82940793, 14.43921057,\n",
       "        18.04901321, 21.65881585, 25.26861849, 28.87842113, 32.48822378,\n",
       "        36.09802642]),\n",
       " <a list of 10 Patch objects>)"
      ]
     },
     "execution_count": 162,
     "metadata": {},
     "output_type": "execute_result"
    },
    {
     "data": {
      "image/png": "[encoded data removed]",
      "text/plain": [
       "<Figure size 432x288 with 1 Axes>"
      ]
     },
     "metadata": {
      "needs_background": "light"
     },
     "output_type": "display_data"
    }
   ],
   "source": [
    "plt.hist(w, log=True)"
   ]
  },
  {
   "cell_type": "code",
   "execution_count": 166,
   "metadata": {},
   "outputs": [
    {
     "data": {
      "text/plain": [
       "1708733"
      ]
     },
     "execution_count": 166,
     "metadata": {},
     "output_type": "execute_result"
    }
   ],
   "source": [
    "len([i for i in w if i>0])"
   ]
  },
  {
   "cell_type": "code",
   "execution_count": 180,
   "metadata": {},
   "outputs": [
    {
     "data": {
      "text/plain": [
       "12246069"
      ]
     },
     "execution_count": 180,
     "metadata": {},
     "output_type": "execute_result"
    }
   ],
   "source": [
    "G.GetEdges()"
   ]
  },
  {
   "cell_type": "code",
   "execution_count": 62,
   "metadata": {},
   "outputs": [],
   "source": [
    "FOut = snap.TFOut(\"unweighted.graph\")\n",
    "G.Save(FOut)\n",
    "FOut.Flush()"
   ]
  },
  {
   "cell_type": "code",
   "execution_count": 63,
   "metadata": {},
   "outputs": [],
   "source": [
    "snap.DrawGViz(G, snap.gvlDot, \"unweighted.png\")"
   ]
  },
  {
   "cell_type": "code",
   "execution_count": 50,
   "metadata": {},
   "outputs": [],
   "source": [
    "def getDataPointsToPlot(Graph):\n",
    "    outDegs = np.array([node.GetOutDeg()\n",
    "                        for node in Graph.Nodes() if node.GetOutDeg() > 0])\n",
    "    X = np.unique(outDegs)\n",
    "    Y = [float((outDegs == i).sum())/len(outDegs) for i in X]\n",
    "    return X, Y"
   ]
  },
  {
   "cell_type": "code",
   "execution_count": 53,
   "metadata": {},
   "outputs": [
    {
     "data": {
      "text/plain": [
       "[<matplotlib.lines.Line2D at 0x1208aec90>]"
      ]
     },
     "execution_count": 53,
     "metadata": {},
     "output_type": "execute_result"
    },
    {
     "data": {
      "image/png": "[encoded data removed]",
      "text/plain": [
       "<Figure size 432x288 with 1 Axes>"
      ]
     },
     "metadata": {
      "needs_background": "light"
     },
     "output_type": "display_data"
    }
   ],
   "source": [
    "x, y = getDataPointsToPlot(G)\n",
    "plt.loglog(x, y)"
   ]
  },
  {
   "cell_type": "code",
   "execution_count": 78,
   "metadata": {},
   "outputs": [],
   "source": [
    "snap.PlotInDegDistr(G, \"Author-Author\", \"Author-Author In Degree\")"
   ]
  },
  {
   "cell_type": "code",
   "execution_count": 80,
   "metadata": {},
   "outputs": [],
   "source": [
    "snap.PlotClustCf(G, \"clustering\", \"clustering coefficient\")"
   ]
  },
  {
   "cell_type": "code",
   "execution_count": 57,
   "metadata": {},
   "outputs": [],
   "source": [
    "outDegs = [(node.GetOutDeg(), node.GetId()) for node in G.Nodes()]"
   ]
  },
  {
   "cell_type": "code",
   "execution_count": 58,
   "metadata": {},
   "outputs": [],
   "source": [
    "outDegs.sort(reverse=True)"
   ]
  },
  {
   "cell_type": "code",
   "execution_count": 76,
   "metadata": {},
   "outputs": [
    {
     "data": {
      "text/plain": [
       "[6059,\n",
       " 13928516,\n",
       " 6311,\n",
       " 71143,\n",
       " 5203,\n",
       " 254661,\n",
       " 6543,\n",
       " 11649,\n",
       " 40745,\n",
       " 6417,\n",
       " 4901309,\n",
       " 5240,\n",
       " 1319258,\n",
       " 219968,\n",
       " 878937,\n",
       " 5212,\n",
       " 266472,\n",
       " 71088,\n",
       " 5754235,\n",
       " 98431]"
      ]
     },
     "execution_count": 76,
     "metadata": {},
     "output_type": "execute_result"
    }
   ],
   "source": [
    "[id for deg, id in outDegs[:20]]"
   ]
  },
  {
   "cell_type": "code",
   "execution_count": 60,
   "metadata": {},
   "outputs": [],
   "source": [
    "author_counts = project_authors.groupby('project_id')['author_id'].nunique()"
   ]
  },
  {
   "cell_type": "code",
   "execution_count": 77,
   "metadata": {},
   "outputs": [
    {
     "data": {
      "text/plain": [
       "(array([1.5477e+04, 1.6400e+02, 5.0000e+01, 1.2000e+01, 8.0000e+00,\n",
       "        3.0000e+00, 3.0000e+00, 0.0000e+00, 1.0000e+00, 1.0000e+00]),\n",
       " array([   2. ,  139.9,  277.8,  415.7,  553.6,  691.5,  829.4,  967.3,\n",
       "        1105.2, 1243.1, 1381. ]),\n",
       " <a list of 10 Patch objects>)"
      ]
     },
     "execution_count": 77,
     "metadata": {},
     "output_type": "execute_result"
    },
    {
     "data": {
      "image/png": "[encoded data removed]",
      "text/plain": [
       "<Figure size 432x288 with 1 Axes>"
      ]
     },
     "metadata": {
      "needs_background": "light"
     },
     "output_type": "display_data"
    }
   ],
   "source": [
    "plt.hist(author_counts, log=True)"
   ]
  },
  {
   "cell_type": "markdown",
   "metadata": {},
   "source": [
    "## Questions\n",
    "If a project is forked, will the original repo's commit be counted towards the forked project?\n",
    "Examined https://github.com/Jeasonxiang/Designers-Learn-Git(project-id 13552417) which is forked from https://github.com/Tower-KevinLi/Designers-Learn-Git (project-id 10836985)\n",
    "13552417 only has one commit which is as expected"
   ]
  },
  {
   "cell_type": "code",
   "execution_count": null,
   "metadata": {},
   "outputs": [],
   "source": []
  },
  {
   "cell_type": "markdown",
   "metadata": {},
   "source": [
    "## Case study with linux repo\n",
    "https://github.com/torvalds/linux"
   ]
  },
  {
   "cell_type": "code",
   "execution_count": 8,
   "metadata": {},
   "outputs": [],
   "source": [
    "view_ref = dataset_ref.table('linux_project_commits')\n",
    "view = bigquery.Table(view_ref)\n",
    "view.view_query = \"\"\"\n",
    "#standardsql\n",
    "SELECT\n",
    "    author_id, committer_id, project_id, created_at\n",
    "FROM\n",
    "`ghtorrent-bq:ght.commits`\n",
    "WHERE\n",
    "project_id = 1088\n",
    "\"\"\"\n",
    "view = client.create_table(view)"
   ]
  },
  {
   "cell_type": "code",
   "execution_count": null,
   "metadata": {},
   "outputs": [],
   "source": [
    "query_job = client.query(\"\"\"\n",
    "SELECT *\n",
    "FROM\n",
    "  `github224w.gh_data.linux_project_commits`\n",
    "\"\"\")\n",
    "\n",
    "results = query_job.result()\n",
    "linux_commits = results.to_dataframe()"
   ]
  },
  {
   "cell_type": "markdown",
   "metadata": {},
   "source": [
    "100529 commits in total"
   ]
  },
  {
   "cell_type": "code",
   "execution_count": 31,
   "metadata": {},
   "outputs": [
    {
     "data": {
      "text/plain": [
       "100529"
      ]
     },
     "execution_count": 31,
     "metadata": {},
     "output_type": "execute_result"
    }
   ],
   "source": [
    "len(linux_commits)"
   ]
  },
  {
   "cell_type": "markdown",
   "metadata": {},
   "source": [
    "Covering commits from 2002-04-09 19:14:34+0000 to 2016-09-04 15:45:41+0000"
   ]
  },
  {
   "cell_type": "code",
   "execution_count": 34,
   "metadata": {},
   "outputs": [
    {
     "data": {
      "text/plain": [
       "Timestamp('2016-09-04 15:45:41+0000', tz='UTC')"
      ]
     },
     "execution_count": 34,
     "metadata": {},
     "output_type": "execute_result"
    }
   ],
   "source": [
    "max(linux_commits['created_at'])"
   ]
  },
  {
   "cell_type": "code",
   "execution_count": 12,
   "metadata": {},
   "outputs": [
    {
     "data": {
      "text/plain": [
       "7855"
      ]
     },
     "execution_count": 12,
     "metadata": {},
     "output_type": "execute_result"
    }
   ],
   "source": [
    "len(linux_commits['author_id'].unique())"
   ]
  },
  {
   "cell_type": "code",
   "execution_count": 29,
   "metadata": {},
   "outputs": [
    {
     "data": {
      "text/plain": [
       "655"
      ]
     },
     "execution_count": 29,
     "metadata": {},
     "output_type": "execute_result"
    }
   ],
   "source": [
    "len(linux_commits['committer_id'].unique())"
   ]
  },
  {
   "cell_type": "markdown",
   "metadata": {},
   "source": [
    "Much more authors(the person who wrote the code, 7855) than committers(the person who commit with git, 655) - potentially only core collaborators has commit rights."
   ]
  },
  {
   "cell_type": "markdown",
   "metadata": {},
   "source": [
    "For a given user https://github.com/linusw, not all of his commits are written by him and not all of his code are committed by him."
   ]
  },
  {
   "cell_type": "code",
   "execution_count": 16,
   "metadata": {},
   "outputs": [
    {
     "data": {
      "text/plain": [
       "107"
      ]
     },
     "execution_count": 16,
     "metadata": {},
     "output_type": "execute_result"
    }
   ],
   "source": [
    "sum(linux_commits['author_id']==878937)"
   ]
  },
  {
   "cell_type": "code",
   "execution_count": 17,
   "metadata": {},
   "outputs": [
    {
     "data": {
      "text/plain": [
       "331"
      ]
     },
     "execution_count": 17,
     "metadata": {},
     "output_type": "execute_result"
    }
   ],
   "source": [
    "sum(linux_commits['committer_id']==878937)"
   ]
  },
  {
   "cell_type": "code",
   "execution_count": 22,
   "metadata": {},
   "outputs": [
    {
     "data": {
      "text/plain": [
       "28390"
      ]
     },
     "execution_count": 22,
     "metadata": {},
     "output_type": "execute_result"
    }
   ],
   "source": [
    "sum(linux_commits['author_id']==linux_commits['committer_id'])"
   ]
  },
  {
   "cell_type": "code",
   "execution_count": 24,
   "metadata": {},
   "outputs": [
    {
     "data": {
      "text/plain": [
       "72139"
      ]
     },
     "execution_count": 24,
     "metadata": {},
     "output_type": "execute_result"
    }
   ],
   "source": [
    "sum(linux_commits['author_id']!=linux_commits['committer_id'])"
   ]
  },
  {
   "cell_type": "code",
   "execution_count": 81,
   "metadata": {},
   "outputs": [
    {
     "data": {
      "text/html": [
       "<div>\n",
       "<style scoped>\n",
       "    .dataframe tbody tr th:only-of-type {\n",
       "        vertical-align: middle;\n",
       "    }\n",
       "\n",
       "    .dataframe tbody tr th {\n",
       "        vertical-align: top;\n",
       "    }\n",
       "\n",
       "    .dataframe thead th {\n",
       "        text-align: right;\n",
       "    }\n",
       "</style>\n",
       "<table border=\"1\" class=\"dataframe\">\n",
       "  <thead>\n",
       "    <tr style=\"text-align: right;\">\n",
       "      <th></th>\n",
       "      <th>author_id</th>\n",
       "      <th>committer_id</th>\n",
       "      <th>project_id</th>\n",
       "      <th>created_at</th>\n",
       "    </tr>\n",
       "  </thead>\n",
       "  <tbody>\n",
       "    <tr>\n",
       "      <th>7586</th>\n",
       "      <td>878937</td>\n",
       "      <td>6440</td>\n",
       "      <td>1088</td>\n",
       "      <td>2013-11-18 09:37:20+00:00</td>\n",
       "    </tr>\n",
       "    <tr>\n",
       "      <th>8504</th>\n",
       "      <td>878937</td>\n",
       "      <td>1877051</td>\n",
       "      <td>1088</td>\n",
       "      <td>2016-04-12 07:57:35+00:00</td>\n",
       "    </tr>\n",
       "    <tr>\n",
       "      <th>10208</th>\n",
       "      <td>878937</td>\n",
       "      <td>8568400</td>\n",
       "      <td>1088</td>\n",
       "      <td>2016-06-08 08:29:48+00:00</td>\n",
       "    </tr>\n",
       "    <tr>\n",
       "      <th>21921</th>\n",
       "      <td>878937</td>\n",
       "      <td>5203</td>\n",
       "      <td>1088</td>\n",
       "      <td>2009-09-22 23:46:24+00:00</td>\n",
       "    </tr>\n",
       "    <tr>\n",
       "      <th>30988</th>\n",
       "      <td>878937</td>\n",
       "      <td>5209</td>\n",
       "      <td>1088</td>\n",
       "      <td>2014-01-23 13:20:01+00:00</td>\n",
       "    </tr>\n",
       "  </tbody>\n",
       "</table>\n",
       "</div>"
      ],
      "text/plain": [
       "       author_id  committer_id  project_id                created_at\n",
       "7586      878937          6440        1088 2013-11-18 09:37:20+00:00\n",
       "8504      878937       1877051        1088 2016-04-12 07:57:35+00:00\n",
       "10208     878937       8568400        1088 2016-06-08 08:29:48+00:00\n",
       "21921     878937          5203        1088 2009-09-22 23:46:24+00:00\n",
       "30988     878937          5209        1088 2014-01-23 13:20:01+00:00"
      ]
     },
     "execution_count": 81,
     "metadata": {},
     "output_type": "execute_result"
    }
   ],
   "source": [
    "linux_commits[linux_commits['author_id']==878937].head()"
   ]
  },
  {
   "cell_type": "code",
   "execution_count": 98,
   "metadata": {},
   "outputs": [],
   "source": [
    "a=linux_commits.groupby('author_id', as_index=False).count()"
   ]
  },
  {
   "cell_type": "code",
   "execution_count": 108,
   "metadata": {},
   "outputs": [],
   "source": [
    "a['weight'] = a['project_id']/len(linux_commits)"
   ]
  },
  {
   "cell_type": "code",
   "execution_count": 110,
   "metadata": {},
   "outputs": [
    {
     "data": {
      "text/html": [
       "<div>\n",
       "<style scoped>\n",
       "    .dataframe tbody tr th:only-of-type {\n",
       "        vertical-align: middle;\n",
       "    }\n",
       "\n",
       "    .dataframe tbody tr th {\n",
       "        vertical-align: top;\n",
       "    }\n",
       "\n",
       "    .dataframe thead th {\n",
       "        text-align: right;\n",
       "    }\n",
       "</style>\n",
       "<table border=\"1\" class=\"dataframe\">\n",
       "  <thead>\n",
       "    <tr style=\"text-align: right;\">\n",
       "      <th></th>\n",
       "      <th>author_id</th>\n",
       "      <th>committer_id</th>\n",
       "      <th>project_id</th>\n",
       "      <th>created_at</th>\n",
       "      <th>weight</th>\n",
       "    </tr>\n",
       "  </thead>\n",
       "  <tbody>\n",
       "    <tr>\n",
       "      <th>4654</th>\n",
       "      <td>878937</td>\n",
       "      <td>107</td>\n",
       "      <td>107</td>\n",
       "      <td>107</td>\n",
       "      <td>0.001064</td>\n",
       "    </tr>\n",
       "  </tbody>\n",
       "</table>\n",
       "</div>"
      ],
      "text/plain": [
       "      author_id  committer_id  project_id  created_at    weight\n",
       "4654     878937           107         107         107  0.001064"
      ]
     },
     "execution_count": 110,
     "metadata": {},
     "output_type": "execute_result"
    }
   ],
   "source": [
    "a[a.author_id==878937]"
   ]
  },
  {
   "cell_type": "code",
   "execution_count": 120,
   "metadata": {},
   "outputs": [
    {
     "data": {
      "text/plain": [
       "2022"
      ]
     },
     "execution_count": 120,
     "metadata": {},
     "output_type": "execute_result"
    }
   ],
   "source": [
    "commit2016q1 = linux_commits[\n",
    "    ('2016-03-31 23:59:59+00:00'>linux_commits['created_at'])&\n",
    "    (linux_commits['created_at']>'2016-01-01T00:00:00+00:00')\n",
    "]\n",
    "len(commit2016q1)"
   ]
  },
  {
   "cell_type": "code",
   "execution_count": 148,
   "metadata": {},
   "outputs": [
    {
     "data": {
      "text/plain": [
       "committer_id    4.000000\n",
       "project_id      4.000000\n",
       "created_at      4.000000\n",
       "weight          1.386294\n",
       "Name: 878937, dtype: float64"
      ]
     },
     "execution_count": 148,
     "metadata": {},
     "output_type": "execute_result"
    }
   ],
   "source": [
    "b=commit2016q1.groupby('author_id').count()\n",
    "b['weight'] = np.log(b['project_id'])\n",
    "b.loc[878937]"
   ]
  },
  {
   "cell_type": "code",
   "execution_count": 149,
   "metadata": {},
   "outputs": [
    {
     "data": {
      "text/plain": [
       "1.3862943611198906"
      ]
     },
     "execution_count": 149,
     "metadata": {},
     "output_type": "execute_result"
    }
   ],
   "source": [
    "b.loc[878937,'weight']"
   ]
  },
  {
   "cell_type": "code",
   "execution_count": 133,
   "metadata": {},
   "outputs": [
    {
     "data": {
      "text/plain": [
       "<matplotlib.axes._subplots.AxesSubplot at 0x11ba99910>"
      ]
     },
     "execution_count": 133,
     "metadata": {},
     "output_type": "execute_result"
    },
    {
     "data": {
      "image/png": "[encoded data removed]",
      "text/plain": [
       "<Figure size 432x288 with 1 Axes>"
      ]
     },
     "metadata": {
      "needs_background": "light"
     },
     "output_type": "display_data"
    }
   ],
   "source": [
    "b['weight'].hist()"
   ]
  },
  {
   "cell_type": "code",
   "execution_count": null,
   "metadata": {},
   "outputs": [],
   "source": []
  }
 ],
 "metadata": {
  "kernelspec": {
   "display_name": "Python 2",
   "language": "python",
   "name": "python2"
  },
  "language_info": {
   "codemirror_mode": {
    "name": "ipython",
    "version": 2
   },
   "file_extension": ".py",
   "mimetype": "text/x-python",
   "name": "python",
   "nbconvert_exporter": "python",
   "pygments_lexer": "ipython2",
   "version": "2.7.15"
  }
 },
 "nbformat": 4,
 "nbformat_minor": 2
}
