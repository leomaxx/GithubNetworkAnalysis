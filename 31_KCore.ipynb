{
 "cells": [
  {
   "cell_type": "code",
   "execution_count": 4,
   "metadata": {},
   "outputs": [],
   "source": [
    "import matplotlib.pyplot as plt\n",
    "import pickle\n",
    "import os\n",
    "import snap\n",
    "from itertools import combinations\n",
    "import numpy as np\n",
    "from google.cloud import bigquery\n",
    "import collections\n",
    "from IPython.lib import backgroundjobs as bg\n",
    "from tqdm import tqdm_notebook\n",
    "import heapq"
   ]
  },
  {
   "cell_type": "code",
   "execution_count": 7,
   "metadata": {},
   "outputs": [],
   "source": [
    "with open('./data/project_authors_2016_q1.pickle', 'rb') as picklefile:\n",
    "    project_authors = pickle.load(picklefile)"
   ]
  },
  {
   "cell_type": "markdown",
   "metadata": {},
   "source": [
    "#### Construct an undirectional bipartite graph, note project id are negative"
   ]
  },
  {
   "cell_type": "code",
   "execution_count": 8,
   "metadata": {},
   "outputs": [
    {
     "data": {
      "text/plain": [
       "(598844, 1081257)"
      ]
     },
     "execution_count": 8,
     "metadata": {},
     "output_type": "execute_result"
    }
   ],
   "source": [
    "authors = project_authors['author_id'].unique()\n",
    "projects = project_authors['project_id'].unique()\n",
    "bipartite = snap.TUNGraph.New()\n",
    "for author in authors:\n",
    "    bipartite.AddNode(author)\n",
    "for project in projects:\n",
    "    bipartite.AddNode(-project)\n",
    "for _, row in project_authors.iterrows():\n",
    "    bipartite.AddEdge(-row['project_id'], row['author_id'])\n",
    "bipartite.GetNodes(), bipartite.GetEdges()"
   ]
  },
  {
   "cell_type": "code",
   "execution_count": 6,
   "metadata": {},
   "outputs": [
    {
     "data": {
      "text/plain": [
       "(213039, 795843)"
      ]
     },
     "execution_count": 6,
     "metadata": {},
     "output_type": "execute_result"
    }
   ],
   "source": [
    "bipartite_max_scc = snap.GetMxScc(bipartite)\n",
    "bipartite_max_scc.GetNodes(), bipartite_max_scc.GetEdges()"
   ]
  },
  {
   "cell_type": "code",
   "execution_count": 110,
   "metadata": {},
   "outputs": [
    {
     "data": {
      "image/png": "[encoded data removed]",
      "text/plain": [
       "<Figure size 432x288 with 1 Axes>"
      ]
     },
     "metadata": {
      "needs_background": "light"
     },
     "output_type": "display_data"
    }
   ],
   "source": [
    "author_deg = np.array([node.GetDeg() for node in bipartite_max_scc.Nodes() if node.GetId()>=0])\n",
    "X = np.unique(author_deg)\n",
    "Y = [float((author_deg == i).sum())/len(author_deg) for i in X]\n",
    "plt.loglog(X, Y)\n",
    "plt.title('Max SCC Author Degree Distribution');"
   ]
  },
  {
   "cell_type": "code",
   "execution_count": 111,
   "metadata": {},
   "outputs": [
    {
     "data": {
      "image/png": "[encoded data removed]",
      "text/plain": [
       "<Figure size 432x288 with 1 Axes>"
      ]
     },
     "metadata": {
      "needs_background": "light"
     },
     "output_type": "display_data"
    }
   ],
   "source": [
    "project_deg = np.array([node.GetDeg() for node in bipartite_max_scc.Nodes() if node.GetId()<0])\n",
    "X = np.unique(project_deg)\n",
    "Y = [float((project_deg == i).sum())/len(project_deg) for i in X]\n",
    "plt.loglog(X, Y)\n",
    "plt.title('Max SCC Project Degree Distribution');"
   ]
  },
  {
   "cell_type": "markdown",
   "metadata": {},
   "source": [
    "### Remove nodes iteratively, starting from project node with degree 1, and then author node with degree 1, then project node with degree 2 ..etc"
   ]
  },
  {
   "cell_type": "code",
   "execution_count": 22,
   "metadata": {},
   "outputs": [],
   "source": [
    "def count_author(graph):\n",
    "    return len([node for node in graph.Nodes() if node.GetId()>=0])"
   ]
  },
  {
   "cell_type": "code",
   "execution_count": 151,
   "metadata": {},
   "outputs": [
    {
     "data": {
      "text/plain": [
       "(213039, 795843)"
      ]
     },
     "execution_count": 151,
     "metadata": {},
     "output_type": "execute_result"
    }
   ],
   "source": [
    "bipartite_max_scc = snap.GetMxScc(bipartite)\n",
    "authors = [node for node in bipartite_max_scc.Nodes() if node.GetId()>=0]\n",
    "bipartite_max_scc.GetNodes(), bipartite_max_scc.GetEdges()"
   ]
  },
  {
   "cell_type": "code",
   "execution_count": 8,
   "metadata": {
    "scrolled": true
   },
   "outputs": [
    {
     "name": "stdout",
     "output_type": "stream",
     "text": [
      "After deleting nodes degree <= 1, 58950 authors 117489 projects remains\n",
      "After deleting nodes degree <= 2, 39980 authors 77207 projects remains\n",
      "After deleting nodes degree <= 3, 30605 authors 58574 projects remains\n",
      "After deleting nodes degree <= 4, 24345 authors 46294 projects remains\n",
      "After deleting nodes degree <= 5, 20158 authors 38245 projects remains\n",
      "After deleting nodes degree <= 6, 16995 authors 32123 projects remains\n",
      "After deleting nodes degree <= 7, 14401 authors 27103 projects remains\n",
      "After deleting nodes degree <= 8, 12626 authors 23536 projects remains\n",
      "After deleting nodes degree <= 9, 11192 authors 20680 projects remains\n",
      "After deleting nodes degree <= 10, 10167 authors 18701 projects remains\n",
      "After deleting nodes degree <= 11, 8837 authors 16156 projects remains\n",
      "After deleting nodes degree <= 12, 8024 authors 14526 projects remains\n",
      "After deleting nodes degree <= 13, 7442 authors 13433 projects remains\n",
      "After deleting nodes degree <= 14, 6746 authors 12115 projects remains\n",
      "After deleting nodes degree <= 15, 6105 authors 10903 projects remains\n",
      "After deleting nodes degree <= 16, 5755 authors 10251 projects remains\n",
      "After deleting nodes degree <= 17, 5317 authors 9446 projects remains\n",
      "After deleting nodes degree <= 18, 4996 authors 8847 projects remains\n",
      "After deleting nodes degree <= 19, 4674 authors 8266 projects remains\n",
      "After deleting nodes degree <= 20, 4249 authors 7460 projects remains\n",
      "After deleting nodes degree <= 21, 3806 authors 6636 projects remains\n",
      "After deleting nodes degree <= 22, 3584 authors 6211 projects remains\n",
      "After deleting nodes degree <= 23, 3459 authors 5925 projects remains\n",
      "After deleting nodes degree <= 24, 3311 authors 5687 projects remains\n",
      "After deleting nodes degree <= 25, 3053 authors 5215 projects remains\n",
      "After deleting nodes degree <= 26, 2815 authors 4825 projects remains\n",
      "After deleting nodes degree <= 27, 2649 authors 4541 projects remains\n",
      "After deleting nodes degree <= 28, 2523 authors 4327 projects remains\n",
      "After deleting nodes degree <= 29, 2411 authors 4147 projects remains\n",
      "After deleting nodes degree <= 30, 2192 authors 3730 projects remains\n",
      "After deleting nodes degree <= 31, 2046 authors 3457 projects remains\n",
      "After deleting nodes degree <= 32, 1886 authors 3181 projects remains\n",
      "After deleting nodes degree <= 33, 1645 authors 2720 projects remains\n",
      "After deleting nodes degree <= 34, 1480 authors 2378 projects remains\n",
      "After deleting nodes degree <= 35, 1436 authors 2300 projects remains\n",
      "After deleting nodes degree <= 36, 1362 authors 2170 projects remains\n",
      "After deleting nodes degree <= 37, 1325 authors 2122 projects remains\n",
      "After deleting nodes degree <= 38, 1194 authors 1893 projects remains\n",
      "After deleting nodes degree <= 39, 1167 authors 1853 projects remains\n",
      "After deleting nodes degree <= 40, 1133 authors 1808 projects remains\n",
      "After deleting nodes degree <= 41, 1092 authors 1759 projects remains\n",
      "After deleting nodes degree <= 42, 1060 authors 1724 projects remains\n",
      "After deleting nodes degree <= 43, 1005 authors 1656 projects remains\n",
      "After deleting nodes degree <= 44, 875 authors 1453 projects remains\n",
      "After deleting nodes degree <= 45, 856 authors 1423 projects remains\n",
      "After deleting nodes degree <= 46, 818 authors 1374 projects remains\n",
      "After deleting nodes degree <= 47, 787 authors 1335 projects remains\n",
      "After deleting nodes degree <= 48, 692 authors 1181 projects remains\n",
      "After deleting nodes degree <= 49, 680 authors 1157 projects remains\n",
      "After deleting nodes degree <= 50, 659 authors 1127 projects remains\n",
      "After deleting nodes degree <= 51, 626 authors 1075 projects remains\n",
      "After deleting nodes degree <= 52, 529 authors 898 projects remains\n",
      "After deleting nodes degree <= 53, 515 authors 879 projects remains\n",
      "After deleting nodes degree <= 54, 507 authors 864 projects remains\n",
      "After deleting nodes degree <= 55, 492 authors 841 projects remains\n",
      "After deleting nodes degree <= 56, 483 authors 826 projects remains\n",
      "After deleting nodes degree <= 57, 468 authors 806 projects remains\n",
      "After deleting nodes degree <= 58, 459 authors 791 projects remains\n",
      "After deleting nodes degree <= 59, 440 authors 759 projects remains\n",
      "After deleting nodes degree <= 60, 426 authors 739 projects remains\n",
      "After deleting nodes degree <= 61, 405 authors 708 projects remains\n",
      "After deleting nodes degree <= 62, 298 authors 507 projects remains\n",
      "After deleting nodes degree <= 63, 282 authors 484 projects remains\n",
      "After deleting nodes degree <= 64, 269 authors 462 projects remains\n",
      "After deleting nodes degree <= 65, 261 authors 453 projects remains\n",
      "After deleting nodes degree <= 66, 253 authors 445 projects remains\n",
      "After deleting nodes degree <= 67, 249 authors 440 projects remains\n",
      "After deleting nodes degree <= 68, 239 authors 428 projects remains\n",
      "After deleting nodes degree <= 69, 218 authors 395 projects remains\n",
      "After deleting nodes degree <= 70, 209 authors 383 projects remains\n",
      "After deleting nodes degree <= 71, 203 authors 376 projects remains\n",
      "After deleting nodes degree <= 72, 203 authors 376 projects remains\n",
      "After deleting nodes degree <= 73, 191 authors 357 projects remains\n",
      "After deleting nodes degree <= 74, 187 authors 351 projects remains\n",
      "After deleting nodes degree <= 75, 148 authors 281 projects remains\n",
      "After deleting nodes degree <= 76, 1 authors 1 projects remains\n"
     ]
    }
   ],
   "source": [
    "author_remaining = [len(authors)]\n",
    "core = 1\n",
    "while (count_author(bipartite_max_scc)>1):\n",
    "    # For every core n, try to delete nodes with degree k=1,2,...n and check if the node count changes.\n",
    "    # Make sure a clean pass (no node count change) for n times before increasing core to n+1\n",
    "    clean_pass = 0 \n",
    "    k = 1\n",
    "    while (clean_pass <= core):\n",
    "        core_old = count_author(bipartite_max_scc)\n",
    "        InDegV = snap.TIntPrV()\n",
    "        snap.GetNodeInDegV(bipartite_max_scc, InDegV)\n",
    "        for item in InDegV:\n",
    "            if item.GetVal2() == k:\n",
    "                bipartite_max_scc.DelNode(item.GetVal1())\n",
    "        # Update the graph, make sure it refers to the max SCC\n",
    "        bipartite_max_scc = snap.GetMxScc(bipartite_max_scc)\n",
    "        core_update = count_author(bipartite_max_scc)\n",
    "        if core_old != core_update:\n",
    "            clean_pass = 0\n",
    "        else:\n",
    "            clean_pass += 1\n",
    "        # Alter the degree count\n",
    "        if k < core:\n",
    "            k += 1\n",
    "        elif k == core:\n",
    "            k = 1\n",
    "    print \"After deleting nodes degree <= %d, %d authors %d projects remains\" % (core, core_update, bipartite_max_scc.GetNodes())\n",
    "    author_remaining.append(core_update)\n",
    "    core += 1"
   ]
  },
  {
   "cell_type": "code",
   "execution_count": 223,
   "metadata": {},
   "outputs": [
    {
     "data": {
      "image/png": "[encoded data removed]",
      "text/plain": [
       "<Figure size 800x600 with 1 Axes>"
      ]
     },
     "metadata": {
      "needs_background": "light"
     },
     "output_type": "display_data"
    }
   ],
   "source": [
    "plt.figure(dpi=200, figsize=(4,3))\n",
    "author = author_remaining[:76]\n",
    "plt.plot(range(len(author)), author)\n",
    "plt.yscale('log')\n",
    "plt.xlabel('k-Core')\n",
    "plt.ylabel('Author Count after\\n Deleting Nodes Degree <= k')\n",
    "plt.title('Author Count Vs. K-Core');"
   ]
  },
  {
   "cell_type": "code",
   "execution_count": 23,
   "metadata": {},
   "outputs": [],
   "source": [
    "def kcore_reduction(graph, min_core):\n",
    "    author_remaining = [len(authors)]\n",
    "    core = 1\n",
    "    while (core <= min_core):\n",
    "        # For every core n, try to delete nodes with degree k=1,2,...n and check if the node count changes.\n",
    "        # Make sure a clean pass (no node count change) for n times before increasing core to n+1\n",
    "        clean_pass = 0 \n",
    "        k = 1\n",
    "        while (clean_pass <= core):\n",
    "            core_old = count_author(graph)\n",
    "            InDegV = snap.TIntPrV()\n",
    "            snap.GetNodeInDegV(graph, InDegV)\n",
    "            for item in InDegV:\n",
    "                if item.GetVal2() == k:\n",
    "                    graph.DelNode(item.GetVal1())\n",
    "            # Update the graph, make sure it refers to the max SCC\n",
    "            graph = snap.GetMxScc(graph)\n",
    "            core_update = count_author(graph)\n",
    "            if core_old != core_update:\n",
    "                clean_pass = 0\n",
    "            else:\n",
    "                clean_pass += 1\n",
    "            # Alter the degree count\n",
    "            if k < core:\n",
    "                k += 1\n",
    "            elif k == core:\n",
    "                k = 1\n",
    "        print \"After deleting nodes degree <= %d, %d nodes remains\" % (core, core_update)\n",
    "        author_remaining.append(core_update)\n",
    "        core += 1\n",
    "    return graph"
   ]
  },
  {
   "cell_type": "code",
   "execution_count": 24,
   "metadata": {},
   "outputs": [
    {
     "name": "stdout",
     "output_type": "stream",
     "text": [
      "After deleting nodes degree <= 1, 58950 nodes remains\n",
      "After deleting nodes degree <= 2, 39980 nodes remains\n",
      "After deleting nodes degree <= 3, 30605 nodes remains\n",
      "After deleting nodes degree <= 4, 24345 nodes remains\n",
      "After deleting nodes degree <= 5, 20158 nodes remains\n",
      "After deleting nodes degree <= 6, 16995 nodes remains\n",
      "After deleting nodes degree <= 7, 14401 nodes remains\n",
      "After deleting nodes degree <= 8, 12626 nodes remains\n",
      "After deleting nodes degree <= 9, 11192 nodes remains\n",
      "After deleting nodes degree <= 10, 10167 nodes remains\n",
      "After deleting nodes degree <= 11, 8837 nodes remains\n",
      "After deleting nodes degree <= 12, 8024 nodes remains\n",
      "After deleting nodes degree <= 13, 7442 nodes remains\n",
      "After deleting nodes degree <= 14, 6746 nodes remains\n",
      "After deleting nodes degree <= 15, 6105 nodes remains\n",
      "After deleting nodes degree <= 16, 5755 nodes remains\n",
      "After deleting nodes degree <= 17, 5317 nodes remains\n",
      "After deleting nodes degree <= 18, 4996 nodes remains\n",
      "After deleting nodes degree <= 19, 4674 nodes remains\n",
      "After deleting nodes degree <= 20, 4249 nodes remains\n",
      "After deleting nodes degree <= 21, 3806 nodes remains\n",
      "After deleting nodes degree <= 22, 3584 nodes remains\n",
      "After deleting nodes degree <= 23, 3459 nodes remains\n",
      "After deleting nodes degree <= 24, 3311 nodes remains\n",
      "After deleting nodes degree <= 25, 3053 nodes remains\n"
     ]
    }
   ],
   "source": [
    "bipartite_max_scc = snap.GetMxScc(bipartite)\n",
    "small_graph = kcore_reduction(bipartite_max_scc, 25)"
   ]
  },
  {
   "cell_type": "markdown",
   "metadata": {},
   "source": [
    "## Create Bi-partite graph with the reduced set of nodes"
   ]
  },
  {
   "cell_type": "code",
   "execution_count": 25,
   "metadata": {},
   "outputs": [],
   "source": [
    "author_set = set()\n",
    "project_set = set()\n",
    "for node in small_graph.Nodes():\n",
    "    node_id = node.GetId()\n",
    "    if node_id < 0:\n",
    "        project_set.add(node_id)\n",
    "    else:\n",
    "        author_set.add(node_id)"
   ]
  },
  {
   "cell_type": "code",
   "execution_count": 26,
   "metadata": {},
   "outputs": [
    {
     "data": {
      "text/plain": [
       "2162"
      ]
     },
     "execution_count": 26,
     "metadata": {},
     "output_type": "execute_result"
    }
   ],
   "source": [
    "len(project_set)"
   ]
  },
  {
   "cell_type": "code",
   "execution_count": 13,
   "metadata": {},
   "outputs": [
    {
     "data": {
      "text/plain": [
       "(5215, 175673)"
      ]
     },
     "execution_count": 13,
     "metadata": {},
     "output_type": "execute_result"
    }
   ],
   "source": [
    "kcore_bi = snap.TUNGraph.New()\n",
    "for author in author_set:\n",
    "    kcore_bi.AddNode(author)\n",
    "for project in project_set:\n",
    "    kcore_bi.AddNode(project)\n",
    "for _, row in project_authors.iterrows():\n",
    "    if (-row['project_id'] in project_set) and (row['author_id'] in author_set):\n",
    "        kcore_bi.AddEdge(-row['project_id'], row['author_id'])\n",
    "kcore_bi.GetNodes(), kcore_bi.GetEdges()"
   ]
  },
  {
   "cell_type": "code",
   "execution_count": 14,
   "metadata": {},
   "outputs": [
    {
     "data": {
      "text/plain": [
       "(3053, 2162)"
      ]
     },
     "execution_count": 14,
     "metadata": {},
     "output_type": "execute_result"
    }
   ],
   "source": [
    "authors = [node for node in kcore_bi.Nodes() if node.GetId()>=0]\n",
    "len(authors), kcore_bi.GetNodes()-len(authors)"
   ]
  },
  {
   "cell_type": "code",
   "execution_count": 15,
   "metadata": {},
   "outputs": [
    {
     "data": {
      "image/png": "[encoded data removed]",
      "text/plain": [
       "<Figure size 432x288 with 1 Axes>"
      ]
     },
     "metadata": {
      "needs_background": "light"
     },
     "output_type": "display_data"
    }
   ],
   "source": [
    "author_deg = np.array([node.GetDeg() for node in kcore_bi.Nodes() if node.GetId()>=0])\n",
    "X = np.unique(author_deg)\n",
    "Y = [float((author_deg == i).sum())/len(author_deg) for i in X]\n",
    "plt.loglog(X, Y)\n",
    "plt.title('Reduced Max SCC Author Degree Distribution');"
   ]
  },
  {
   "cell_type": "code",
   "execution_count": 16,
   "metadata": {},
   "outputs": [
    {
     "data": {
      "image/png": "[encoded data removed]",
      "text/plain": [
       "<Figure size 432x288 with 1 Axes>"
      ]
     },
     "metadata": {
      "needs_background": "light"
     },
     "output_type": "display_data"
    }
   ],
   "source": [
    "project_deg = np.array([node.GetDeg() for node in kcore_bi.Nodes() if node.GetId()<0])\n",
    "X = np.unique(project_deg)\n",
    "Y = [float((project_deg == i).sum())/len(project_deg) for i in X]\n",
    "plt.loglog(X, Y)\n",
    "plt.title('Reduced Max SCC Project Degree Distribution');"
   ]
  },
  {
   "cell_type": "code",
   "execution_count": 17,
   "metadata": {},
   "outputs": [
    {
     "data": {
      "text/plain": [
       "0"
      ]
     },
     "execution_count": 17,
     "metadata": {},
     "output_type": "execute_result"
    }
   ],
   "source": [
    "#The number of edge bridges in the max connected component\n",
    "#An edge is a bridge if, when removed, increases the number of connected components.\n",
    "EdgeV = snap.TIntPrV()\n",
    "snap.GetEdgeBridges(kcore_bi, EdgeV)\n",
    "len(EdgeV)"
   ]
  },
  {
   "cell_type": "code",
   "execution_count": 18,
   "metadata": {},
   "outputs": [
    {
     "name": "stdout",
     "output_type": "stream",
     "text": [
      "11\n"
     ]
    }
   ],
   "source": [
    "# Approximate diameter of the max connected component\n",
    "diam = snap.GetBfsFullDiam(kcore_bi, 100, False)\n",
    "print diam"
   ]
  },
  {
   "cell_type": "code",
   "execution_count": 32,
   "metadata": {},
   "outputs": [
    {
     "data": {
      "text/plain": [
       "2162"
      ]
     },
     "execution_count": 32,
     "metadata": {},
     "output_type": "execute_result"
    }
   ],
   "source": [
    "len(project_set)"
   ]
  },
  {
   "cell_type": "code",
   "execution_count": 39,
   "metadata": {},
   "outputs": [
    {
     "data": {
      "text/plain": [
       "(175673, 3)"
      ]
     },
     "execution_count": 39,
     "metadata": {},
     "output_type": "execute_result"
    }
   ],
   "source": [
    "p1d_kcore = p1d.loc[(-p1d['project_id']).isin(project_set) & p1d['author_id'].isin(author_set)]\n",
    "p1d_kcore.shape"
   ]
  },
  {
   "cell_type": "code",
   "execution_count": 30,
   "metadata": {},
   "outputs": [
    {
     "name": "stdout",
     "output_type": "stream",
     "text": [
      "(1081257, 3)\n",
      "(228496, 3)\n"
     ]
    }
   ],
   "source": [
    "print project_authors.shape\n",
    "p1d = project_authors\n",
    "p1d_kcore = p1d.loc[-p1d['project_id'].isin(project_set) & p1d['author_id'].isin(author_set)]\n",
    "print p1d_kcore.shape"
   ]
  },
  {
   "cell_type": "code",
   "execution_count": 40,
   "metadata": {},
   "outputs": [
    {
     "data": {
      "text/plain": [
       "2162"
      ]
     },
     "execution_count": 40,
     "metadata": {},
     "output_type": "execute_result"
    }
   ],
   "source": [
    "len(p1d_kcore['project_id'].unique())"
   ]
  },
  {
   "cell_type": "code",
   "execution_count": 41,
   "metadata": {},
   "outputs": [],
   "source": [
    "with open('./data/project_authors_2016_q1_k25core.pickle', 'wb') as picklefile:\n",
    "    pickle.dump(p1d_kcore, picklefile, protocol=2)"
   ]
  },
  {
   "cell_type": "markdown",
   "metadata": {},
   "source": [
    "### Build bi-partite graph with the reduced kcore Q1 nodes for Q2 data"
   ]
  },
  {
   "cell_type": "code",
   "execution_count": 5,
   "metadata": {},
   "outputs": [],
   "source": [
    "with open('./data/project_authors_2016_q2.pickle', 'rb') as picklefile:\n",
    "    project_authors_q2 = pickle.load(picklefile)"
   ]
  },
  {
   "cell_type": "code",
   "execution_count": 43,
   "metadata": {},
   "outputs": [
    {
     "data": {
      "text/html": [
       "<div>\n",
       "<style scoped>\n",
       "    .dataframe tbody tr th:only-of-type {\n",
       "        vertical-align: middle;\n",
       "    }\n",
       "\n",
       "    .dataframe tbody tr th {\n",
       "        vertical-align: top;\n",
       "    }\n",
       "\n",
       "    .dataframe thead th {\n",
       "        text-align: right;\n",
       "    }\n",
       "</style>\n",
       "<table border=\"1\" class=\"dataframe\">\n",
       "  <thead>\n",
       "    <tr style=\"text-align: right;\">\n",
       "      <th></th>\n",
       "      <th>project_id</th>\n",
       "      <th>author_id</th>\n",
       "      <th>commit_times</th>\n",
       "    </tr>\n",
       "  </thead>\n",
       "  <tbody>\n",
       "    <tr>\n",
       "      <th>0</th>\n",
       "      <td>39158815</td>\n",
       "      <td>14745600</td>\n",
       "      <td>44</td>\n",
       "    </tr>\n",
       "    <tr>\n",
       "      <th>1</th>\n",
       "      <td>19983855</td>\n",
       "      <td>256</td>\n",
       "      <td>1</td>\n",
       "    </tr>\n",
       "    <tr>\n",
       "      <th>2</th>\n",
       "      <td>29978805</td>\n",
       "      <td>256</td>\n",
       "      <td>1</td>\n",
       "    </tr>\n",
       "    <tr>\n",
       "      <th>3</th>\n",
       "      <td>30318240</td>\n",
       "      <td>256</td>\n",
       "      <td>1</td>\n",
       "    </tr>\n",
       "    <tr>\n",
       "      <th>4</th>\n",
       "      <td>35343363</td>\n",
       "      <td>256</td>\n",
       "      <td>1</td>\n",
       "    </tr>\n",
       "    <tr>\n",
       "      <th>5</th>\n",
       "      <td>2431383</td>\n",
       "      <td>256</td>\n",
       "      <td>1</td>\n",
       "    </tr>\n",
       "    <tr>\n",
       "      <th>6</th>\n",
       "      <td>36719660</td>\n",
       "      <td>256</td>\n",
       "      <td>2</td>\n",
       "    </tr>\n",
       "    <tr>\n",
       "      <th>7</th>\n",
       "      <td>28057100</td>\n",
       "      <td>256</td>\n",
       "      <td>2</td>\n",
       "    </tr>\n",
       "    <tr>\n",
       "      <th>8</th>\n",
       "      <td>28207129</td>\n",
       "      <td>256</td>\n",
       "      <td>2</td>\n",
       "    </tr>\n",
       "    <tr>\n",
       "      <th>9</th>\n",
       "      <td>35343546</td>\n",
       "      <td>256</td>\n",
       "      <td>2</td>\n",
       "    </tr>\n",
       "    <tr>\n",
       "      <th>10</th>\n",
       "      <td>36744049</td>\n",
       "      <td>256</td>\n",
       "      <td>2</td>\n",
       "    </tr>\n",
       "    <tr>\n",
       "      <th>11</th>\n",
       "      <td>30174285</td>\n",
       "      <td>256</td>\n",
       "      <td>3</td>\n",
       "    </tr>\n",
       "    <tr>\n",
       "      <th>12</th>\n",
       "      <td>48648092</td>\n",
       "      <td>256</td>\n",
       "      <td>3</td>\n",
       "    </tr>\n",
       "    <tr>\n",
       "      <th>13</th>\n",
       "      <td>13335673</td>\n",
       "      <td>256</td>\n",
       "      <td>3</td>\n",
       "    </tr>\n",
       "    <tr>\n",
       "      <th>14</th>\n",
       "      <td>71</td>\n",
       "      <td>256</td>\n",
       "      <td>3</td>\n",
       "    </tr>\n",
       "    <tr>\n",
       "      <th>15</th>\n",
       "      <td>49475882</td>\n",
       "      <td>256</td>\n",
       "      <td>3</td>\n",
       "    </tr>\n",
       "    <tr>\n",
       "      <th>16</th>\n",
       "      <td>50923574</td>\n",
       "      <td>256</td>\n",
       "      <td>3</td>\n",
       "    </tr>\n",
       "    <tr>\n",
       "      <th>17</th>\n",
       "      <td>43701153</td>\n",
       "      <td>256</td>\n",
       "      <td>3</td>\n",
       "    </tr>\n",
       "    <tr>\n",
       "      <th>18</th>\n",
       "      <td>43029220</td>\n",
       "      <td>256</td>\n",
       "      <td>3</td>\n",
       "    </tr>\n",
       "    <tr>\n",
       "      <th>19</th>\n",
       "      <td>39871705</td>\n",
       "      <td>256</td>\n",
       "      <td>3</td>\n",
       "    </tr>\n",
       "    <tr>\n",
       "      <th>20</th>\n",
       "      <td>1409639</td>\n",
       "      <td>256</td>\n",
       "      <td>3</td>\n",
       "    </tr>\n",
       "    <tr>\n",
       "      <th>21</th>\n",
       "      <td>40974673</td>\n",
       "      <td>256</td>\n",
       "      <td>3</td>\n",
       "    </tr>\n",
       "    <tr>\n",
       "      <th>22</th>\n",
       "      <td>254337</td>\n",
       "      <td>256</td>\n",
       "      <td>3</td>\n",
       "    </tr>\n",
       "    <tr>\n",
       "      <th>23</th>\n",
       "      <td>31510564</td>\n",
       "      <td>256</td>\n",
       "      <td>3</td>\n",
       "    </tr>\n",
       "    <tr>\n",
       "      <th>24</th>\n",
       "      <td>34092751</td>\n",
       "      <td>256</td>\n",
       "      <td>3</td>\n",
       "    </tr>\n",
       "    <tr>\n",
       "      <th>25</th>\n",
       "      <td>17693914</td>\n",
       "      <td>256</td>\n",
       "      <td>4</td>\n",
       "    </tr>\n",
       "    <tr>\n",
       "      <th>26</th>\n",
       "      <td>18763545</td>\n",
       "      <td>256</td>\n",
       "      <td>4</td>\n",
       "    </tr>\n",
       "    <tr>\n",
       "      <th>27</th>\n",
       "      <td>19572126</td>\n",
       "      <td>256</td>\n",
       "      <td>4</td>\n",
       "    </tr>\n",
       "    <tr>\n",
       "      <th>28</th>\n",
       "      <td>31579088</td>\n",
       "      <td>256</td>\n",
       "      <td>6</td>\n",
       "    </tr>\n",
       "    <tr>\n",
       "      <th>29</th>\n",
       "      <td>28207152</td>\n",
       "      <td>256</td>\n",
       "      <td>6</td>\n",
       "    </tr>\n",
       "    <tr>\n",
       "      <th>...</th>\n",
       "      <td>...</td>\n",
       "      <td>...</td>\n",
       "      <td>...</td>\n",
       "    </tr>\n",
       "    <tr>\n",
       "      <th>827163</th>\n",
       "      <td>738594</td>\n",
       "      <td>4259327</td>\n",
       "      <td>1</td>\n",
       "    </tr>\n",
       "    <tr>\n",
       "      <th>827164</th>\n",
       "      <td>22099361</td>\n",
       "      <td>4259327</td>\n",
       "      <td>1</td>\n",
       "    </tr>\n",
       "    <tr>\n",
       "      <th>827165</th>\n",
       "      <td>27329</td>\n",
       "      <td>4259327</td>\n",
       "      <td>1</td>\n",
       "    </tr>\n",
       "    <tr>\n",
       "      <th>827166</th>\n",
       "      <td>15991410</td>\n",
       "      <td>4259327</td>\n",
       "      <td>1</td>\n",
       "    </tr>\n",
       "    <tr>\n",
       "      <th>827167</th>\n",
       "      <td>3890769</td>\n",
       "      <td>4259327</td>\n",
       "      <td>1</td>\n",
       "    </tr>\n",
       "    <tr>\n",
       "      <th>827168</th>\n",
       "      <td>29633482</td>\n",
       "      <td>4259327</td>\n",
       "      <td>1</td>\n",
       "    </tr>\n",
       "    <tr>\n",
       "      <th>827169</th>\n",
       "      <td>28130524</td>\n",
       "      <td>4259327</td>\n",
       "      <td>1</td>\n",
       "    </tr>\n",
       "    <tr>\n",
       "      <th>827170</th>\n",
       "      <td>13495171</td>\n",
       "      <td>4259327</td>\n",
       "      <td>1</td>\n",
       "    </tr>\n",
       "    <tr>\n",
       "      <th>827171</th>\n",
       "      <td>13724859</td>\n",
       "      <td>4259327</td>\n",
       "      <td>1</td>\n",
       "    </tr>\n",
       "    <tr>\n",
       "      <th>827172</th>\n",
       "      <td>3377808</td>\n",
       "      <td>4259327</td>\n",
       "      <td>1</td>\n",
       "    </tr>\n",
       "    <tr>\n",
       "      <th>827173</th>\n",
       "      <td>31433847</td>\n",
       "      <td>4259327</td>\n",
       "      <td>1</td>\n",
       "    </tr>\n",
       "    <tr>\n",
       "      <th>827174</th>\n",
       "      <td>3940964</td>\n",
       "      <td>4259327</td>\n",
       "      <td>1</td>\n",
       "    </tr>\n",
       "    <tr>\n",
       "      <th>827175</th>\n",
       "      <td>22102904</td>\n",
       "      <td>4259327</td>\n",
       "      <td>1</td>\n",
       "    </tr>\n",
       "    <tr>\n",
       "      <th>827176</th>\n",
       "      <td>48221964</td>\n",
       "      <td>4259327</td>\n",
       "      <td>1</td>\n",
       "    </tr>\n",
       "    <tr>\n",
       "      <th>827177</th>\n",
       "      <td>13437723</td>\n",
       "      <td>4259327</td>\n",
       "      <td>2</td>\n",
       "    </tr>\n",
       "    <tr>\n",
       "      <th>827178</th>\n",
       "      <td>1966325</td>\n",
       "      <td>4259327</td>\n",
       "      <td>2</td>\n",
       "    </tr>\n",
       "    <tr>\n",
       "      <th>827179</th>\n",
       "      <td>264474</td>\n",
       "      <td>4259327</td>\n",
       "      <td>3</td>\n",
       "    </tr>\n",
       "    <tr>\n",
       "      <th>827180</th>\n",
       "      <td>8127</td>\n",
       "      <td>4259327</td>\n",
       "      <td>3</td>\n",
       "    </tr>\n",
       "    <tr>\n",
       "      <th>827181</th>\n",
       "      <td>21853571</td>\n",
       "      <td>13368831</td>\n",
       "      <td>6</td>\n",
       "    </tr>\n",
       "    <tr>\n",
       "      <th>827182</th>\n",
       "      <td>55163571</td>\n",
       "      <td>261887</td>\n",
       "      <td>1</td>\n",
       "    </tr>\n",
       "    <tr>\n",
       "      <th>827183</th>\n",
       "      <td>6663122</td>\n",
       "      <td>720639</td>\n",
       "      <td>20</td>\n",
       "    </tr>\n",
       "    <tr>\n",
       "      <th>827184</th>\n",
       "      <td>15170478</td>\n",
       "      <td>2817791</td>\n",
       "      <td>1</td>\n",
       "    </tr>\n",
       "    <tr>\n",
       "      <th>827185</th>\n",
       "      <td>7594721</td>\n",
       "      <td>3276543</td>\n",
       "      <td>4</td>\n",
       "    </tr>\n",
       "    <tr>\n",
       "      <th>827186</th>\n",
       "      <td>36766423</td>\n",
       "      <td>13238015</td>\n",
       "      <td>3</td>\n",
       "    </tr>\n",
       "    <tr>\n",
       "      <th>827187</th>\n",
       "      <td>37143816</td>\n",
       "      <td>13303551</td>\n",
       "      <td>1</td>\n",
       "    </tr>\n",
       "    <tr>\n",
       "      <th>827188</th>\n",
       "      <td>18445760</td>\n",
       "      <td>589823</td>\n",
       "      <td>3</td>\n",
       "    </tr>\n",
       "    <tr>\n",
       "      <th>827189</th>\n",
       "      <td>18450071</td>\n",
       "      <td>589823</td>\n",
       "      <td>6</td>\n",
       "    </tr>\n",
       "    <tr>\n",
       "      <th>827190</th>\n",
       "      <td>38831289</td>\n",
       "      <td>4128767</td>\n",
       "      <td>7</td>\n",
       "    </tr>\n",
       "    <tr>\n",
       "      <th>827191</th>\n",
       "      <td>34835115</td>\n",
       "      <td>12451839</td>\n",
       "      <td>35</td>\n",
       "    </tr>\n",
       "    <tr>\n",
       "      <th>827192</th>\n",
       "      <td>39158815</td>\n",
       "      <td>14745599</td>\n",
       "      <td>9</td>\n",
       "    </tr>\n",
       "  </tbody>\n",
       "</table>\n",
       "<p>827193 rows × 3 columns</p>\n",
       "</div>"
      ],
      "text/plain": [
       "        project_id  author_id  commit_times\n",
       "0         39158815   14745600            44\n",
       "1         19983855        256             1\n",
       "2         29978805        256             1\n",
       "3         30318240        256             1\n",
       "4         35343363        256             1\n",
       "5          2431383        256             1\n",
       "6         36719660        256             2\n",
       "7         28057100        256             2\n",
       "8         28207129        256             2\n",
       "9         35343546        256             2\n",
       "10        36744049        256             2\n",
       "11        30174285        256             3\n",
       "12        48648092        256             3\n",
       "13        13335673        256             3\n",
       "14              71        256             3\n",
       "15        49475882        256             3\n",
       "16        50923574        256             3\n",
       "17        43701153        256             3\n",
       "18        43029220        256             3\n",
       "19        39871705        256             3\n",
       "20         1409639        256             3\n",
       "21        40974673        256             3\n",
       "22          254337        256             3\n",
       "23        31510564        256             3\n",
       "24        34092751        256             3\n",
       "25        17693914        256             4\n",
       "26        18763545        256             4\n",
       "27        19572126        256             4\n",
       "28        31579088        256             6\n",
       "29        28207152        256             6\n",
       "...            ...        ...           ...\n",
       "827163      738594    4259327             1\n",
       "827164    22099361    4259327             1\n",
       "827165       27329    4259327             1\n",
       "827166    15991410    4259327             1\n",
       "827167     3890769    4259327             1\n",
       "827168    29633482    4259327             1\n",
       "827169    28130524    4259327             1\n",
       "827170    13495171    4259327             1\n",
       "827171    13724859    4259327             1\n",
       "827172     3377808    4259327             1\n",
       "827173    31433847    4259327             1\n",
       "827174     3940964    4259327             1\n",
       "827175    22102904    4259327             1\n",
       "827176    48221964    4259327             1\n",
       "827177    13437723    4259327             2\n",
       "827178     1966325    4259327             2\n",
       "827179      264474    4259327             3\n",
       "827180        8127    4259327             3\n",
       "827181    21853571   13368831             6\n",
       "827182    55163571     261887             1\n",
       "827183     6663122     720639            20\n",
       "827184    15170478    2817791             1\n",
       "827185     7594721    3276543             4\n",
       "827186    36766423   13238015             3\n",
       "827187    37143816   13303551             1\n",
       "827188    18445760     589823             3\n",
       "827189    18450071     589823             6\n",
       "827190    38831289    4128767             7\n",
       "827191    34835115   12451839            35\n",
       "827192    39158815   14745599             9\n",
       "\n",
       "[827193 rows x 3 columns]"
      ]
     },
     "execution_count": 43,
     "metadata": {},
     "output_type": "execute_result"
    }
   ],
   "source": [
    "project_authors_q2"
   ]
  },
  {
   "cell_type": "code",
   "execution_count": 44,
   "metadata": {},
   "outputs": [],
   "source": [
    "project_set_q2 = set([-x for x in project_authors_q2.project_id.unique()]).intersection(project_set)\n",
    "author_set_q2 = set(project_authors_q2.author_id.unique()).intersection(author_set)"
   ]
  },
  {
   "cell_type": "code",
   "execution_count": 46,
   "metadata": {},
   "outputs": [
    {
     "data": {
      "text/plain": [
       "array([39158815, 19983855, 29978805, ..., 37143816, 18445760, 18450071])"
      ]
     },
     "execution_count": 46,
     "metadata": {},
     "output_type": "execute_result"
    }
   ],
   "source": [
    "project_authors_q2.project_id.unique()"
   ]
  },
  {
   "cell_type": "code",
   "execution_count": 47,
   "metadata": {},
   "outputs": [
    {
     "data": {
      "text/plain": [
       "2326"
      ]
     },
     "execution_count": 47,
     "metadata": {},
     "output_type": "execute_result"
    }
   ],
   "source": [
    "len(author_set_q2)"
   ]
  },
  {
   "cell_type": "code",
   "execution_count": 48,
   "metadata": {},
   "outputs": [
    {
     "data": {
      "text/plain": [
       "(4319, 84111)"
      ]
     },
     "execution_count": 48,
     "metadata": {},
     "output_type": "execute_result"
    }
   ],
   "source": [
    "kcore_bi_q2 = snap.TUNGraph.New()\n",
    "for author in author_set_q2:\n",
    "    kcore_bi_q2.AddNode(author)\n",
    "for project in project_set_q2:\n",
    "    kcore_bi_q2.AddNode(project)\n",
    "for _, row in project_authors_q2.iterrows():\n",
    "    if (-row['project_id'] in project_set_q2) and (row['author_id'] in author_set_q2):\n",
    "        kcore_bi_q2.AddEdge(-row['project_id'], row['author_id'])\n",
    "kcore_bi_q2.GetNodes(), kcore_bi_q2.GetEdges()"
   ]
  },
  {
   "cell_type": "code",
   "execution_count": 49,
   "metadata": {},
   "outputs": [
    {
     "name": "stdout",
     "output_type": "stream",
     "text": [
      "(827193, 3)\n",
      "(84111, 3)\n"
     ]
    }
   ],
   "source": [
    "print project_authors_q2.shape\n",
    "p2d = project_authors_q2\n",
    "p2d_kcore = p2d.loc[(-p2d['project_id']).isin(project_set) & p2d['author_id'].isin(author_set)]\n",
    "print p2d_kcore.shape"
   ]
  },
  {
   "cell_type": "code",
   "execution_count": 50,
   "metadata": {},
   "outputs": [],
   "source": [
    "with open('./data/project_authors_2016_q2_k25core.pickle', 'wb') as picklefile:\n",
    "    pickle.dump(p2d_kcore, picklefile, protocol=2)"
   ]
  },
  {
   "cell_type": "code",
   "execution_count": null,
   "metadata": {},
   "outputs": [],
   "source": []
  }
 ],
 "metadata": {
  "kernelspec": {
   "display_name": "Python 2",
   "language": "python",
   "name": "python2"
  },
  "language_info": {
   "codemirror_mode": {
    "name": "ipython",
    "version": 2
   },
   "file_extension": ".py",
   "mimetype": "text/x-python",
   "name": "python",
   "nbconvert_exporter": "python",
   "pygments_lexer": "ipython2",
   "version": "2.7.15"
  }
 },
 "nbformat": 4,
 "nbformat_minor": 2
}
