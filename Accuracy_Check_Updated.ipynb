{
 "cells": [
  {
   "cell_type": "code",
   "execution_count": 1,
   "metadata": {
    "collapsed": true
   },
   "outputs": [],
   "source": [
    "import pickle\n",
    "import random"
   ]
  },
  {
   "cell_type": "markdown",
   "metadata": {},
   "source": [
    "## Load the ground truths data (Edge statistics)\n",
    "Note the edge weights are symmetric"
   ]
  },
  {
   "cell_type": "code",
   "execution_count": 2,
   "metadata": {
    "collapsed": true
   },
   "outputs": [],
   "source": [
    "with open('./data/2016_q1_newman-weights_kcore.pickle', 'rb') as picklefile:\n",
    "    q1 = pickle.load(picklefile, encoding='latin1')"
   ]
  },
  {
   "cell_type": "code",
   "execution_count": 3,
   "metadata": {
    "collapsed": true
   },
   "outputs": [],
   "source": [
    "with open('./data/2016_q2_newman-weights_kcore.pickle','rb') as picklefile:\n",
    "    q2 = pickle.load(picklefile, encoding='latin1')"
   ]
  },
  {
   "cell_type": "markdown",
   "metadata": {},
   "source": [
    "## Load the scores"
   ]
  },
  {
   "cell_type": "code",
   "execution_count": 23,
   "metadata": {
    "collapsed": true
   },
   "outputs": [],
   "source": [
    "with open('./data/newman_cn_kcore.pickle', 'rb') as picklefile:\n",
    "    q1_cn = pickle.load(picklefile, encoding='latin1')"
   ]
  },
  {
   "cell_type": "code",
   "execution_count": 24,
   "metadata": {
    "collapsed": true
   },
   "outputs": [],
   "source": [
    "with open('./data/newman_adam_kcore.pickle', 'rb') as picklefile:\n",
    "    q1_aa = pickle.load(picklefile, encoding='latin1')"
   ]
  },
  {
   "cell_type": "code",
   "execution_count": 25,
   "metadata": {
    "collapsed": true
   },
   "outputs": [],
   "source": [
    "with open('./data/newman_jaccard_kcore.pickle', 'rb') as picklefile:\n",
    "    q1_jc = pickle.load(picklefile, encoding='latin1')"
   ]
  },
  {
   "cell_type": "code",
   "execution_count": 6,
   "metadata": {
    "collapsed": true
   },
   "outputs": [],
   "source": [
    "with open('./data/newman_pa_kcore.pickle', 'rb') as picklefile:\n",
    "    q1_pa = pickle.load(picklefile, encoding='latin1')"
   ]
  },
  {
   "cell_type": "code",
   "execution_count": 102,
   "metadata": {
    "collapsed": true
   },
   "outputs": [],
   "source": [
    "with open('./data/CII_adam.pickle', 'rb') as picklefile:\n",
    "    cii_adam = pickle.load(picklefile, encoding='latin1')"
   ]
  },
  {
   "cell_type": "code",
   "execution_count": 122,
   "metadata": {
    "collapsed": true
   },
   "outputs": [],
   "source": [
    "with open('./data/CII_pa.pickle', 'rb') as picklefile:\n",
    "    cii_pa = pickle.load(picklefile, encoding='latin1')"
   ]
  },
  {
   "cell_type": "code",
   "execution_count": 123,
   "metadata": {
    "collapsed": true
   },
   "outputs": [],
   "source": [
    "with open('./data/CII_cn.pickle', 'rb') as picklefile:\n",
    "    cii_cn = pickle.load(picklefile, encoding='latin1')"
   ]
  },
  {
   "cell_type": "code",
   "execution_count": 124,
   "metadata": {
    "collapsed": true
   },
   "outputs": [],
   "source": [
    "with open('./data/CII_jaccard.pickle', 'rb') as picklefile:\n",
    "    cii_jaccard = pickle.load(picklefile, encoding='latin1')"
   ]
  },
  {
   "cell_type": "markdown",
   "metadata": {},
   "source": [
    "## Gauge the accuracies"
   ]
  },
  {
   "cell_type": "code",
   "execution_count": 9,
   "metadata": {},
   "outputs": [],
   "source": [
    "def accuracy_helper(q1, q2):\n",
    "    q1_edges = list((u,v) for u,v in q1.keys() if u<v)\n",
    "    q2_edges = list((u,v) for u,v in q2.keys() if u<v)\n",
    "    n = len((set(q2_edges).difference(q1_edges))) # Number of new edges\n",
    "    print (\"Number of edges:\\nQ1:\", len(q1_edges), \"\\nQ2:\", len(q2_edges), '\\nNew Edges:',n)\n",
    "    return q1_edges, q2_edges, n"
   ]
  },
  {
   "cell_type": "code",
   "execution_count": null,
   "metadata": {
    "collapsed": true
   },
   "outputs": [],
   "source": [
    "#random graph:\n",
    "def random_graph_accuracy(pa_score, q1_edges, q2_edges, n):\n",
    "    q1_new = list(set(list(pa_score.keys())).difference(set(list(q1_edges))))\n",
    "    rand_pair = random.sample(q1_new, n)\n",
    "    k = list(set(rand_pair).intersection(q2_edges))\n",
    "    acc_rand = len(k)*1.0 / n\n",
    "    print (\"Random Graph Accuracy:\", acc_rand)\n",
    "    return acc_rand"
   ]
  },
  {
   "cell_type": "code",
   "execution_count": 10,
   "metadata": {
    "collapsed": true
   },
   "outputs": [],
   "source": [
    "#find the ranked list for q2_new\n",
    "def check_accuracy(score, q1_edges, q2_edges, n):\n",
    "    #n = len((set(q2_edges).difference(q1_edges))) # Number of new edges\n",
    "    q1_new = list(set(list(score.keys())).difference(set(list(q1_edges))))\n",
    "    new = {(e[0],e[1]): score[(e[0],e[1])] for e in q1_new}\n",
    "    sorted_pair = sorted(new.items(), key=lambda x: x[1],reverse = True)[:n] #top n pairs\n",
    "    rank = list(set([i[0] for i in sorted_pair]).intersection(q2_edges)) \n",
    "    accuracy = len(rank)*1.0/n\n",
    "    print (accuracy)\n",
    "    return accuracy"
   ]
  },
  {
   "cell_type": "code",
   "execution_count": 11,
   "metadata": {},
   "outputs": [
    {
     "name": "stdout",
     "output_type": "stream",
     "text": [
      "Number of edges:\n",
      "Q1: 529154 \n",
      "Q2: 217525 \n",
      "New Edges: 26971\n"
     ]
    }
   ],
   "source": [
    "q1_edges, q2_edges, n = accuracy_helper(q1, q2)"
   ]
  },
  {
   "cell_type": "code",
   "execution_count": 12,
   "metadata": {},
   "outputs": [
    {
     "name": "stdout",
     "output_type": "stream",
     "text": [
      "Random Graph Accuracy: 0.007415372066293426\n"
     ]
    }
   ],
   "source": [
    "acc_rand = random_graph_accuracy(q1_pa, q1_edges, q2_edges, n)"
   ]
  },
  {
   "cell_type": "code",
   "execution_count": 113,
   "metadata": {},
   "outputs": [
    {
     "name": "stdout",
     "output_type": "stream",
     "text": [
      "0.18423491898706018\n"
     ]
    }
   ],
   "source": [
    "acc_cn = check_accuracy(q1_cn, q1_edges, q2_edges, n)"
   ]
  },
  {
   "cell_type": "code",
   "execution_count": 114,
   "metadata": {},
   "outputs": [
    {
     "name": "stdout",
     "output_type": "stream",
     "text": [
      "0.18842460420451596\n"
     ]
    }
   ],
   "source": [
    "acc_aa = check_accuracy(q1_aa, q1_edges, q2_edges, n)"
   ]
  },
  {
   "cell_type": "code",
   "execution_count": 115,
   "metadata": {},
   "outputs": [
    {
     "name": "stdout",
     "output_type": "stream",
     "text": [
      "0.16884802194950133\n"
     ]
    }
   ],
   "source": [
    "acc_jc = check_accuracy(q1_jc, q1_edges, q2_edges, n)"
   ]
  },
  {
   "cell_type": "code",
   "execution_count": 116,
   "metadata": {},
   "outputs": [
    {
     "name": "stdout",
     "output_type": "stream",
     "text": [
      "0.012754439954024694\n"
     ]
    }
   ],
   "source": [
    "acc_pa = check_accuracy(q1_pa, q1_edges, q2_edges, n)"
   ]
  },
  {
   "cell_type": "code",
   "execution_count": 117,
   "metadata": {},
   "outputs": [
    {
     "name": "stdout",
     "output_type": "stream",
     "text": [
      "0.1854584553779986\n"
     ]
    }
   ],
   "source": [
    "acc_cii_aa = check_accuracy(cii_adam, q1_edges, q2_edges, n)"
   ]
  },
  {
   "cell_type": "code",
   "execution_count": 127,
   "metadata": {},
   "outputs": [
    {
     "name": "stdout",
     "output_type": "stream",
     "text": [
      "0.1851989173556783\n"
     ]
    }
   ],
   "source": [
    "acc_cii_cn = check_accuracy(cii_cn, q1_edges, q2_edges, n)"
   ]
  },
  {
   "cell_type": "code",
   "execution_count": 130,
   "metadata": {},
   "outputs": [
    {
     "name": "stdout",
     "output_type": "stream",
     "text": [
      "0.1783396981943569\n"
     ]
    }
   ],
   "source": [
    "acc_cii_jc = check_accuracy(cii_jaccard, q1_edges, q2_edges, n)"
   ]
  },
  {
   "cell_type": "code",
   "execution_count": 129,
   "metadata": {},
   "outputs": [
    {
     "name": "stdout",
     "output_type": "stream",
     "text": [
      "0.04445515553742909\n"
     ]
    }
   ],
   "source": [
    "acc_cii_pa = check_accuracy(cii_pa, q1_edges, q2_edges, n)"
   ]
  },
  {
   "cell_type": "markdown",
   "metadata": {},
   "source": [
    "## Check the Katz Scores"
   ]
  },
  {
   "cell_type": "code",
   "execution_count": 14,
   "metadata": {},
   "outputs": [],
   "source": [
    "with open('./data/newman_katz_weighted_0_05.pickle', 'rb') as picklefile:\n",
    "    newman_katz_weighted_0_05 = pickle.load(picklefile)"
   ]
  },
  {
   "cell_type": "code",
   "execution_count": 16,
   "metadata": {
    "collapsed": true
   },
   "outputs": [],
   "source": [
    "with open('./data/newman_katz_weighted_0_005.pickle', 'rb') as picklefile:\n",
    "    newman_katz_weighted_0_005 = pickle.load(picklefile)\n",
    "with open('./data/newman_katz_weighted_0_0005.pickle', 'rb') as picklefile:\n",
    "    newman_katz_weighted_0_0005 = pickle.load(picklefile)"
   ]
  },
  {
   "cell_type": "code",
   "execution_count": 18,
   "metadata": {
    "collapsed": true
   },
   "outputs": [],
   "source": [
    "with open('./data/newman_katz_unweighted_0_05.pickle', 'rb') as picklefile:\n",
    "    newman_katz_unweighted_0_05 = pickle.load(picklefile)\n",
    "with open('./data/newman_katz_unweighted_0_005.pickle', 'rb') as picklefile:\n",
    "    newman_katz_unweighted_0_005 = pickle.load(picklefile)\n",
    "with open('./data/newman_katz_unweighted_0_0005.pickle', 'rb') as picklefile:\n",
    "    newman_katz_unweighted_0_0005 = pickle.load(picklefile)"
   ]
  },
  {
   "cell_type": "code",
   "execution_count": 15,
   "metadata": {},
   "outputs": [
    {
     "name": "stdout",
     "output_type": "stream",
     "text": [
      "0.13306885172963553\n"
     ]
    }
   ],
   "source": [
    "acc_newman_katz_weighted_0_05 = check_accuracy(newman_katz_weighted_0_05, q1_edges, q2_edges, n)"
   ]
  },
  {
   "cell_type": "code",
   "execution_count": 17,
   "metadata": {},
   "outputs": [
    {
     "name": "stdout",
     "output_type": "stream",
     "text": [
      "0.1657335656816581\n",
      "0.16892217567016424\n"
     ]
    }
   ],
   "source": [
    "acc_newman_katz_weighted_0_005 = check_accuracy(newman_katz_weighted_0_005, q1_edges, q2_edges, n)\n",
    "acc_newman_katz_weighted_0_0005 = check_accuracy(newman_katz_weighted_0_0005, q1_edges, q2_edges, n)"
   ]
  },
  {
   "cell_type": "code",
   "execution_count": 19,
   "metadata": {},
   "outputs": [
    {
     "name": "stdout",
     "output_type": "stream",
     "text": [
      "0.09232138222535316\n",
      "0.1248748655963813\n",
      "0.17926661970264357\n"
     ]
    }
   ],
   "source": [
    "acc_newman_katz_unweighted_0_05 = check_accuracy(newman_katz_unweighted_0_05, q1_edges, q2_edges, n)\n",
    "acc_newman_katz_unweighted_0_005 = check_accuracy(newman_katz_unweighted_0_005, q1_edges, q2_edges, n)\n",
    "acc_newman_katz_unweighted_0_0005 = check_accuracy(newman_katz_unweighted_0_0005, q1_edges, q2_edges, n)"
   ]
  },
  {
   "cell_type": "code",
   "execution_count": null,
   "metadata": {
    "collapsed": true
   },
   "outputs": [],
   "source": []
  }
 ],
 "metadata": {
  "kernelspec": {
   "display_name": "Python 3",
   "language": "python",
   "name": "python3"
  },
  "language_info": {
   "codemirror_mode": {
    "name": "ipython",
    "version": 3
   },
   "file_extension": ".py",
   "mimetype": "text/x-python",
   "name": "python",
   "nbconvert_exporter": "python",
   "pygments_lexer": "ipython3",
   "version": "3.5.4"
  }
 },
 "nbformat": 4,
 "nbformat_minor": 2
}
