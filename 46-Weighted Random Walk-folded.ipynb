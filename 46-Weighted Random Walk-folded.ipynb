{
 "cells": [
  {
   "cell_type": "code",
   "execution_count": 20,
   "metadata": {},
   "outputs": [],
   "source": [
    "import matplotlib.pyplot as plt\n",
    "import pickle\n",
    "import os\n",
    "from itertools import combinations\n",
    "import numpy as np\n",
    "import collections\n",
    "from IPython.lib import backgroundjobs as bg\n",
    "from tqdm import tqdm_notebook\n",
    "import heapq\n",
    "from gensim.models import Word2Vec\n",
    "import node2vec\n",
    "import networkx as nx\n",
    "from sklearn import metrics\n",
    "from sklearn.linear_model import LogisticRegression"
   ]
  },
  {
   "cell_type": "code",
   "execution_count": 2,
   "metadata": {},
   "outputs": [],
   "source": [
    "with open('./data/2016_q1_cci-neighbours_kcore.pickle', 'rb') as picklefile:\n",
    "    neighbours_q1 = pickle.load(picklefile)"
   ]
  },
  {
   "cell_type": "code",
   "execution_count": 3,
   "metadata": {},
   "outputs": [],
   "source": [
    "with open('./data/2016_q1_cci-weights_kcore.pickle', 'rb') as picklefile:\n",
    "    weights_q1 = pickle.load(picklefile)"
   ]
  },
  {
   "cell_type": "code",
   "execution_count": 4,
   "metadata": {},
   "outputs": [],
   "source": [
    "dimensions=32\n",
    "window=10\n",
    "iterations=10\n",
    "p=1\n",
    "q=1\n",
    "num_walks=25\n",
    "walk_length = 400"
   ]
  },
  {
   "cell_type": "code",
   "execution_count": 5,
   "metadata": {},
   "outputs": [],
   "source": [
    "nx_weighted = nx.Graph()\n",
    "nx_weighted.add_nodes_from(neighbours_q1.keys())\n",
    "for edge in weights_q1:\n",
    "    u, v = edge[0]\n",
    "    nx_weighted.add_edge(u, v, weight=edge[1])"
   ]
  },
  {
   "cell_type": "code",
   "execution_count": 7,
   "metadata": {},
   "outputs": [
    {
     "name": "stdout",
     "output_type": "stream",
     "text": [
      "CPU times: user 34min 12s, sys: 13.7 s, total: 34min 25s\n",
      "Wall time: 34min 29s\n"
     ]
    }
   ],
   "source": [
    "G = node2vec.Graph(nx_weighted, False, p, q)\n",
    "%time G.preprocess_transition_probs()"
   ]
  },
  {
   "cell_type": "code",
   "execution_count": 8,
   "metadata": {},
   "outputs": [
    {
     "name": "stdout",
     "output_type": "stream",
     "text": [
      "Walk iteration:\n",
      "1 / 25\n",
      "2 / 25\n",
      "3 / 25\n",
      "4 / 25\n",
      "5 / 25\n",
      "6 / 25\n",
      "7 / 25\n",
      "8 / 25\n",
      "9 / 25\n",
      "10 / 25\n",
      "11 / 25\n",
      "12 / 25\n",
      "13 / 25\n",
      "14 / 25\n",
      "15 / 25\n",
      "16 / 25\n",
      "17 / 25\n",
      "18 / 25\n",
      "19 / 25\n",
      "20 / 25\n",
      "21 / 25\n",
      "22 / 25\n",
      "23 / 25\n",
      "24 / 25\n",
      "25 / 25\n",
      "CPU times: user 1h 7min 4s, sys: 1min 35s, total: 1h 8min 39s\n",
      "Wall time: 1h 11min 40s\n",
      "CPU times: user 29min 20s, sys: 4.58 s, total: 29min 25s\n",
      "Wall time: 9min 51s\n"
     ]
    }
   ],
   "source": [
    "%time walks = G.simulate_walks(num_walks, walk_length)\n",
    "walks = [map(str, walk) for walk in walks]\n",
    "%time model = Word2Vec(walks, size=dimensions, window=window, min_count=0, sg=1, iter=iterations)"
   ]
  },
  {
   "cell_type": "code",
   "execution_count": 32,
   "metadata": {},
   "outputs": [
    {
     "data": {
      "text/plain": [
       "26971"
      ]
     },
     "execution_count": 32,
     "metadata": {},
     "output_type": "execute_result"
    }
   ],
   "source": [
    "# with open('./data/2016_q1_cci-weights_kcore.pickle', 'rb') as picklefile:\n",
    "#     weights_q1 = pickle.load(picklefile)\n",
    "# with open('./data/2016_q2_cci-weights_kcore.pickle', 'rb') as picklefile:\n",
    "#     weights_q2 = pickle.load(picklefile)\n",
    "edges_q1 = set(edge for edge, weight in weights_q1)\n",
    "edges_q1 = set((u, v) if u < v else (v, u) for u, v in edges_q1)\n",
    "edges_q2 = set(edge for edge, weight in weights_q2)\n",
    "edges_q2 = set((u, v) if u < v else (v, u) for u, v in edges_q2)\n",
    "new_edges=edges_q2.difference(edges_q1)\n",
    "k = len(new_edges)\n",
    "k"
   ]
  },
  {
   "cell_type": "code",
   "execution_count": null,
   "metadata": {
    "scrolled": false
   },
   "outputs": [],
   "source": [
    "authors = project_authors_q1['author_id'].unique()\n",
    "pairs = list(combinations(authors, 2))\n",
    "dist = []\n",
    "for u, v in tqdm_notebook(pairs, mininterval=1):\n",
    "    if u > v:\n",
    "        u, v = v, u\n",
    "    if (u, v) not in edges_q1:\n",
    "        dist.append((model.wv.distance(str(u), str(v)), (u, v)))\n",
    "dist = sorted(dist)\n",
    "topk = set(edge for weight, edge in dist[:k])\n",
    "len(topk.intersection(new_edges)), len(topk.intersection(new_edges))/float(k)"
   ]
  },
  {
   "cell_type": "markdown",
   "metadata": {},
   "source": [
    "100, 25 (2864, 0.11310323039254404)\n",
    "100, 100 (3459, 0.1282488598865448)"
   ]
  },
  {
   "cell_type": "code",
   "execution_count": 19,
   "metadata": {},
   "outputs": [
    {
     "data": {
      "text/plain": [
       "3053"
      ]
     },
     "execution_count": 19,
     "metadata": {},
     "output_type": "execute_result"
    }
   ],
   "source": [
    "len(neighbours_q1.keys())"
   ]
  },
  {
   "cell_type": "code",
   "execution_count": 10,
   "metadata": {},
   "outputs": [
    {
     "data": {
      "application/vnd.jupyter.widget-view+json": {
       "model_id": "47459e4b9fa749c28a2d4c54b9cc6150",
       "version_major": 2,
       "version_minor": 0
      },
      "text/plain": [
       "HBox(children=(IntProgress(value=0, max=4658878), HTML(value=u'')))"
      ]
     },
     "metadata": {},
     "output_type": "display_data"
    },
    {
     "name": "stderr",
     "output_type": "stream",
     "text": [
      "/Users/yilingc/Courses/CS224w/project/GithubNetworkAnalysis/snap-2.7/env2.7/lib/python2.7/site-packages/gensim/matutils.py:737: FutureWarning: Conversion of the second argument of issubdtype from `int` to `np.signedinteger` is deprecated. In future, it will be treated as `np.int64 == np.dtype(int).type`.\n",
      "  if np.issubdtype(vec.dtype, np.int):\n"
     ]
    },
    {
     "name": "stdout",
     "output_type": "stream",
     "text": [
      "\n"
     ]
    },
    {
     "data": {
      "text/plain": [
       "(3522, 0.13058470208742723)"
      ]
     },
     "execution_count": 10,
     "metadata": {},
     "output_type": "execute_result"
    }
   ],
   "source": [
    "authors = neighbours_q1.keys()\n",
    "pairs = list(combinations(authors, 2))\n",
    "dist = []\n",
    "for u, v in tqdm_notebook(pairs, mininterval=1):\n",
    "    if u > v:\n",
    "        u, v = v, u\n",
    "    if (u, v) not in edges_q1:\n",
    "        dist.append((model.wv.distance(str(u), str(v)), (u, v)))\n",
    "dist = sorted(dist)\n",
    "topk = set(edge for weight, edge in dist[:k])\n",
    "len(topk.intersection(new_edges)), len(topk.intersection(new_edges))/float(k)"
   ]
  },
  {
   "cell_type": "code",
   "execution_count": null,
   "metadata": {},
   "outputs": [],
   "source": [
    "len(project_authors_q1['author_id'].unique())"
   ]
  },
  {
   "cell_type": "code",
   "execution_count": null,
   "metadata": {},
   "outputs": [],
   "source": [
    "pairs = list(combinations(authors, 2))\n",
    "alldist = {}\n",
    "for u, v in tqdm_notebook(pairs, mininterval=1):\n",
    "    if u > v:\n",
    "        u, v = v, u\n",
    "    alldist[(u, v)] = model.wv.distance(str(u), str(v))\n",
    "with open('./data/node2vec-weighted-p10-q01-100-100.pickle', 'wb') as picklefile:\n",
    "    pickle.dump(alldist, picklefile)"
   ]
  },
  {
   "cell_type": "code",
   "execution_count": 33,
   "metadata": {},
   "outputs": [
    {
     "data": {
      "text/plain": [
       "(0.9434675141568222, 0.35512693643116466)"
      ]
     },
     "execution_count": 33,
     "metadata": {},
     "output_type": "execute_result"
    }
   ],
   "source": [
    "authors = neighbours_q1.keys()\n",
    "pairs = [(u, v) if u < v else (v, u) for u, v in combinations(authors, 2)]\n",
    "truth = [edge in edges_q2 for edge in pairs]\n",
    "scores = [model.wv.similarity(str(u), str(v)) for u, v in pairs]\n",
    "fpr, tpr, thres = metrics.roc_curve(truth,scores)\n",
    "metrics.auc(fpr,tpr), metrics.average_precision_score(truth,scores)"
   ]
  },
  {
   "cell_type": "code",
   "execution_count": 38,
   "metadata": {},
   "outputs": [],
   "source": [
    "edgerep = [np.multiply(model.wv.get_vector(str(u)), model.wv.get_vector(str(v))) for u, v in pairs]"
   ]
  },
  {
   "cell_type": "code",
   "execution_count": 19,
   "metadata": {},
   "outputs": [
    {
     "data": {
      "text/plain": [
       "array([ 1.99326756e-03,  3.55617665e-02, -1.03616752e-01,  2.19479442e-01,\n",
       "        7.47208968e-02, -2.34495580e-01,  2.60082692e-01,  1.53253555e-01,\n",
       "        2.84805503e-02,  2.01972112e-01,  4.59548645e-02,  9.46486145e-02,\n",
       "       -2.53715869e-02, -5.73649034e-02,  1.06381172e-04,  7.26601575e-03,\n",
       "        4.19349484e-02,  7.00017884e-02, -1.85569432e-02, -1.19985454e-01,\n",
       "       -3.21399756e-02,  2.43899494e-01, -4.24645171e-02,  2.16103330e-01,\n",
       "        6.43621624e-01, -3.49727869e-01,  5.09458423e-01,  1.10678084e-01,\n",
       "        1.80659875e-01,  2.93642312e-01, -4.68817711e-01, -1.26549587e-01],\n",
       "      dtype=float32)"
      ]
     },
     "execution_count": 19,
     "metadata": {},
     "output_type": "execute_result"
    }
   ],
   "source": [
    "edgerep[0]"
   ]
  },
  {
   "cell_type": "code",
   "execution_count": 34,
   "metadata": {},
   "outputs": [],
   "source": [
    "minus_q2 = list(set(pairs).difference(edges_q2))"
   ]
  },
  {
   "cell_type": "code",
   "execution_count": 35,
   "metadata": {},
   "outputs": [],
   "source": [
    "y_train = [edge in edges_q1 for edge in minus_q2]"
   ]
  },
  {
   "cell_type": "code",
   "execution_count": 36,
   "metadata": {},
   "outputs": [
    {
     "data": {
      "text/plain": [
       "(338600, 338600)"
      ]
     },
     "execution_count": 36,
     "metadata": {},
     "output_type": "execute_result"
    }
   ],
   "source": [
    "sum(y_train), len(edges_q1.difference(edges_q2))"
   ]
  },
  {
   "cell_type": "code",
   "execution_count": 50,
   "metadata": {},
   "outputs": [
    {
     "data": {
      "text/plain": [
       "array([5.44051565e-02, 9.27825421e-02, 1.17456876e-01, 9.95067954e-01,\n",
       "       5.95249653e-01, 1.54920375e+00, 3.28084175e-03, 1.75502311e-04,\n",
       "       1.97557993e-02, 5.48107445e-01, 7.69455126e-03, 4.41962898e-01,\n",
       "       2.77047098e-01, 2.03030825e+00, 4.77981955e-01, 2.06815839e-01,\n",
       "       2.25393131e-04, 2.14937814e-02, 1.95710363e-05, 3.06967020e-01,\n",
       "       1.35606930e-01, 2.07813442e-01, 3.50289792e-01, 2.45498121e-01,\n",
       "       3.72117907e-01, 3.86738062e-01, 7.13143647e-02, 1.30053088e-02,\n",
       "       2.58672833e-02, 3.62732522e-02, 6.47538364e-01, 6.02031112e-01],\n",
       "      dtype=float32)"
      ]
     },
     "execution_count": 50,
     "metadata": {},
     "output_type": "execute_result"
    }
   ],
   "source": [
    "(model.wv.get_vector(str(u))- model.wv.get_vector(str(v)))**2"
   ]
  },
  {
   "cell_type": "code",
   "execution_count": 37,
   "metadata": {},
   "outputs": [],
   "source": [
    "x_train = [np.multiply(model.wv.get_vector(str(u)), model.wv.get_vector(str(v))) for u, v in minus_q2]"
   ]
  },
  {
   "cell_type": "code",
   "execution_count": 46,
   "metadata": {},
   "outputs": [],
   "source": [
    "x_train = [abs(model.wv.get_vector(str(u))- model.wv.get_vector(str(v))) for u, v in minus_q2]"
   ]
  },
  {
   "cell_type": "code",
   "execution_count": 47,
   "metadata": {},
   "outputs": [],
   "source": [
    "edgerep = [abs(model.wv.get_vector(str(u))- model.wv.get_vector(str(v))) for u, v in pairs]"
   ]
  },
  {
   "cell_type": "code",
   "execution_count": 51,
   "metadata": {},
   "outputs": [],
   "source": [
    "x_train = [(model.wv.get_vector(str(u))- model.wv.get_vector(str(v)))**2 for u, v in minus_q2]\n",
    "edgerep = [(model.wv.get_vector(str(u))- model.wv.get_vector(str(v)))**2 for u, v in pairs]"
   ]
  },
  {
   "cell_type": "code",
   "execution_count": 48,
   "metadata": {},
   "outputs": [
    {
     "data": {
      "text/plain": [
       "(0.9496093289258162, 0.38039147517132016)"
      ]
     },
     "execution_count": 48,
     "metadata": {},
     "output_type": "execute_result"
    }
   ],
   "source": [
    "lg = LogisticRegression(penalty='l2',C=0.001)\n",
    "lg.fit(x_train,y_train)\n",
    "lg_y_pred_est = lg.predict_proba(edgerep)[:,1]\n",
    "fpr,tpr,thresholds = metrics.roc_curve(truth,lg_y_pred_est)\n",
    "metrics.auc(fpr,tpr), metrics.average_precision_score(truth,lg_y_pred_est)"
   ]
  },
  {
   "cell_type": "code",
   "execution_count": 43,
   "metadata": {},
   "outputs": [
    {
     "data": {
      "text/plain": [
       "(0.935332837824568, 0.31882295272929934)"
      ]
     },
     "execution_count": 43,
     "metadata": {},
     "output_type": "execute_result"
    }
   ],
   "source": []
  },
  {
   "cell_type": "code",
   "execution_count": 52,
   "metadata": {},
   "outputs": [
    {
     "data": {
      "text/plain": [
       "(0.9495045317398229, 0.3810955830785046)"
      ]
     },
     "execution_count": 52,
     "metadata": {},
     "output_type": "execute_result"
    }
   ],
   "source": [
    "from sklearn.linear_model import LogisticRegression\n",
    "lg = LogisticRegression(penalty='l2',C=0.001)\n",
    "lg.fit(x_train,y_train)\n",
    "lg_y_pred_est = lg.predict_proba(edgerep)[:,1]\n",
    "fpr,tpr,thresholds = metrics.roc_curve(truth,lg_y_pred_est)\n",
    "metrics.auc(fpr,tpr), metrics.average_precision_score(truth,lg_y_pred_est)"
   ]
  },
  {
   "cell_type": "code",
   "execution_count": null,
   "metadata": {},
   "outputs": [],
   "source": []
  }
 ],
 "metadata": {
  "kernelspec": {
   "display_name": "Python 2",
   "language": "python",
   "name": "python2"
  },
  "language_info": {
   "codemirror_mode": {
    "name": "ipython",
    "version": 2
   },
   "file_extension": ".py",
   "mimetype": "text/x-python",
   "name": "python",
   "nbconvert_exporter": "python",
   "pygments_lexer": "ipython2",
   "version": "2.7.15"
  }
 },
 "nbformat": 4,
 "nbformat_minor": 2
}
